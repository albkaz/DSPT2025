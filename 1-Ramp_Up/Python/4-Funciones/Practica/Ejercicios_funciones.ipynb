{
 "cells": [
  {
   "cell_type": "markdown",
   "metadata": {},
   "source": [
    "![imagen](./img/ejercicios.png)"
   ]
  },
  {
   "cell_type": "markdown",
   "metadata": {},
   "source": [
    "# Ejercicios funciones\n",
    "## Ejercicio 1\n",
    "Escribe una función que convierta números del 1 al 7 en nombres de los dias de la semana. La función constará de un único argumento numérico y una salida de tipo string"
   ]
  },
  {
   "cell_type": "code",
   "execution_count": 1,
   "metadata": {},
   "outputs": [
    {
     "data": {
      "text/plain": [
       "'Miércoles'"
      ]
     },
     "execution_count": 1,
     "metadata": {},
     "output_type": "execute_result"
    }
   ],
   "source": [
    "def dia_semana(dia:int)->str:\n",
    "    \"\"\"\n",
    "    Convierte el número del día de la semana al nombre del día de la semana\n",
    "    \n",
    "    input:\n",
    "        dia: int\n",
    "    \n",
    "    output:\n",
    "        dia_semana: str\n",
    "    \"\"\"\n",
    "    #En vez de comprobar con un match-case voy a usar una tupla con los días de la semana y acceder por posiscion\n",
    "    \n",
    "    #Se crea la tupla con los días de la semana. Primer día de la semana es Domingo\n",
    "    semana = ('Domingo', 'Lunes','Martes','Miércoles', 'Jueves', 'Viernes', 'Sábado')\n",
    "    #se comprueba si el valor introducido es correcto: entero entre el 1 y el 7\n",
    "    if not isinstance(dia,int) or dia not in range(1,8):\n",
    "        return \"El día de la semana introducido no es correcto\"\n",
    "    else:\n",
    "        #Restamos 1 al día porque a las tuplas se accede desde la posicion 0 en vez de 1\n",
    "        return semana[dia-1]\n",
    "\n",
    "\n",
    "dia_semana(4)"
   ]
  },
  {
   "cell_type": "markdown",
   "metadata": {},
   "source": [
    "## Ejercicio 2\n",
    "En el ejercicio 8 de flujos de control, creábamos una pirámide invertida de números desde el 5. Crea una función que replique el comportamiento de la pirámide, y utiliza un único parámetro de entrada de la función para determinar el número de filas de la pirámide."
   ]
  },
  {
   "cell_type": "code",
   "execution_count": 2,
   "metadata": {},
   "outputs": [
    {
     "name": "stdout",
     "output_type": "stream",
     "text": [
      "20 19 18 17 16 15 14 13 12 11 10 9 8 7 6 5 4 3 2 1\n",
      "19 18 17 16 15 14 13 12 11 10 9 8 7 6 5 4 3 2 1\n",
      "18 17 16 15 14 13 12 11 10 9 8 7 6 5 4 3 2 1\n",
      "17 16 15 14 13 12 11 10 9 8 7 6 5 4 3 2 1\n",
      "16 15 14 13 12 11 10 9 8 7 6 5 4 3 2 1\n",
      "15 14 13 12 11 10 9 8 7 6 5 4 3 2 1\n",
      "14 13 12 11 10 9 8 7 6 5 4 3 2 1\n",
      "13 12 11 10 9 8 7 6 5 4 3 2 1\n",
      "12 11 10 9 8 7 6 5 4 3 2 1\n",
      "11 10 9 8 7 6 5 4 3 2 1\n",
      "10 9 8 7 6 5 4 3 2 1\n",
      "9 8 7 6 5 4 3 2 1\n",
      "8 7 6 5 4 3 2 1\n",
      "7 6 5 4 3 2 1\n",
      "6 5 4 3 2 1\n",
      "5 4 3 2 1\n",
      "4 3 2 1\n",
      "3 2 1\n",
      "2 1\n",
      "1\n"
     ]
    }
   ],
   "source": [
    "\n",
    "\n",
    "def piramide_numeros(numero:int)->None:\n",
    "    \"\"\"\n",
    "    Esta imprime la pirámide de un número.\n",
    "    \n",
    "    Input:\n",
    "        numero: int\n",
    "        \n",
    "    Output: None\n",
    "    \n",
    "    \"\"\"\n",
    "    #Voy a usar el metodo recursivo.\n",
    "    #Si el número vale 1, se imprime y finaliza.\n",
    "    if numero==1:\n",
    "        print(numero)\n",
    "    else:\n",
    "        #Se crea una lista con los numeros y se imprime\n",
    "        lista = list(range(numero,0,-1))\n",
    "        print(*lista)\n",
    "        #se vuelve a llamar a la función pasando como parámetro el numero inferior\n",
    "        piramide_numeros(numero-1)    \n",
    "        \n",
    "piramide_numeros(20)"
   ]
  },
  {
   "cell_type": "markdown",
   "metadata": {},
   "source": [
    "## Ejercicio 3\n",
    "Escribe una función que compare dos números. La función tiene dos argumentos y hay tres salidas posibles: que sean iguales, que el primero sea  mayor que el segundo, o que el segundo sea mayor que el primero"
   ]
  },
  {
   "cell_type": "code",
   "execution_count": 3,
   "metadata": {},
   "outputs": [
    {
     "name": "stdout",
     "output_type": "stream",
     "text": [
      "1,1.0 -> Los dos números son iguales\n",
      "1,0.5 -> El primero es mayor que el segundo número\n",
      "1,1.5 -> El segundo número es mayor que el primero\n"
     ]
    }
   ],
   "source": [
    "def compara_numeros(numero_1: int | float, numero_2: int | float)->str:\n",
    "    \"\"\"\n",
    "    Esta función compara dos numeros indicando si son iguales,\n",
    "    si el primero es mayor que el segundo\n",
    "    o si el segundo número es mayor que el primero\n",
    "    \n",
    "    Input:\n",
    "        numero_1: int | float\n",
    "        numero_1: int | float\n",
    "    \n",
    "    Output:\n",
    "        compara_numeros: str \n",
    "    \"\"\"\n",
    "    if numero_1 > numero_2:\n",
    "        return \"El primero es mayor que el segundo número\"\n",
    "    elif numero_1 == numero_2:\n",
    "        return \"Los dos números son iguales\"\n",
    "    else:\n",
    "        return \"El segundo número es mayor que el primero\"\n",
    "\n",
    "print(\"1,1.0 ->\",compara_numeros(1,1.0))\n",
    "print(\"1,0.5 ->\", compara_numeros(1,0.5))\n",
    "print(\"1,1.5 ->\", compara_numeros(1,1.5))    "
   ]
  },
  {
   "attachments": {},
   "cell_type": "markdown",
   "metadata": {},
   "source": [
    "## Ejercicio 4\n",
    "Escribe una función que sea un contador de letras. En el primer argumento tienes que introducir un texto, y el segundo que sea una letra que contar. La función tiene que devolver un entero con el número de veces que aparece esa letra, tanto mayúscula, como minúscula"
   ]
  },
  {
   "cell_type": "code",
   "execution_count": 4,
   "metadata": {},
   "outputs": [
    {
     "name": "stdout",
     "output_type": "stream",
     "text": [
      "4\n",
      "4\n",
      "4\n",
      "0\n",
      "El valor del parametro letra no es correcto, tiene que ser un caracter\n",
      "0\n"
     ]
    }
   ],
   "source": [
    "def cuenta_letras(texto:str, letra:str)->int:\n",
    "    \"\"\"\n",
    "    Esta función cuenta el número de veces que se encuentra una letra en un texto.\n",
    "    \n",
    "    Input:\n",
    "        texto: str\n",
    "        letra: str\n",
    "        \n",
    "    Output:\n",
    "        resultado: int \n",
    "    \"\"\"\n",
    "    \n",
    "    #comprobamos que el texto es un string\n",
    "    if not isinstance(texto, str):\n",
    "        return \"El valor del parametro texto no es correcto, tiene que ser una cadena de caracteres\"\n",
    "    #comprobamos que la letra sea un caracter. Permitimos cualquier tipo de caracter.\n",
    "    if not isinstance(letra, str) or len(letra)!=1:\n",
    "        return \"El valor del parametro letra no es correcto, tiene que ser un caracter\"\n",
    "    return texto.upper().count(letra.upper())\n",
    "\n",
    "\n",
    "print(cuenta_letras(\"Esta es una cadena de texto\", \"a\"))\n",
    "print(cuenta_letras(\"Esta es una cadena de texto\", \"A\"))\n",
    "print(cuenta_letras(\"EstA es una cadenA de texto\", \"a\"))\n",
    "print(cuenta_letras(\"Otro texto\",\"a\"))\n",
    "print(cuenta_letras(\"Otro texto\",\"texto\"))\n",
    "print(cuenta_letras(\"Otro texto\",\"ó\"))"
   ]
  },
  {
   "cell_type": "markdown",
   "metadata": {},
   "source": [
    "## Ejercicio 5\n",
    "Escribe una función que tenga un único argumento, un string. La salida de la función tiene que ser un diccionario con el conteo de todas las letras de ese string, siendo la clave la letra y el valor el conteo."
   ]
  },
  {
   "cell_type": "code",
   "execution_count": 5,
   "metadata": {},
   "outputs": [
    {
     "data": {
      "text/plain": [
       "{'a': 2, 'b': 2, 'c': 2, 'd': 4, 'e': 2}"
      ]
     },
     "execution_count": 5,
     "metadata": {},
     "output_type": "execute_result"
    }
   ],
   "source": [
    "def numero_letras(texto: str)->dict:\n",
    "    \"\"\"\n",
    "    Esta función crea un diccionario en el que se muestra \n",
    "    el conteo de cada una de las letras\n",
    "    \n",
    "    No se diferencia entre minusculas y mayuscula\n",
    "    \n",
    "    Input:\n",
    "        texto: str\n",
    "    \n",
    "    Output:\n",
    "        numero_letras: dict \n",
    "    \"\"\"\n",
    "    \n",
    "    #se crea el diccionario que se va a devolver\n",
    "    resultado = dict()\n",
    "    \n",
    "    #voy a usar un bucle para recorrer todas las letras de la lista.\n",
    "    #pasaré la cadena a minusculas ya que no voy a diferenciar entre mayusculas y minusculas\n",
    "    for letra in texto.lower():\n",
    "        #si la letra no existe en el diccionario, lo creamos con valor 0\n",
    "        if not letra in resultado:\n",
    "            resultado[letra]=0\n",
    "        #sumamos 1 al conteo de la letra\n",
    "        resultado[letra] += 1\n",
    "    return resultado\n",
    "\n",
    "numero_letras(\"AaBbCcDddDee\")"
   ]
  },
  {
   "cell_type": "markdown",
   "metadata": {},
   "source": [
    "## Ejercicio 6\n",
    "Escribir una función que añada o elimine elementos en una lista. La función necesita los siguientes argumentos:\n",
    "* lista: la lista donde se añadirán o eliminarán los elementos\n",
    "* comando: \"add\" o \"remove\"\n",
    "* elemento: Por defecto es None.\n",
    "\n",
    "Tendrá como salida la lista"
   ]
  },
  {
   "cell_type": "code",
   "execution_count": 6,
   "metadata": {},
   "outputs": [],
   "source": [
    "def actualiza_lista(lista:list, comando:str, elemento: any =None)->list:\n",
    "    \"\"\"\n",
    "    Función que añade o elimina un elemento de una lista.\n",
    "    \n",
    "    Si no se indica el elemento o el valor es None, no actualiza la lista\n",
    "    \n",
    "    El comando solo puede tener los valores \"add\" o \"remove\"\n",
    "    \n",
    "    Input:\n",
    "        lista: list\n",
    "        comando: str\n",
    "        elemento: Any\n",
    "        \n",
    "    Output:\n",
    "        lista: list    \n",
    "        \n",
    "    \"\"\"\n",
    "    #comprobamos que el comando es correcto\n",
    "    if comando not in (\"add\",\"remove\"):\n",
    "        print(\"El comando no es correcto\")\n",
    "    elif elemento!=None:\n",
    "        if comando==\"add\":\n",
    "            lista.append(elemento)\n",
    "        else:\n",
    "            try:\n",
    "                lista.remove(elemento)\n",
    "            except ValueError as e:\n",
    "                print(\"El elemento no existe en la lista\")\n",
    "        \n",
    "    return lista\n",
    "\n",
    "lista = [\"abc\", 1, {\"a\":2, \"b\":\"c\"}]   "
   ]
  },
  {
   "cell_type": "code",
   "execution_count": 7,
   "metadata": {},
   "outputs": [
    {
     "name": "stdout",
     "output_type": "stream",
     "text": [
      "El comando no es correcto\n",
      "['abc', 1, {'a': 2, 'b': 'c'}]\n"
     ]
    }
   ],
   "source": [
    "\n",
    "#Indico un comando no válido\n",
    "actualiza_lista(lista,\"otro\",\"add_1\")\n",
    "print(lista)  "
   ]
  },
  {
   "cell_type": "code",
   "execution_count": 8,
   "metadata": {},
   "outputs": [
    {
     "name": "stdout",
     "output_type": "stream",
     "text": [
      "['abc', 1, {'a': 2, 'b': 'c'}, 'add_1']\n"
     ]
    }
   ],
   "source": [
    "#Añado un valor sin dar el nombre del parametro\n",
    "actualiza_lista(lista,\"add\",\"add_1\")\n",
    "print(lista)\n"
   ]
  },
  {
   "cell_type": "code",
   "execution_count": 9,
   "metadata": {},
   "outputs": [
    {
     "name": "stdout",
     "output_type": "stream",
     "text": [
      "['abc', 1, {'a': 2, 'b': 'c'}, 'add_1', 'add_2']\n"
     ]
    }
   ],
   "source": [
    "#Añado un valor indicando el nombre del parametro \"elemento\"  \n",
    "actualiza_lista(lista,\"add\",elemento=\"add_2\")\n",
    "print(lista)\n",
    " "
   ]
  },
  {
   "cell_type": "code",
   "execution_count": 10,
   "metadata": {},
   "outputs": [
    {
     "name": "stdout",
     "output_type": "stream",
     "text": [
      "['abc', 1, {'a': 2, 'b': 'c'}, 'add_1', 'add_2']\n"
     ]
    }
   ],
   "source": [
    "#No indico el valor a añadir  \n",
    "actualiza_lista(lista,\"add\")\n",
    "print(lista)\n"
   ]
  },
  {
   "cell_type": "code",
   "execution_count": 11,
   "metadata": {},
   "outputs": [
    {
     "name": "stdout",
     "output_type": "stream",
     "text": [
      "['abc', 1, {'a': 2, 'b': 'c'}, 'add_1', 'add_2']\n"
     ]
    }
   ],
   "source": [
    "#No indico el valor a eliminar  \n",
    "actualiza_lista(lista,\"remove\")\n",
    "print(lista)\n"
   ]
  },
  {
   "cell_type": "code",
   "execution_count": 12,
   "metadata": {},
   "outputs": [
    {
     "name": "stdout",
     "output_type": "stream",
     "text": [
      "['abc', 1, 'add_1', 'add_2']\n"
     ]
    }
   ],
   "source": [
    "#Elimino un valor que existe \n",
    "actualiza_lista(lista,\"remove\", elemento={'a': 2, 'b': 'c'})\n",
    "print(lista) "
   ]
  },
  {
   "cell_type": "markdown",
   "metadata": {},
   "source": [
    "## Ejercicio 7\n",
    "Crea una función que reciba un número arbitrario de palabras, y devuelva una frase completa, separando las palabras con espacios."
   ]
  },
  {
   "cell_type": "code",
   "execution_count": 13,
   "metadata": {},
   "outputs": [
    {
     "data": {
      "text/plain": [
       "'Esta es una frase creada con la función \"crea_frase\"'"
      ]
     },
     "execution_count": 13,
     "metadata": {},
     "output_type": "execute_result"
    }
   ],
   "source": [
    "def crea_frase(*palabras:str)->str:\n",
    "    \"\"\"\n",
    "    Crea una frase a partir de las palabras que se le pasan como parametro, separándolas por espacios\n",
    "    \n",
    "    La función recibe como parametro tantas palabras como se quiera.\n",
    "    \n",
    "    Input:\n",
    "        *palabras: str. Una o mas palabras a concatenar\n",
    "        \n",
    "    Output:\n",
    "        str\n",
    "    \"\"\"\n",
    "    return \" \".join(palabras)\n",
    "\n",
    "crea_frase(\"Esta\",\"es\", \"una\", \"frase\", \"creada\", \"con\", \"la\", \"función\", \"\\\"crea_frase\\\"\")"
   ]
  },
  {
   "cell_type": "markdown",
   "metadata": {},
   "source": [
    "## Ejercicio 8\n",
    "Escribe un programa que obtenga el enésimo número de la [serie de Fibonacci](https://es.wikipedia.org/wiki/Sucesi%C3%B3n_de_Fibonacci). Tienes que crear una función recursiva con un único argumento.\n",
    "\n",
    "```Python\n",
    "fibonacci(2) = 1\n",
    "fibonacci(4) = 3\n",
    "fibonacci(5) = 5\n",
    "fibonacci(8) = 21\n",
    "```"
   ]
  },
  {
   "cell_type": "markdown",
   "metadata": {},
   "source": [
    "fibonacci(n) = fibonacci(n-1) + fibonacci(n-2)"
   ]
  },
  {
   "cell_type": "code",
   "execution_count": 14,
   "metadata": {},
   "outputs": [
    {
     "name": "stdout",
     "output_type": "stream",
     "text": [
      "-4 0\n",
      "-3 0\n",
      "-2 0\n",
      "-1 0\n",
      "0 0\n",
      "1 1\n",
      "2 1\n",
      "3 2\n",
      "4 3\n",
      "5 5\n",
      "6 8\n",
      "7 13\n",
      "8 21\n",
      "9 34\n"
     ]
    }
   ],
   "source": [
    "def fibonacci(numero:int)->int:\n",
    "    \"\"\"\n",
    "    Devulve la el valor de la serie de fibonacci\n",
    "    \n",
    "    Input:\n",
    "        numero: int\n",
    "    \n",
    "    Output:\n",
    "        finbonacci(numero-1) + fibonacci(numero-2)\n",
    "    \"\"\"\n",
    "    #si el número es menor que 1, devolvemos 0 y finalizamos la recursividad\n",
    "    if numero < 1:\n",
    "        return 0\n",
    "    #si el número es 1, devolvemos 1 y finalizamos la recursividad\n",
    "    elif numero==1:\n",
    "        return 1\n",
    "    else:\n",
    "        #si el número es mayor que 1, llamamos a la función de forma recursiva\n",
    "        return fibonacci(numero-1) + fibonacci(numero-2)\n",
    "\n",
    "\n",
    "for n in range(-4, 10):\n",
    "    print(n, fibonacci(n))"
   ]
  },
  {
   "attachments": {},
   "cell_type": "markdown",
   "metadata": {},
   "source": [
    "## Ejercicio 9\n",
    "Define en una única celda las siguientes funciones:\n",
    "* Función que calcule el área de un cuadrado\n",
    "* Función que calcule el área de un triángulo\n",
    "* Función que calcule el área de un círculo\n",
    "\n",
    "En otra celda, calcular el area de:\n",
    "* Dos círculos de radio 10 + un triángulo de base 3 y altura 7\n",
    "* Un cuadrado de lado = 10 + 3 círculos (uno de radio = 4 y los otros dos de radio = 6) + 5 triángulos de base = 2 + altura = 4"
   ]
  },
  {
   "cell_type": "code",
   "execution_count": 15,
   "metadata": {},
   "outputs": [],
   "source": [
    "import math\n",
    "def area_cuadrado(lado:int|float=0)->int|float:\n",
    "    \"\"\"\n",
    "    Calcula el área de un cuadrado\n",
    "    \n",
    "    Input:\n",
    "        altura: int | float\n",
    "        base: int | float\n",
    "        \n",
    "    Output:\n",
    "        lado**2: int | float \n",
    "    \"\"\"\n",
    "    \n",
    "    return lado**2\n",
    "\n",
    "\n",
    "def area_triangulo(base: int|float=0, altura: int|float=0)->int|float:\n",
    "    \"\"\"\n",
    "    Calcula el área de un triangulo en base a la altura y la base \n",
    "    \n",
    "    Input:\n",
    "        altura: int | float\n",
    "        base: int | float\n",
    "        \n",
    "    Output:\n",
    "        altura * base /2 : int | float \n",
    "        \n",
    "    \"\"\"\n",
    "    return altura * base / 2\n",
    "\n",
    "def area_circulo(radio: int|float=0)->float:\n",
    "    \"\"\"\n",
    "    Calcula el área de un círculo en base al radio\n",
    "    \n",
    "    Input:\n",
    "        base: int | float\n",
    "    Output:\n",
    "        Pi * radio ** 2: int | float \n",
    "        \n",
    "    \"\"\"\n",
    "    return math.pi * radio**2"
   ]
  },
  {
   "cell_type": "code",
   "execution_count": 16,
   "metadata": {},
   "outputs": [
    {
     "data": {
      "text/plain": [
       "638.8185307179587"
      ]
     },
     "execution_count": 16,
     "metadata": {},
     "output_type": "execute_result"
    }
   ],
   "source": [
    "#Dos círculos de radio 10 + un triángulo de base 3 y altura 7\n",
    "2 * area_circulo(10) + area_triangulo(3,7)"
   ]
  },
  {
   "cell_type": "code",
   "execution_count": 17,
   "metadata": {},
   "outputs": [
    {
     "data": {
      "text/plain": [
       "396.46015351590177"
      ]
     },
     "execution_count": 17,
     "metadata": {},
     "output_type": "execute_result"
    }
   ],
   "source": [
    "#Un cuadrado de lado = 10 + 3 círculos (uno de radio = 4 y los otros dos de radio = 6) + 5 triángulos de base = 2 + altura = 4\n",
    "area_cuadrado(10) + area_circulo(4) + 2 * area_circulo(6) + 5 * area_triangulo(base=2,altura=4)"
   ]
  },
  {
   "cell_type": "markdown",
   "metadata": {},
   "source": [
    "## Ejercicio 10\n",
    "\n",
    "Guarda las funciones de estos ejercicios en un fichero llamado `funciones.py` e importalas desde este jupyter notebook para probar que puedes hacer uso de ellas."
   ]
  },
  {
   "cell_type": "code",
   "execution_count": null,
   "metadata": {},
   "outputs": [
    {
     "name": "stdout",
     "output_type": "stream",
     "text": [
      "20.0\n",
      "283.5287369864788\n"
     ]
    }
   ],
   "source": [
    "#importo la libreria de funciones y llamo a las funciones usando la librería\n",
    "import funciones\n",
    "\n",
    "print(funciones.area_triangulo(5,8))\n",
    "print(funciones.area_circulo(9.5))"
   ]
  },
  {
   "cell_type": "code",
   "execution_count": 19,
   "metadata": {},
   "outputs": [
    {
     "name": "stdout",
     "output_type": "stream",
     "text": [
      "78.53981633974483\n",
      "64\n"
     ]
    }
   ],
   "source": [
    "#Importo las funciones que voy a usar desde la librería funciones.\n",
    "#En este caso renombro las funciones cargadas para que no machaquen las que hemos creado en el ejercicio 9.\n",
    "from funciones import area_circulo as circulo, area_cuadrado as cuadrado\n",
    "print(circulo(5))\n",
    "print(cuadrado(8))"
   ]
  }
 ],
 "metadata": {
  "kernelspec": {
   "display_name": ".venv",
   "language": "python",
   "name": "python3"
  },
  "language_info": {
   "codemirror_mode": {
    "name": "ipython",
    "version": 3
   },
   "file_extension": ".py",
   "mimetype": "text/x-python",
   "name": "python",
   "nbconvert_exporter": "python",
   "pygments_lexer": "ipython3",
   "version": "3.11.9"
  }
 },
 "nbformat": 4,
 "nbformat_minor": 4
}
