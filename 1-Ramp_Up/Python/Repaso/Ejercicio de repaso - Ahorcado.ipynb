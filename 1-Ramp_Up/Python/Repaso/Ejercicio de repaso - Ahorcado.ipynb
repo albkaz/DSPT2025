{
 "cells": [
  {
   "attachments": {},
   "cell_type": "markdown",
   "metadata": {},
   "source": [
    "## Juego del Ahorcado\n",
    "Desarrolla el juego del ahorcado en python. En cada turno irá mostrando por pantalla ```_ _ _ _ _``` las rayas bajas correspondientes al número de letras que tiene la palabra a adivinar. El usuario deberá insertar una letra y, si esa letra existe, se mostrará o mostrarán las letras acertadas ```S _ S _ _``` en sus posiciones correspondientes. \n",
    "\n",
    "Si falla, se mostrará el número de errores que lleva y, si lleva x errores, entonces se mostrará \"Fin del juego\"."
   ]
  },
  {
   "cell_type": "markdown",
   "metadata": {},
   "source": [
    "1. Inicializa el juego: declara una palabra a adivinar y muestra por pantalla la palabra oculta.\n"
   ]
  },
  {
   "cell_type": "markdown",
   "metadata": {},
   "source": [
    "\n",
    "```python\n",
    "_ _ _ _ _ _ _ _\n",
    "```"
   ]
  },
  {
   "cell_type": "code",
   "execution_count": 5,
   "metadata": {},
   "outputs": [
    {
     "name": "stdout",
     "output_type": "stream",
     "text": [
      "Palabra: _ _ _ _ _ _\n"
     ]
    }
   ],
   "source": [
    "palabra_adivinar = input(\"Introduce la palabra\")\n",
    "# palabra_adivinar = \"Palabra\"l\n",
    "resultado = list(\"_\"*len(palabra_adivinar))\n",
    "print(\"Palabra:\", *resultado)"
   ]
  },
  {
   "cell_type": "markdown",
   "metadata": {},
   "source": [
    "2. Funcionamiento turnos: mediante un bucle genera el sistema de turnos donde el usuario introduce una letra y le va mostrando su progreso y sus vidas."
   ]
  },
  {
   "cell_type": "code",
   "execution_count": null,
   "metadata": {},
   "outputs": [
    {
     "name": "stdout",
     "output_type": "stream",
     "text": [
      "_ _ _ _ _ _ _\n",
      "No has introducido una letra\n",
      "Has acertado la letra\n",
      "Palabra: _ a _ a _ _ a\n",
      "Has acertado la letra\n",
      "Palabra: P a _ a _ _ a\n",
      "No has acertado\n",
      "Palabra: P a _ a _ _ a\n",
      "Te quedan 9 vidas, vuelve a intentarlo\n",
      "No has acertado\n",
      "Palabra: P a _ a _ _ a\n",
      "Te quedan 8 vidas, vuelve a intentarlo\n",
      "No has acertado\n",
      "Palabra: P a _ a _ _ a\n",
      "Te quedan 7 vidas, vuelve a intentarlo\n",
      "No has acertado\n",
      "Palabra: P a _ a _ _ a\n",
      "Te quedan 6 vidas, vuelve a intentarlo\n",
      "No has acertado\n",
      "Palabra: P a _ a _ _ a\n",
      "Te quedan 5 vidas, vuelve a intentarlo\n",
      "No has acertado\n",
      "Palabra: P a _ a _ _ a\n",
      "Te quedan 4 vidas, vuelve a intentarlo\n",
      "Has acertado la letra\n",
      "Palabra: P a l a _ _ a\n",
      "Has acertado la letra\n",
      "Palabra: P a l a b _ a\n",
      "Has acertado la letra\n",
      "¡¡FELILCIDADES!! Has acertado. La palabra era  Palabra\n"
     ]
    }
   ],
   "source": [
    "palabra_min = palabra_adivinar.strip().lower()\n",
    "vidas = 10\n",
    "letras_introducidas = set()\n",
    "while vidas > 0:\n",
    "    letra_encontrada = False\n",
    "    letra = input('Inroduce una letra').lower()\n",
    "    if len(letra)>1:\n",
    "        print(\"Solo puede introducir una letra\")\n",
    "    elif letra < 'a' or letra > 'z':\n",
    "        print(\"No has introducido una letra\")\n",
    "    elif letra in letras_introducidas:\n",
    "        print('Ya has introducido esa letra')\n",
    "    else:\n",
    "        letras_introducidas.add(letra)\n",
    "        if letra in palabra_min:\n",
    "            index = palabra_min.find(letra)\n",
    "            while index >= 0:\n",
    "                resultado[index]=palabra_adivinar[index]\n",
    "                index = palabra_min.find(letra, index + 1)\n",
    "            print(\"Has acertado la letra\")\n",
    "            letra_encontrada=True\n",
    "            del index\n",
    "            \n",
    "        else:\n",
    "            print(\"No has acertado\")\n",
    "            vidas -= 1\n",
    "            \n",
    "        if \"_\" in resultado:\n",
    "            if (vidas >0 ):\n",
    "                print(\"Palabra:\", *resultado)\n",
    "                if not letra_encontrada: \n",
    "                    print(F\"Te quedan {vidas} vidas, vuelve a intentarlo\")\n",
    "                \n",
    "            else:\n",
    "                print(\"¡¡Ohhhh!! Has llegado al final de tus vidas\")\n",
    "                print(\"La palabra buscada era\", palabra_adivinar)\n",
    "        else:\n",
    "            print(\"¡¡FELILCIDADES!! Has acertado. La palabra era \", palabra_adivinar)\n",
    "            vidas = 0"
   ]
  },
  {
   "cell_type": "markdown",
   "metadata": {},
   "source": [
    "3. Desarrolla la finalización de la partida, tanto si gana como si pierde."
   ]
  },
  {
   "cell_type": "code",
   "execution_count": null,
   "metadata": {},
   "outputs": [],
   "source": []
  }
 ],
 "metadata": {
  "kernelspec": {
   "display_name": ".venv",
   "language": "python",
   "name": "python3"
  },
  "language_info": {
   "codemirror_mode": {
    "name": "ipython",
    "version": 3
   },
   "file_extension": ".py",
   "mimetype": "text/x-python",
   "name": "python",
   "nbconvert_exporter": "python",
   "pygments_lexer": "ipython3",
   "version": "3.11.9"
  },
  "orig_nbformat": 4
 },
 "nbformat": 4,
 "nbformat_minor": 2
}
