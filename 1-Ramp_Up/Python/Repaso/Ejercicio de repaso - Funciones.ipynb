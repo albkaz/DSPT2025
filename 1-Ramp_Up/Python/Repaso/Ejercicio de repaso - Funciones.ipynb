{
 "cells": [
  {
   "attachments": {},
   "cell_type": "markdown",
   "metadata": {},
   "source": [
    "### Ejercicio 1 \n",
    "Desarrolla una función que reciba dos palabras cualesquiera y devuelva el número de letras que tienen en común."
   ]
  },
  {
   "cell_type": "code",
   "execution_count": null,
   "metadata": {},
   "outputs": [
    {
     "name": "stdout",
     "output_type": "stream",
     "text": [
      "Palabra 1 Mariano\n",
      "Palabra 2 Hoola\n",
      "Set con letras en común {'a', 'o'}\n",
      "Número de letras en común 2\n"
     ]
    }
   ],
   "source": [
    "def compara_palabras():\n",
    "    palabra_1:str = str(input('Introduce una palabra'))\n",
    "    palabra_2:str = str(input('Introduce una segunda palabra'))\n",
    "\n",
    "    #voy a utilziar sets para recuperar las letras en comun con el metodo intersection.\n",
    "    #set(str) devulve un set con todas las letras de la cadena\n",
    "    #lo paso todo a minúsculas para no diferenciar entre mayusculas y minúsculas\n",
    "    print(\"Palabra 1\", palabra_1)\n",
    "    print(\"Palabra 2\", palabra_2)\n",
    "    letras_en_comun = set(palabra_1.lower()) & set(palabra_2.lower())\n",
    "    # letras_en_comun = set(palabra_1.lower()).intersection(set(palabra_2.lower()))\n",
    "    print(\"Set con letras en común\", letras_en_comun)\n",
    "    print(\"Número de letras en común\",len(letras_en_comun))\n",
    "    \n",
    "compara_palabras()"
   ]
  },
  {
   "attachments": {},
   "cell_type": "markdown",
   "metadata": {},
   "source": [
    "### Ejercicio 2\n",
    "Un número primo es aquel número que solo es divisible por 1 y por si mismo (2,3,5,7,11,13,...). Define una función que pida al usuario un número natural mayor que 2 y devuelva si se trata de un número primo o no."
   ]
  },
  {
   "cell_type": "code",
   "execution_count": null,
   "metadata": {},
   "outputs": [
    {
     "data": {
      "text/plain": [
       "True"
      ]
     },
     "execution_count": 6,
     "metadata": {},
     "output_type": "execute_result"
    }
   ],
   "source": [
    "def es_primo()->bool:\n",
    "    \"\"\"\n",
    "    Función que pide por consola un número natural mayor que 2 y devuelve un booleano indicando si es o no primo.\n",
    "    \n",
    "    Outputs:\n",
    "        es_primo: bool indica si el número introducido es primo\n",
    "     \n",
    "    \"\"\"\n",
    "    \n",
    "    numero_natural = int(input(\"Introduce un número natural mayor que 2\"))\n",
    "    while (numero_natural<=2):\n",
    "        numero_natural = int(input(\"Introduce un número natural mayor que 2\"))\n",
    "    \n",
    "    return not (numero_natural % 2 == 0 \n",
    "        or (numero_natural % 3 == 0 and numero_natural!=3)\n",
    "        or (numero_natural % 5 == 0 and numero_natural!=5)\n",
    "        or (numero_natural % 7 == 0 and numero_natural!=7)\n",
    "        )\n",
    "    \n",
    "    # for div in range(2,numero_natural):\n",
    "    #     if numero_natural % div == 0:\n",
    "    #         return False\n",
    "    # return True \n",
    "        \n",
    "    \n",
    "    \n",
    "es_primo()\n"
   ]
  },
  {
   "attachments": {},
   "cell_type": "markdown",
   "metadata": {},
   "source": [
    "### Ejercicio 3\n",
    "Desarrollar una función en la que se vaya pidiendo números reales al usuario (uno por uno) y una vez el usuario ingrese la palabra ***terminar***, la función devuelva el valor máximo y mínimo de los números ingresados por el usuario.\n"
   ]
  },
  {
   "cell_type": "code",
   "execution_count": null,
   "metadata": {},
   "outputs": [
    {
     "name": "stdout",
     "output_type": "stream",
     "text": [
      "El valor introducido no es un número\n",
      "El valor introducido no es un número\n",
      "El valor introducido no es un número\n",
      "(25541265, 5)\n"
     ]
    }
   ],
   "source": [
    "def lista_numeros():\n",
    "    numeros = list()\n",
    "    valor = input('Número real')\n",
    "    while valor.lower().strip() != \"terminar\":\n",
    "        try:\n",
    "            numeros.append(float(valor))\n",
    "        except:\n",
    "            print(\"El valor introducido no es un número\")\n",
    "        valor = input('Número entero')\n",
    "    return max(numeros), min(numeros)\n",
    "\n",
    "\n",
    "print(lista_numeros())\n",
    "    "
   ]
  },
  {
   "attachments": {},
   "cell_type": "markdown",
   "metadata": {},
   "source": [
    "### Ejercicio 4\n",
    "Desarrollar una función que reciba como entrada una lista de palabras y devuelva la longitud de la palabra más corta y la palabra más larga."
   ]
  },
  {
   "cell_type": "code",
   "execution_count": null,
   "metadata": {},
   "outputs": [
    {
     "data": {
      "text/plain": [
       "(6, 13)"
      ]
     },
     "execution_count": 1,
     "metadata": {},
     "output_type": "execute_result"
    }
   ],
   "source": [
    "def longitudes_palabra(lista_palabras:list[str])->tuple:\n",
    "    if len(lista_palabras)> 0:\n",
    "        lista_longitudes = [len(palabra) for palabra in lista_palabras]\n",
    "        # posicion_mas_larga = lista_longitudes.index(max(lista_longitudes))\n",
    "        return min(lista_longitudes), max(lista_longitudes)\n",
    "    else:\n",
    "        return 0,0\n",
    "# longitudes_palabra([\"Juanito\",\"banana\",\"aaJuxxxxxxxxx\"])"
   ]
  },
  {
   "attachments": {},
   "cell_type": "markdown",
   "metadata": {},
   "source": [
    "### Ejercicio 5 \n",
    "Definir una función que reciba una cadena de caracteres y devuelva un diccionario cuyas claves sean las cinco vocales y sus valores sean sus frecuencias dentro de la cadena respectivamente."
   ]
  },
  {
   "cell_type": "code",
   "execution_count": null,
   "metadata": {},
   "outputs": [
    {
     "data": {
      "text/plain": [
       "{'a': 4, 'e': 3, 'i': 0, 'o': 2, 'u': 2}"
      ]
     },
     "execution_count": 2,
     "metadata": {},
     "output_type": "execute_result"
    }
   ],
   "source": [
    "#creo una lista con todas las vocales en minúsculas.\n",
    "#la usaré para crear el diccionario y para filtrar las vocales de la cadena\n",
    "VOCALES = \"aeiou\"\n",
    "\n",
    "def numero_vocales(cadena:str)->dict:\n",
    "    \"\"\"\n",
    "    Función que dada una cadena de carateres devuelve un diccionario con las vocales y y su frecuencia\n",
    "    \n",
    "    Inputs:\n",
    "        cadena: str\n",
    "    \n",
    "    Output:\n",
    "        dict con las vocales \n",
    "    \"\"\"\n",
    "    \n",
    "    #Se crea el diccionario de vocales\n",
    "    dic_vocales = {}\n",
    "    for letra in VOCALES:\n",
    "        dic_vocales[letra]=cadena.lower().count(letra)\n",
    "        \n",
    "    return dic_vocales\n",
    "\n",
    "\n",
    "numero_vocales(\"Hola Mundo. Esta es una frase.\")"
   ]
  },
  {
   "attachments": {},
   "cell_type": "markdown",
   "metadata": {},
   "source": [
    "### Ejercicio 6\n",
    "Definir un programa que pida al usuario dos palabras y devuelva ***True*** si las palabras riman y ***False*** si las palabras no riman."
   ]
  },
  {
   "cell_type": "code",
   "execution_count": 5,
   "metadata": {},
   "outputs": [
    {
     "data": {
      "text/plain": [
       "True"
      ]
     },
     "execution_count": 5,
     "metadata": {},
     "output_type": "execute_result"
    }
   ],
   "source": [
    "\"\"\"\"\n",
    "Voy a planterarlo de la siguiedo el principio de rima consonante:\n",
    "Supondré que las palabras riman cuando las letras son iguales en la última sílaba. \n",
    "Tomo como última silaba lo que hay a partir de la anteúltima vocal\n",
    "\"\"\"\n",
    "\n",
    "def obtener_ultima_silaba(palabra:str):\n",
    "    silaba=\"\"\n",
    "    letras = list(palabra.lower())\n",
    "    letras.reverse()\n",
    "    tiene_vocal=False\n",
    "    for letra in letras:\n",
    "        silaba = letra + silaba\n",
    "        if letra in \"aeiouáéíóú\":\n",
    "            if tiene_vocal:\n",
    "                break\n",
    "            else:\n",
    "                tiene_vocal=True\n",
    "        \n",
    "    return silaba\n",
    "def riman(palabra_1:str, palabra_2:str):\n",
    "    return obtener_ultima_silaba(palabra_1)==obtener_ultima_silaba(palabra_2)\n",
    "\n",
    "\n",
    "riman(\"queso\", \"beso\")\n",
    "    "
   ]
  },
  {
   "attachments": {},
   "cell_type": "markdown",
   "metadata": {},
   "source": [
    "### Ejercicio 7\n",
    "Desarrollar una función que reciba una lista de números y devuelva una lista de listas (lista = [$\\text{sublista}_{1}$,$\\text{sublista}_{2}$,$\\text{sublista}_{3}$]), en la que cada sublista contendrá determinados números.\n",
    "\n",
    "* sublista1: los números que tengan de 1-6 cifras.\n",
    "* sublista2: los números que tengan de 7-12 cifras.\n",
    "* sublista3: los números que tengan m´as de 12 cifras.\n",
    "\n",
    "**Nota**: cuidado cuando tengamos un número negativo o con decimales.\n"
   ]
  },
  {
   "cell_type": "code",
   "execution_count": 18,
   "metadata": {},
   "outputs": [
    {
     "data": {
      "text/plain": [
       "[[1, 12, 34, 1.5, -2], [123456, 1234567], [123456789012, 1234567890123]]"
      ]
     },
     "execution_count": 18,
     "metadata": {},
     "output_type": "execute_result"
    }
   ],
   "source": [
    "def separar_en_listas(lista:list[int|float]):\n",
    "    \"\"\"\n",
    "    Función que dada una lista de números, devuelve una lista con los números agrupados en sublistas en función \n",
    "    del número de digitos: 1-6 digitos, 7-12 digitos, más de 12 digitos\n",
    "    \n",
    "    \n",
    "    \"\"\"\n",
    "    lista_1_6 = []\n",
    "    lista_7_12 = []\n",
    "    lista_13 = []\n",
    "    lista_resultado = [lista_1_6, lista_7_12, lista_13]\n",
    "    \n",
    "    for numero in lista:\n",
    "        #comprobamos que sea numérico.\n",
    "        if isinstance(numero, (int, float)):\n",
    "            #para sacar la longitud:\n",
    "            #1-obtenemos el valor absoluto para eliminar \"-\" en los negativos\n",
    "            #2-lo pasamos a string y eliminamos el separador decimal \".\" sustituyendolo por la cadena vacío porqie puede ser un float\n",
    "            #3-obtenemos la longitud, que será el número de digitos\n",
    "            longitud = len(str(abs(numero)).replace(\".\",\"\"))\n",
    "            posicion = longitud // 6\n",
    "            if posicion < 2:\n",
    "                lista_resultado[posicion].append(numero)\n",
    "            else:\n",
    "                lista_resultado[2].append(numero)\n",
    "                \n",
    "            # if longitud in range(1,7):\n",
    "            #      lista_1_6.append(numero)\n",
    "            # elif longitud in range(7,13):\n",
    "            #      lista_7_12.append(numero)\n",
    "            # else:\n",
    "            #     lista_13.append(numero)\n",
    "                \n",
    "            \n",
    "    \n",
    "    return lista_resultado\n",
    "\n",
    "\n",
    "separar_en_listas([1,12,34,123456, 1234567, 123456789012, 1234567890123, 1.5, -2])"
   ]
  }
 ],
 "metadata": {
  "kernelspec": {
   "display_name": ".venv",
   "language": "python",
   "name": "python3"
  },
  "language_info": {
   "codemirror_mode": {
    "name": "ipython",
    "version": 3
   },
   "file_extension": ".py",
   "mimetype": "text/x-python",
   "name": "python",
   "nbconvert_exporter": "python",
   "pygments_lexer": "ipython3",
   "version": "3.11.9"
  }
 },
 "nbformat": 4,
 "nbformat_minor": 2
}
