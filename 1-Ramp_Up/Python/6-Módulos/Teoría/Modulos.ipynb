{
 "cells": [
  {
   "cell_type": "markdown",
   "metadata": {},
   "source": [
    "![imagen](./img/python.jpg)\n",
    "\n",
    "# Módulos y bibliotecas en Python\n",
    "\n",
    "Hasta ahora hemos desarrollado programas no muy complicados que cabían en una celda de un Notebook, pero poco a poco se va complicando más la cosa. ¿Qué ocurrirá cuando tengamos varias Clases definidas, funciones, datos declarados, llamadas a paginas web...? ¿Lo vamos a tener todo en una celda/Notebook? Para ayudarnos con esto utilizaremos la sentencia `import`, pudiendo dividir nuestro programa en varios scripts de Python, y no solo eso, sino que tendremos también la opción de usar librerías de terceros en nuestro código, lo que va a ayudar mucho en el desarrollo.\n",
    "\n",
    "Para este Notebook se recomienda tener otro IDE como VSCode, Spyder o Pycharm.\n",
    "\n",
    "1. [import](#1.-import)\n",
    "2. [Bibliotecas](#2.-Bibliotecas)\n",
    "3. [Resumen](#3.-Resumen)"
   ]
  },
  {
   "cell_type": "markdown",
   "metadata": {},
   "source": [
    "## 1. import\n",
    "Recuerda que hay que **evitar en la medida de lo posible tener código repetido o duplicado**, por lo que funcionalidades que uses en diferentes partes del código no tendrás que copiar y pegarlas en todos lados, sino que existe la posibilidad de definirlas una sola vez, e importarlas después.\n",
    "\n",
    "Por tanto, según vamos complicando nuestros programas, surge la necesidad de modularizarlo, es decir, poder dividirlo y paquetizarlo. Como habrás podido imaginar, programas productivos como una página web o un juego, no van en un Notebook, sino en varios scripts de Python. Según las diferentes funcionalidades del código, lo iremos dividiendo en varias partes. Por ejemplo, en un script pueden ir funciones auxiliares, en otro constantes, en otro tus Clases... Veamos algunos conceptos\n",
    "\n",
    "**Script**\n",
    "\n",
    "No es más que un archivo con código Python. Estos archivos tienen la extensión `.py`, por lo que un ejemplo podría ser `primer_script.py`.\n",
    "\n",
    "**Módulo/Biblioteca/Librería/Paquete**\n",
    "\n",
    "Son términos parecidos que se suelen utilizar para referirse a lo mismo. A efectos prácticos, los consideraremos igual. Se trata de paquetes de código que tienen una funcionalidad bien definida y podremos importar en nuestros programas de Python, utilizando lo que haya dentro (clases, funciones, variables...).\n",
    "\n",
    "**import**\n",
    "\n",
    "Palabra reservada y sentencia que se usa en Python para importar cualquier objeto en nuestro código. Se usa para importar variables, funciones o módulos.\n",
    "\n",
    "Veamos cómo podemos importar objetos de otros scripts"
   ]
  },
  {
   "cell_type": "code",
   "execution_count": 1,
   "metadata": {},
   "outputs": [
    {
     "name": "stdout",
     "output_type": "stream",
     "text": [
      "Writing primer_script.py\n"
     ]
    }
   ],
   "source": [
    "%%file primer_script.py\n",
    "\"\"\"\n",
    "Example of a python module. Contains a variable called my_variable,\n",
    "a function called my_function, and a class called MyClass.\n",
    "\"\"\"\n",
    "\n",
    "my_variable = 0\n",
    "\n",
    "def my_function():\n",
    "    \"\"\"\n",
    "    Example function\n",
    "    \"\"\"\n",
    "    return my_variable\n",
    "    \n",
    "class MyClass:\n",
    "    \"\"\"\n",
    "    Example class.\n",
    "    \"\"\"\n",
    "\n",
    "    def __init__(self):\n",
    "        self.variable = my_variable\n",
    "        \n",
    "    def set_variable(self, new_value):\n",
    "        \"\"\"\n",
    "        Set self.variable to a new value\n",
    "        \"\"\"\n",
    "        self.variable = new_value\n",
    "        \n",
    "    def get_variable(self):\n",
    "        return self.variable"
   ]
  },
  {
   "cell_type": "markdown",
   "metadata": {},
   "source": [
    "Tenemos en otro script una variable, una función y una clase definida. Ahora lo importamos"
   ]
  },
  {
   "cell_type": "code",
   "execution_count": null,
   "metadata": {},
   "outputs": [],
   "source": [
    "import primer_script\n",
    "\n",
    "help(primer_script)"
   ]
  },
  {
   "cell_type": "markdown",
   "metadata": {},
   "source": [
    "Como siempre en cualquier lenguaje de programación **tenemos que fijarnos siempre dónde está apuntando el Notebook**, es decir, en qué directorio de trabajo va a leer el script. Al poner `import primer_script`, va a buscar ese script en el **mismo directorio donde esté el Notebook**. Si lo tenemos en otro lado del ordenador, no lo detectará. Cuando realizas el importado Python no recorre todas las carpetas del ordenador, lo busca en el mismo sitio donde está el Notebook. Más delante veremos cómo leer scripts de otros directorios.\n",
    "\n",
    "Si queremos acceder a cualquier objeto del módulo, simplemente utilizamos la sintaxis `nombre_modulo.objeto`"
   ]
  },
  {
   "cell_type": "code",
   "execution_count": null,
   "metadata": {},
   "outputs": [],
   "source": [
    "print(primer_script.my_variable)\n",
    "print(primer_script.my_function)\n",
    "print(primer_script.MyClass)"
   ]
  },
  {
   "cell_type": "code",
   "execution_count": null,
   "metadata": {},
   "outputs": [],
   "source": [
    "primer_script.my_function()"
   ]
  },
  {
   "cell_type": "code",
   "execution_count": null,
   "metadata": {},
   "outputs": [],
   "source": [
    "new_object = primer_script.MyClass()\n",
    "print(new_object)\n",
    "print(new_object.get_variable())"
   ]
  },
  {
   "cell_type": "markdown",
   "metadata": {},
   "source": [
    "[Aquí](https://docs.python.org/3/reference/import.html) tienes el enlace a la documentación del `import` por si tienes dudas, o necesitas realizar operaciones más complejas con el importado de módulos."
   ]
  },
  {
   "cell_type": "markdown",
   "metadata": {},
   "source": [
    "<table align=\"left\">\n",
    " <tr><td width=\"80\"><img src=\"./img/error.png\" style=\"width:auto;height:auto\"></td>\n",
    "     <td style=\"text-align:left\">\n",
    "         <h3>ERRORES Importado de módulos</h3>\n",
    "         \n",
    " </td></tr>\n",
    "</table>"
   ]
  },
  {
   "cell_type": "markdown",
   "metadata": {},
   "source": [
    "Típico error cuando intentamos acceder a un módulo que pensamos que está instalado en el intérprete de Anaconda, o queremos acceder a un *.py* que en realidad no está en la ruta deseada."
   ]
  },
  {
   "cell_type": "code",
   "execution_count": null,
   "metadata": {},
   "outputs": [],
   "source": [
    "import mi_modulo"
   ]
  },
  {
   "cell_type": "markdown",
   "metadata": {},
   "source": [
    "O si intentamos acceder una función/atributo que en realidad no existe en el módulo."
   ]
  },
  {
   "cell_type": "code",
   "execution_count": null,
   "metadata": {},
   "outputs": [],
   "source": [
    "primer_script.my_function2()"
   ]
  },
  {
   "cell_type": "markdown",
   "metadata": {},
   "source": [
    "<table align=\"left\">\n",
    " <tr><td width=\"80\"><img src=\"./img/ejercicio.png\" style=\"width:auto;height:auto\"></td>\n",
    "     <td style=\"text-align:left\">\n",
    "         <h3>Crear un script</h3>\n",
    "         \n",
    "Crea un nuevo script de Python (es un archivo .py) y ponle de nombre \"ejer_prueba.py\". Lo puedes crear desde el propio Jupyter Lab desde File -> New -> Text File. O también desde VSCode/Pycharm\n",
    "         \n",
    "         Declara dos variables en el script\n",
    "         a = 1\n",
    "         b = 2\n",
    "\n",
    "Importa ambas variables e imprimelas por pantalla.\n",
    "\n",
    "NOTA: si estás seguro de que está bien y no te reconoce las variables, prueba a reiniciar el kernel.\n",
    " </td></tr>\n",
    "</table>"
   ]
  },
  {
   "cell_type": "code",
   "execution_count": null,
   "metadata": {},
   "outputs": [],
   "source": [
    "# AQUÍ VA TU CÓDIGO"
   ]
  },
  {
   "cell_type": "markdown",
   "metadata": {},
   "source": [
    "Tienes otras maneras de importar datos, ya que en ocasiones desconocemos lo que hay dentro del módulo, o simplemente no queremos utilizar todo lo que hay."
   ]
  },
  {
   "cell_type": "code",
   "execution_count": null,
   "metadata": {},
   "outputs": [],
   "source": [
    "from primer_script import my_variable\n",
    "\n",
    "print(my_variable)"
   ]
  },
  {
   "cell_type": "code",
   "execution_count": null,
   "metadata": {},
   "outputs": [],
   "source": [
    "primer_script.my_function()"
   ]
  },
  {
   "cell_type": "code",
   "execution_count": null,
   "metadata": {},
   "outputs": [],
   "source": [
    "from math import pi\n",
    "\n",
    "print(pi)"
   ]
  },
  {
   "cell_type": "markdown",
   "metadata": {},
   "source": [
    "En este caso ya no es necesario usar la sintaxis `modulo.objeto`, sino que el objeto ya está cargado en memoria. Es como si lo hubiésemos ejecuctado en una celda.\n",
    "\n",
    "Otra opción es importar todo. **NO es lo recomendable**. Porque el módulo podría tener muchas variables o funciones que no necesitemos, y ocupan espacio en memoria."
   ]
  },
  {
   "cell_type": "code",
   "execution_count": null,
   "metadata": {},
   "outputs": [],
   "source": [
    "# import primer_script\n",
    "from primer_script import *"
   ]
  },
  {
   "cell_type": "markdown",
   "metadata": {},
   "source": [
    "**¿Y si tenemos el archivo en otra carpeta?** La sintaxis es la misma. Si dentro de la carpeta donde está el Notebook, hay otra carpeta llamada `direc_segundo`, y dentro de esa carpeta hay otro script llamado `segundo_script.py`, podrás acceder a los objetos de ese escript mediante la sintaxis `import direc_segundo.segundo_script`"
   ]
  },
  {
   "cell_type": "markdown",
   "metadata": {},
   "source": [
    "<table align=\"left\">\n",
    " <tr><td width=\"80\"><img src=\"./img/ejercicio.png\" style=\"width:auto;height:auto\"></td>\n",
    "     <td style=\"text-align:left\">\n",
    "         <h3>Crear un script dentro de una carpeta</h3>\n",
    "         \n",
    "En el mismo sitio donde se encuentra este Notebook, crea la carpeta \"direc_segundo\", y dentro de la carpeta crea otro script llamado \"segundo_script.py\".\n",
    "         \n",
    "         Declara dos variables en el script\n",
    "         c = 3\n",
    "         d = 4\n",
    "\n",
    "Importa ambas variables e imprimelas por pantalla.\n",
    "         \n",
    " </td></tr>\n",
    "</table>"
   ]
  },
  {
   "cell_type": "code",
   "execution_count": null,
   "metadata": {},
   "outputs": [],
   "source": [
    "# AQUÍ VA TU CÓDIGO"
   ]
  },
  {
   "cell_type": "markdown",
   "metadata": {},
   "source": [
    "En estos casos resulta muy útil ponerle un alias al `import`. Esto nos ayudará a acortar el nombre y a poner uno más intuitivo"
   ]
  },
  {
   "cell_type": "markdown",
   "metadata": {},
   "source": [
    "Por útimo, **¿y si nuestros módulos no están en una carpeta dentro del proyecto donde estamos trabajando, sino en otra carpeta del ordenador, o en directorios anteriores?** Esto lo podemos solucionar mediante `sys.path`. `sys` es el módulo de Python que se usa para manejar las variables del sistema y el intérprete. Y `path` es una lista de strings con una serie de rutas donde acude el intérprete de Python cuando tiene que buscar un módulo. [Tienes aqui la documentación de `sys`](https://docs.python.org/3/library/sys.html)"
   ]
  },
  {
   "cell_type": "code",
   "execution_count": null,
   "metadata": {},
   "outputs": [],
   "source": [
    "import sys\n",
    "\n",
    "sys.path"
   ]
  },
  {
   "cell_type": "markdown",
   "metadata": {},
   "source": [
    "Si queremos que el intérprete de Python entienda de otros módulos que **no están en la carpeta de Notebook**, tendremos que añadir esa ruta a la lista de paths mediante la sintaxis `sys.path.append(la_nueva_ruta)`. Recuerda que `sys.path` es una lista, por lo que podrás aplicarle lo que ya sabes sobre listas."
   ]
  },
  {
   "cell_type": "markdown",
   "metadata": {},
   "source": [
    "<table align=\"left\">\n",
    " <tr><td width=\"80\"><img src=\"./img/ejercicio.png\" style=\"width:auto;height:auto\"></td>\n",
    "     <td style=\"text-align:left\">\n",
    "         <h3>Añadir un nuevo path</h3>\n",
    "         \n",
    "Crea un nuevo directorio en otra ruta del ordenador, por ejemplo en el escritorio. Llámalo \"direc_tercero\" e introduce dentro un nuevo script que se llame \"tercer_script.py\". Tendrás que añadir el path de ese directorio a los paths de sys.\n",
    "         \n",
    "         Declara dos variables en el script\n",
    "         e = 5\n",
    "         f = 6\n",
    "\n",
    "\n",
    "Importa ambas variables e imprimelas por pantalla.\n",
    "         \n",
    " </td></tr>\n",
    "</table>"
   ]
  },
  {
   "cell_type": "code",
   "execution_count": null,
   "metadata": {},
   "outputs": [],
   "source": [
    "# AQUÍ VA TU CÓDIGO"
   ]
  },
  {
   "cell_type": "markdown",
   "metadata": {},
   "source": [
    "Una vez creado el nuevo directorio, se recomienda copiar su ruta y pegarla en el `append`"
   ]
  },
  {
   "cell_type": "markdown",
   "metadata": {},
   "source": [
    "Con lo visto en este Notebook tienes conocimiento de sobra para manejar tu programa en varios scripts, pero si quieres aprender más sobre el concepto `import`, te recomiendo que te leas [este artículo](https://chrisyeh96.github.io/2017/08/08/definitive-guide-python-imports.html)."
   ]
  },
  {
   "cell_type": "markdown",
   "metadata": {},
   "source": [
    "## 2. Bibliotecas\n",
    "Hasta ahora, todas las funcionalidades que necesitabas en Python las has ido desarrollando con tu propio código. Esto está bien, pero no siempre es necesario. **Existen muchísimas librerías que pueden hacer el trabajo por ti**, por lo que antes de implementar algo, ***no reinventes la rueda***. Se listo y busca si ya hay algo hecho en la web. Esto es lo bueno de trabajar con un lenguaje open source, que existe una comunidad con muchísimos desarrolladores y hay una gran cantidad de código publicado de manera gratuita. Por tanto, ¿De dónde podemos sacar estos códigos mágicos?\n",
    "\n",
    "* **[Biblioteca estándar de Python](https://docs.python.org/3/library/index.html#the-python-standard-library)**: aqui tienes muchas de las cosas que hemos visto ya (tipos de datos, el móduglo math...) y mucho más (lectura de archivos, compresión, acceso a BBDD...).\n",
    "* **Bibliotecas de terceros**: librerías que no vienen en el paquete por defecto de Python. Estas librerías o bien las implementa un particular o una empresa, y son de código abierto. Anaconda está muy orientado a la ciencia de datos, por lo que tiene librerías muy interesantes que utilizaremos durante el curso (pandas, numpy o sklearn). Además de estás librerías, podrás añadir al intérprete de Python todas las que necesites\n",
    "\n",
    "Veamos un ejemplo de importación de una librería"
   ]
  },
  {
   "cell_type": "code",
   "execution_count": 5,
   "metadata": {},
   "outputs": [
    {
     "ename": "ModuleNotFoundError",
     "evalue": "No module named 'numpy'",
     "output_type": "error",
     "traceback": [
      "\u001b[31m---------------------------------------------------------------------------\u001b[39m",
      "\u001b[31mModuleNotFoundError\u001b[39m                       Traceback (most recent call last)",
      "\u001b[36mCell\u001b[39m\u001b[36m \u001b[39m\u001b[32mIn[5]\u001b[39m\u001b[32m, line 1\u001b[39m\n\u001b[32m----> \u001b[39m\u001b[32m1\u001b[39m \u001b[38;5;28;01mimport\u001b[39;00m\u001b[38;5;250m \u001b[39m\u001b[34;01mnumpy\u001b[39;00m\u001b[38;5;250m \u001b[39m\u001b[38;5;28;01mas\u001b[39;00m\u001b[38;5;250m \u001b[39m\u001b[34;01mnp\u001b[39;00m\n",
      "\u001b[31mModuleNotFoundError\u001b[39m: No module named 'numpy'"
     ]
    }
   ],
   "source": [
    "import numpy as np"
   ]
  },
  {
   "cell_type": "code",
   "execution_count": 7,
   "metadata": {},
   "outputs": [
    {
     "name": "stdout",
     "output_type": "stream",
     "text": [
      "Collecting numpy\n",
      "  Downloading numpy-2.2.4-cp311-cp311-win_amd64.whl.metadata (60 kB)\n",
      "Downloading numpy-2.2.4-cp311-cp311-win_amd64.whl (12.9 MB)\n",
      "   ---------------------------------------- 0.0/12.9 MB ? eta -:--:--\n",
      "   ---------------------------------------- 0.0/12.9 MB ? eta -:--:--\n",
      "    --------------------------------------- 0.3/12.9 MB ? eta -:--:--\n",
      "    --------------------------------------- 0.3/12.9 MB ? eta -:--:--\n",
      "   - -------------------------------------- 0.5/12.9 MB 621.2 kB/s eta 0:00:20\n",
      "   - -------------------------------------- 0.5/12.9 MB 621.2 kB/s eta 0:00:20\n",
      "   - -------------------------------------- 0.5/12.9 MB 621.2 kB/s eta 0:00:20\n",
      "   -- ------------------------------------- 0.8/12.9 MB 479.7 kB/s eta 0:00:26\n",
      "   -- ------------------------------------- 0.8/12.9 MB 479.7 kB/s eta 0:00:26\n",
      "   --- ------------------------------------ 1.0/12.9 MB 535.7 kB/s eta 0:00:23\n",
      "   ---- ----------------------------------- 1.3/12.9 MB 599.2 kB/s eta 0:00:20\n",
      "   ---- ----------------------------------- 1.3/12.9 MB 599.2 kB/s eta 0:00:20\n",
      "   ---- ----------------------------------- 1.6/12.9 MB 630.8 kB/s eta 0:00:19\n",
      "   ---- ----------------------------------- 1.6/12.9 MB 630.8 kB/s eta 0:00:19\n",
      "   ----- ---------------------------------- 1.8/12.9 MB 633.2 kB/s eta 0:00:18\n",
      "   ------ --------------------------------- 2.1/12.9 MB 648.9 kB/s eta 0:00:17\n",
      "   ------ --------------------------------- 2.1/12.9 MB 648.9 kB/s eta 0:00:17\n",
      "   ------- -------------------------------- 2.4/12.9 MB 639.2 kB/s eta 0:00:17\n",
      "   ------- -------------------------------- 2.4/12.9 MB 639.2 kB/s eta 0:00:17\n",
      "   ------- -------------------------------- 2.4/12.9 MB 639.2 kB/s eta 0:00:17\n",
      "   -------- ------------------------------- 2.6/12.9 MB 613.9 kB/s eta 0:00:17\n",
      "   -------- ------------------------------- 2.6/12.9 MB 613.9 kB/s eta 0:00:17\n",
      "   -------- ------------------------------- 2.6/12.9 MB 613.9 kB/s eta 0:00:17\n",
      "   -------- ------------------------------- 2.6/12.9 MB 613.9 kB/s eta 0:00:17\n",
      "   -------- ------------------------------- 2.6/12.9 MB 613.9 kB/s eta 0:00:17\n",
      "   -------- ------------------------------- 2.6/12.9 MB 613.9 kB/s eta 0:00:17\n",
      "   -------- ------------------------------- 2.6/12.9 MB 613.9 kB/s eta 0:00:17\n",
      "   -------- ------------------------------- 2.9/12.9 MB 500.8 kB/s eta 0:00:21\n",
      "   -------- ------------------------------- 2.9/12.9 MB 500.8 kB/s eta 0:00:21\n",
      "   -------- ------------------------------- 2.9/12.9 MB 500.8 kB/s eta 0:00:21\n",
      "   --------- ------------------------------ 3.1/12.9 MB 481.9 kB/s eta 0:00:21\n",
      "   --------- ------------------------------ 3.1/12.9 MB 481.9 kB/s eta 0:00:21\n",
      "   --------- ------------------------------ 3.1/12.9 MB 481.9 kB/s eta 0:00:21\n",
      "   ---------- ----------------------------- 3.4/12.9 MB 478.2 kB/s eta 0:00:20\n",
      "   ---------- ----------------------------- 3.4/12.9 MB 478.2 kB/s eta 0:00:20\n",
      "   ---------- ----------------------------- 3.4/12.9 MB 478.2 kB/s eta 0:00:20\n",
      "   ----------- ---------------------------- 3.7/12.9 MB 478.3 kB/s eta 0:00:20\n",
      "   ----------- ---------------------------- 3.7/12.9 MB 478.3 kB/s eta 0:00:20\n",
      "   ----------- ---------------------------- 3.7/12.9 MB 478.3 kB/s eta 0:00:20\n",
      "   ------------ --------------------------- 3.9/12.9 MB 470.7 kB/s eta 0:00:20\n",
      "   ------------ --------------------------- 3.9/12.9 MB 470.7 kB/s eta 0:00:20\n",
      "   ------------ --------------------------- 4.2/12.9 MB 476.6 kB/s eta 0:00:19\n",
      "   ------------ --------------------------- 4.2/12.9 MB 476.6 kB/s eta 0:00:19\n",
      "   ------------- -------------------------- 4.5/12.9 MB 483.7 kB/s eta 0:00:18\n",
      "   ------------- -------------------------- 4.5/12.9 MB 483.7 kB/s eta 0:00:18\n",
      "   -------------- ------------------------- 4.7/12.9 MB 490.9 kB/s eta 0:00:17\n",
      "   -------------- ------------------------- 4.7/12.9 MB 490.9 kB/s eta 0:00:17\n",
      "   --------------- ------------------------ 5.0/12.9 MB 495.9 kB/s eta 0:00:17\n",
      "   --------------- ------------------------ 5.0/12.9 MB 495.9 kB/s eta 0:00:17\n",
      "   ---------------- ----------------------- 5.2/12.9 MB 508.4 kB/s eta 0:00:16\n",
      "   ----------------- ---------------------- 5.5/12.9 MB 518.6 kB/s eta 0:00:15\n",
      "   ----------------- ---------------------- 5.5/12.9 MB 518.6 kB/s eta 0:00:15\n",
      "   ----------------- ---------------------- 5.8/12.9 MB 528.2 kB/s eta 0:00:14\n",
      "   ------------------ --------------------- 6.0/12.9 MB 538.8 kB/s eta 0:00:13\n",
      "   ------------------ --------------------- 6.0/12.9 MB 538.8 kB/s eta 0:00:13\n",
      "   ------------------- -------------------- 6.3/12.9 MB 542.7 kB/s eta 0:00:13\n",
      "   -------------------- ------------------- 6.6/12.9 MB 553.9 kB/s eta 0:00:12\n",
      "   --------------------- ------------------ 6.8/12.9 MB 563.0 kB/s eta 0:00:11\n",
      "   --------------------- ------------------ 6.8/12.9 MB 563.0 kB/s eta 0:00:11\n",
      "   --------------------- ------------------ 7.1/12.9 MB 568.7 kB/s eta 0:00:11\n",
      "   --------------------- ------------------ 7.1/12.9 MB 568.7 kB/s eta 0:00:11\n",
      "   ---------------------- ----------------- 7.3/12.9 MB 567.7 kB/s eta 0:00:10\n",
      "   ---------------------- ----------------- 7.3/12.9 MB 567.7 kB/s eta 0:00:10\n",
      "   ---------------------- ----------------- 7.3/12.9 MB 567.7 kB/s eta 0:00:10\n",
      "   ---------------------- ----------------- 7.3/12.9 MB 567.7 kB/s eta 0:00:10\n",
      "   ---------------------- ----------------- 7.3/12.9 MB 567.7 kB/s eta 0:00:10\n",
      "   ----------------------- ---------------- 7.6/12.9 MB 548.2 kB/s eta 0:00:10\n",
      "   ----------------------- ---------------- 7.6/12.9 MB 548.2 kB/s eta 0:00:10\n",
      "   ------------------------ --------------- 7.9/12.9 MB 546.7 kB/s eta 0:00:10\n",
      "   ------------------------ --------------- 7.9/12.9 MB 546.7 kB/s eta 0:00:10\n",
      "   ------------------------ --------------- 7.9/12.9 MB 546.7 kB/s eta 0:00:10\n",
      "   ------------------------- -------------- 8.1/12.9 MB 547.1 kB/s eta 0:00:09\n",
      "   ------------------------- -------------- 8.1/12.9 MB 547.1 kB/s eta 0:00:09\n",
      "   ------------------------- -------------- 8.4/12.9 MB 546.9 kB/s eta 0:00:09\n",
      "   -------------------------- ------------- 8.7/12.9 MB 552.9 kB/s eta 0:00:08\n",
      "   -------------------------- ------------- 8.7/12.9 MB 552.9 kB/s eta 0:00:08\n",
      "   --------------------------- ------------ 8.9/12.9 MB 557.6 kB/s eta 0:00:08\n",
      "   --------------------------- ------------ 8.9/12.9 MB 557.6 kB/s eta 0:00:08\n",
      "   --------------------------- ------------ 8.9/12.9 MB 557.6 kB/s eta 0:00:08\n",
      "   --------------------------- ------------ 8.9/12.9 MB 557.6 kB/s eta 0:00:08\n",
      "   ---------------------------- ----------- 9.2/12.9 MB 542.7 kB/s eta 0:00:07\n",
      "   ---------------------------- ----------- 9.2/12.9 MB 542.7 kB/s eta 0:00:07\n",
      "   ---------------------------- ----------- 9.2/12.9 MB 542.7 kB/s eta 0:00:07\n",
      "   ---------------------------- ----------- 9.2/12.9 MB 542.7 kB/s eta 0:00:07\n",
      "   ----------------------------- ---------- 9.4/12.9 MB 532.4 kB/s eta 0:00:07\n",
      "   ----------------------------- ---------- 9.4/12.9 MB 532.4 kB/s eta 0:00:07\n",
      "   ----------------------------- ---------- 9.4/12.9 MB 532.4 kB/s eta 0:00:07\n",
      "   ----------------------------- ---------- 9.4/12.9 MB 532.4 kB/s eta 0:00:07\n",
      "   ----------------------------- ---------- 9.7/12.9 MB 524.3 kB/s eta 0:00:07\n",
      "   ----------------------------- ---------- 9.7/12.9 MB 524.3 kB/s eta 0:00:07\n",
      "   ----------------------------- ---------- 9.7/12.9 MB 524.3 kB/s eta 0:00:07\n",
      "   ------------------------------ --------- 10.0/12.9 MB 521.7 kB/s eta 0:00:06\n",
      "   ------------------------------ --------- 10.0/12.9 MB 521.7 kB/s eta 0:00:06\n",
      "   ------------------------------- -------- 10.2/12.9 MB 524.3 kB/s eta 0:00:06\n",
      "   -------------------------------- ------- 10.5/12.9 MB 529.8 kB/s eta 0:00:05\n",
      "   -------------------------------- ------- 10.5/12.9 MB 529.8 kB/s eta 0:00:05\n",
      "   --------------------------------- ------ 10.7/12.9 MB 530.1 kB/s eta 0:00:05\n",
      "   --------------------------------- ------ 10.7/12.9 MB 530.1 kB/s eta 0:00:05\n",
      "   ---------------------------------- ----- 11.0/12.9 MB 532.4 kB/s eta 0:00:04\n",
      "   ---------------------------------- ----- 11.0/12.9 MB 532.4 kB/s eta 0:00:04\n",
      "   ---------------------------------- ----- 11.0/12.9 MB 532.4 kB/s eta 0:00:04\n",
      "   ---------------------------------- ----- 11.3/12.9 MB 532.2 kB/s eta 0:00:04\n",
      "   ----------------------------------- ---- 11.5/12.9 MB 538.0 kB/s eta 0:00:03\n",
      "   ----------------------------------- ---- 11.5/12.9 MB 538.0 kB/s eta 0:00:03\n",
      "   ------------------------------------ --- 11.8/12.9 MB 539.2 kB/s eta 0:00:03\n",
      "   ------------------------------------- -- 12.1/12.9 MB 544.7 kB/s eta 0:00:02\n",
      "   ------------------------------------- -- 12.1/12.9 MB 544.7 kB/s eta 0:00:02\n",
      "   -------------------------------------- - 12.3/12.9 MB 547.0 kB/s eta 0:00:02\n",
      "   -------------------------------------- - 12.6/12.9 MB 553.0 kB/s eta 0:00:01\n",
      "   -------------------------------------- - 12.6/12.9 MB 553.0 kB/s eta 0:00:01\n",
      "   ---------------------------------------- 12.9/12.9 MB 559.9 kB/s eta 0:00:00\n",
      "Installing collected packages: numpy\n",
      "Successfully installed numpy-2.2.4\n"
     ]
    }
   ],
   "source": [
    "# !pip install numpy"
   ]
  },
  {
   "cell_type": "code",
   "execution_count": null,
   "metadata": {},
   "outputs": [],
   "source": [
    "help(np)"
   ]
  },
  {
   "cell_type": "code",
   "execution_count": null,
   "metadata": {},
   "outputs": [],
   "source": [
    "import math\n",
    "\n",
    "math.sqrt(36)"
   ]
  },
  {
   "cell_type": "markdown",
   "metadata": {},
   "source": [
    "Importando `math`, podremos acceder a todas sus funciones mediante la sintaxis `math.funcion()`. [En la documentación](https://docs.python.org/3/library/math.html#math.log) verás todo lo que puedes hacer con `math`. \n",
    "\n",
    "Veamos un ejemplo en el que nos ayude a no escribir código de más."
   ]
  },
  {
   "cell_type": "code",
   "execution_count": null,
   "metadata": {
    "collapsed": true,
    "jupyter": {
     "outputs_hidden": true
    },
    "tags": []
   },
   "outputs": [],
   "source": [
    "help(math)"
   ]
  },
  {
   "cell_type": "code",
   "execution_count": null,
   "metadata": {},
   "outputs": [],
   "source": [
    "help(math.sqrt)"
   ]
  },
  {
   "cell_type": "code",
   "execution_count": null,
   "metadata": {},
   "outputs": [],
   "source": [
    "print(dir(math))"
   ]
  },
  {
   "cell_type": "markdown",
   "metadata": {},
   "source": [
    "Otro ejemplo en el que vemos la potencia de `pandas`, a la hora de leer archivos"
   ]
  },
  {
   "cell_type": "code",
   "execution_count": null,
   "metadata": {
    "collapsed": true,
    "jupyter": {
     "outputs_hidden": true
    },
    "tags": []
   },
   "outputs": [],
   "source": [
    "import csv\n",
    "\n",
    "with open('data/datos_prueba.csv', 'r') as file:\n",
    "    my_reader = csv.reader(file, delimiter = ',')\n",
    "    \n",
    "    for row in my_reader:\n",
    "        print(row)\n",
    "\n",
    "print(\"Fin\")"
   ]
  },
  {
   "cell_type": "code",
   "execution_count": null,
   "metadata": {},
   "outputs": [],
   "source": [
    "!pip install pandas"
   ]
  },
  {
   "cell_type": "code",
   "execution_count": 9,
   "metadata": {},
   "outputs": [
    {
     "data": {
      "text/html": [
       "<div>\n",
       "<style scoped>\n",
       "    .dataframe tbody tr th:only-of-type {\n",
       "        vertical-align: middle;\n",
       "    }\n",
       "\n",
       "    .dataframe tbody tr th {\n",
       "        vertical-align: top;\n",
       "    }\n",
       "\n",
       "    .dataframe thead th {\n",
       "        text-align: right;\n",
       "    }\n",
       "</style>\n",
       "<table border=\"1\" class=\"dataframe\">\n",
       "  <thead>\n",
       "    <tr style=\"text-align: right;\">\n",
       "      <th></th>\n",
       "      <th>origin</th>\n",
       "      <th>distance</th>\n",
       "    </tr>\n",
       "  </thead>\n",
       "  <tbody>\n",
       "    <tr>\n",
       "      <th>0</th>\n",
       "      <td>1</td>\n",
       "      <td>50</td>\n",
       "    </tr>\n",
       "    <tr>\n",
       "      <th>1</th>\n",
       "      <td>2</td>\n",
       "      <td>34</td>\n",
       "    </tr>\n",
       "    <tr>\n",
       "      <th>2</th>\n",
       "      <td>2</td>\n",
       "      <td>4</td>\n",
       "    </tr>\n",
       "    <tr>\n",
       "      <th>3</th>\n",
       "      <td>3</td>\n",
       "      <td>67</td>\n",
       "    </tr>\n",
       "    <tr>\n",
       "      <th>4</th>\n",
       "      <td>1</td>\n",
       "      <td>38</td>\n",
       "    </tr>\n",
       "  </tbody>\n",
       "</table>\n",
       "</div>"
      ],
      "text/plain": [
       "   origin  distance\n",
       "0       1        50\n",
       "1       2        34\n",
       "2       2         4\n",
       "3       3        67\n",
       "4       1        38"
      ]
     },
     "execution_count": 9,
     "metadata": {},
     "output_type": "execute_result"
    }
   ],
   "source": [
    "import pandas as pd\n",
    "\n",
    "mi_data = pd.read_csv(\"data/datos_prueba.csv\")\n",
    "mi_data.head()"
   ]
  },
  {
   "cell_type": "code",
   "execution_count": 10,
   "metadata": {},
   "outputs": [
    {
     "name": "stdout",
     "output_type": "stream",
     "text": [
      "Collecting seaborn\n",
      "  Downloading seaborn-0.13.2-py3-none-any.whl.metadata (5.4 kB)\n",
      "Requirement already satisfied: numpy!=1.24.0,>=1.20 in c:\\data_science\\notebooks\\dspt2025\\.venv\\lib\\site-packages (from seaborn) (2.2.4)\n",
      "Requirement already satisfied: pandas>=1.2 in c:\\data_science\\notebooks\\dspt2025\\.venv\\lib\\site-packages (from seaborn) (2.2.3)\n",
      "Collecting matplotlib!=3.6.1,>=3.4 (from seaborn)\n",
      "  Downloading matplotlib-3.10.1-cp311-cp311-win_amd64.whl.metadata (11 kB)\n",
      "Collecting contourpy>=1.0.1 (from matplotlib!=3.6.1,>=3.4->seaborn)\n",
      "  Downloading contourpy-1.3.1-cp311-cp311-win_amd64.whl.metadata (5.4 kB)\n",
      "Collecting cycler>=0.10 (from matplotlib!=3.6.1,>=3.4->seaborn)\n",
      "  Downloading cycler-0.12.1-py3-none-any.whl.metadata (3.8 kB)\n",
      "Collecting fonttools>=4.22.0 (from matplotlib!=3.6.1,>=3.4->seaborn)\n",
      "  Downloading fonttools-4.56.0-cp311-cp311-win_amd64.whl.metadata (103 kB)\n",
      "Collecting kiwisolver>=1.3.1 (from matplotlib!=3.6.1,>=3.4->seaborn)\n",
      "  Downloading kiwisolver-1.4.8-cp311-cp311-win_amd64.whl.metadata (6.3 kB)\n",
      "Requirement already satisfied: packaging>=20.0 in c:\\data_science\\notebooks\\dspt2025\\.venv\\lib\\site-packages (from matplotlib!=3.6.1,>=3.4->seaborn) (24.2)\n",
      "Collecting pillow>=8 (from matplotlib!=3.6.1,>=3.4->seaborn)\n",
      "  Downloading pillow-11.1.0-cp311-cp311-win_amd64.whl.metadata (9.3 kB)\n",
      "Collecting pyparsing>=2.3.1 (from matplotlib!=3.6.1,>=3.4->seaborn)\n",
      "  Downloading pyparsing-3.2.3-py3-none-any.whl.metadata (5.0 kB)\n",
      "Requirement already satisfied: python-dateutil>=2.7 in c:\\data_science\\notebooks\\dspt2025\\.venv\\lib\\site-packages (from matplotlib!=3.6.1,>=3.4->seaborn) (2.9.0.post0)\n",
      "Requirement already satisfied: pytz>=2020.1 in c:\\data_science\\notebooks\\dspt2025\\.venv\\lib\\site-packages (from pandas>=1.2->seaborn) (2025.2)\n",
      "Requirement already satisfied: tzdata>=2022.7 in c:\\data_science\\notebooks\\dspt2025\\.venv\\lib\\site-packages (from pandas>=1.2->seaborn) (2025.2)\n",
      "Requirement already satisfied: six>=1.5 in c:\\data_science\\notebooks\\dspt2025\\.venv\\lib\\site-packages (from python-dateutil>=2.7->matplotlib!=3.6.1,>=3.4->seaborn) (1.17.0)\n",
      "Downloading seaborn-0.13.2-py3-none-any.whl (294 kB)\n",
      "Downloading matplotlib-3.10.1-cp311-cp311-win_amd64.whl (8.1 MB)\n",
      "   ---------------------------------------- 0.0/8.1 MB ? eta -:--:--\n",
      "   ---------------------------------------- 0.0/8.1 MB ? eta -:--:--\n",
      "   ---------------------------------------- 0.0/8.1 MB ? eta -:--:--\n",
      "   - -------------------------------------- 0.3/8.1 MB ? eta -:--:--\n",
      "   - -------------------------------------- 0.3/8.1 MB ? eta -:--:--\n",
      "   - -------------------------------------- 0.3/8.1 MB ? eta -:--:--\n",
      "   -- ------------------------------------- 0.5/8.1 MB 540.5 kB/s eta 0:00:14\n",
      "   -- ------------------------------------- 0.5/8.1 MB 540.5 kB/s eta 0:00:14\n",
      "   -- ------------------------------------- 0.5/8.1 MB 540.5 kB/s eta 0:00:14\n",
      "   --- ------------------------------------ 0.8/8.1 MB 447.3 kB/s eta 0:00:17\n",
      "   --- ------------------------------------ 0.8/8.1 MB 447.3 kB/s eta 0:00:17\n",
      "   --- ------------------------------------ 0.8/8.1 MB 447.3 kB/s eta 0:00:17\n",
      "   --- ------------------------------------ 0.8/8.1 MB 447.3 kB/s eta 0:00:17\n",
      "   ----- ---------------------------------- 1.0/8.1 MB 402.5 kB/s eta 0:00:18\n",
      "   ----- ---------------------------------- 1.0/8.1 MB 402.5 kB/s eta 0:00:18\n",
      "   ----- ---------------------------------- 1.0/8.1 MB 402.5 kB/s eta 0:00:18\n",
      "   ------ --------------------------------- 1.3/8.1 MB 381.3 kB/s eta 0:00:18\n",
      "   ------ --------------------------------- 1.3/8.1 MB 381.3 kB/s eta 0:00:18\n",
      "   ------ --------------------------------- 1.3/8.1 MB 381.3 kB/s eta 0:00:18\n",
      "   ------ --------------------------------- 1.3/8.1 MB 381.3 kB/s eta 0:00:18\n",
      "   ------ --------------------------------- 1.3/8.1 MB 381.3 kB/s eta 0:00:18\n",
      "   ------- -------------------------------- 1.6/8.1 MB 345.2 kB/s eta 0:00:19\n",
      "   ------- -------------------------------- 1.6/8.1 MB 345.2 kB/s eta 0:00:19\n",
      "   ------- -------------------------------- 1.6/8.1 MB 345.2 kB/s eta 0:00:19\n",
      "   ------- -------------------------------- 1.6/8.1 MB 345.2 kB/s eta 0:00:19\n",
      "   ------- -------------------------------- 1.6/8.1 MB 345.2 kB/s eta 0:00:19\n",
      "   ------- -------------------------------- 1.6/8.1 MB 345.2 kB/s eta 0:00:19\n",
      "   --------- ------------------------------ 1.8/8.1 MB 321.6 kB/s eta 0:00:20\n",
      "   --------- ------------------------------ 1.8/8.1 MB 321.6 kB/s eta 0:00:20\n",
      "   --------- ------------------------------ 1.8/8.1 MB 321.6 kB/s eta 0:00:20\n",
      "   --------- ------------------------------ 1.8/8.1 MB 321.6 kB/s eta 0:00:20\n",
      "   --------- ------------------------------ 1.8/8.1 MB 321.6 kB/s eta 0:00:20\n",
      "   ---------- ----------------------------- 2.1/8.1 MB 309.9 kB/s eta 0:00:20\n",
      "   ---------- ----------------------------- 2.1/8.1 MB 309.9 kB/s eta 0:00:20\n",
      "   ---------- ----------------------------- 2.1/8.1 MB 309.9 kB/s eta 0:00:20\n",
      "   ----------- ---------------------------- 2.4/8.1 MB 317.3 kB/s eta 0:00:18\n",
      "   ----------- ---------------------------- 2.4/8.1 MB 317.3 kB/s eta 0:00:18\n",
      "   ----------- ---------------------------- 2.4/8.1 MB 317.3 kB/s eta 0:00:18\n",
      "   ------------- -------------------------- 2.6/8.1 MB 322.6 kB/s eta 0:00:17\n",
      "   ------------- -------------------------- 2.6/8.1 MB 322.6 kB/s eta 0:00:17\n",
      "   ------------- -------------------------- 2.6/8.1 MB 322.6 kB/s eta 0:00:17\n",
      "   -------------- ------------------------- 2.9/8.1 MB 335.5 kB/s eta 0:00:16\n",
      "   -------------- ------------------------- 2.9/8.1 MB 335.5 kB/s eta 0:00:16\n",
      "   --------------- ------------------------ 3.1/8.1 MB 348.8 kB/s eta 0:00:15\n",
      "   --------------- ------------------------ 3.1/8.1 MB 348.8 kB/s eta 0:00:15\n",
      "   ---------------- ----------------------- 3.4/8.1 MB 358.2 kB/s eta 0:00:13\n",
      "   ---------------- ----------------------- 3.4/8.1 MB 358.2 kB/s eta 0:00:13\n",
      "   ------------------ --------------------- 3.7/8.1 MB 368.4 kB/s eta 0:00:12\n",
      "   ------------------ --------------------- 3.7/8.1 MB 368.4 kB/s eta 0:00:12\n",
      "   ------------------- -------------------- 3.9/8.1 MB 382.5 kB/s eta 0:00:11\n",
      "   ------------------- -------------------- 3.9/8.1 MB 382.5 kB/s eta 0:00:11\n",
      "   -------------------- ------------------- 4.2/8.1 MB 392.0 kB/s eta 0:00:10\n",
      "   -------------------- ------------------- 4.2/8.1 MB 392.0 kB/s eta 0:00:10\n",
      "   ---------------------- ----------------- 4.5/8.1 MB 400.0 kB/s eta 0:00:10\n",
      "   ---------------------- ----------------- 4.5/8.1 MB 400.0 kB/s eta 0:00:10\n",
      "   ----------------------- ---------------- 4.7/8.1 MB 410.4 kB/s eta 0:00:09\n",
      "   ----------------------- ---------------- 4.7/8.1 MB 410.4 kB/s eta 0:00:09\n",
      "   ----------------------- ---------------- 4.7/8.1 MB 410.4 kB/s eta 0:00:09\n",
      "   ------------------------ --------------- 5.0/8.1 MB 414.2 kB/s eta 0:00:08\n",
      "   ------------------------ --------------- 5.0/8.1 MB 414.2 kB/s eta 0:00:08\n",
      "   ------------------------ --------------- 5.0/8.1 MB 414.2 kB/s eta 0:00:08\n",
      "   -------------------------- ------------- 5.2/8.1 MB 415.1 kB/s eta 0:00:07\n",
      "   -------------------------- ------------- 5.2/8.1 MB 415.1 kB/s eta 0:00:07\n",
      "   -------------------------- ------------- 5.2/8.1 MB 415.1 kB/s eta 0:00:07\n",
      "   --------------------------- ------------ 5.5/8.1 MB 410.2 kB/s eta 0:00:07\n",
      "   --------------------------- ------------ 5.5/8.1 MB 410.2 kB/s eta 0:00:07\n",
      "   --------------------------- ------------ 5.5/8.1 MB 410.2 kB/s eta 0:00:07\n",
      "   ---------------------------- ----------- 5.8/8.1 MB 410.1 kB/s eta 0:00:06\n",
      "   ---------------------------- ----------- 5.8/8.1 MB 410.1 kB/s eta 0:00:06\n",
      "   ----------------------------- ---------- 6.0/8.1 MB 417.5 kB/s eta 0:00:05\n",
      "   ----------------------------- ---------- 6.0/8.1 MB 417.5 kB/s eta 0:00:05\n",
      "   ------------------------------- -------- 6.3/8.1 MB 426.4 kB/s eta 0:00:05\n",
      "   -------------------------------- ------- 6.6/8.1 MB 433.4 kB/s eta 0:00:04\n",
      "   -------------------------------- ------- 6.6/8.1 MB 433.4 kB/s eta 0:00:04\n",
      "   --------------------------------- ------ 6.8/8.1 MB 444.3 kB/s eta 0:00:03\n",
      "   --------------------------------- ------ 6.8/8.1 MB 444.3 kB/s eta 0:00:03\n",
      "   ----------------------------------- ---- 7.1/8.1 MB 450.2 kB/s eta 0:00:03\n",
      "   ------------------------------------ --- 7.3/8.1 MB 455.7 kB/s eta 0:00:02\n",
      "   ------------------------------------ --- 7.3/8.1 MB 455.7 kB/s eta 0:00:02\n",
      "   ------------------------------------- -- 7.6/8.1 MB 464.2 kB/s eta 0:00:01\n",
      "   ---------------------------------------  7.9/8.1 MB 473.7 kB/s eta 0:00:01\n",
      "   ---------------------------------------- 8.1/8.1 MB 477.6 kB/s eta 0:00:00\n",
      "Downloading contourpy-1.3.1-cp311-cp311-win_amd64.whl (219 kB)\n",
      "Downloading cycler-0.12.1-py3-none-any.whl (8.3 kB)\n",
      "Downloading fonttools-4.56.0-cp311-cp311-win_amd64.whl (2.2 MB)\n",
      "   ---------------------------------------- 0.0/2.2 MB ? eta -:--:--\n",
      "   ---------------------------------------- 0.0/2.2 MB ? eta -:--:--\n",
      "   ---- ----------------------------------- 0.3/2.2 MB ? eta -:--:--\n",
      "   ---- ----------------------------------- 0.3/2.2 MB ? eta -:--:--\n",
      "   --------- ------------------------------ 0.5/2.2 MB 699.0 kB/s eta 0:00:03\n",
      "   --------- ------------------------------ 0.5/2.2 MB 699.0 kB/s eta 0:00:03\n",
      "   -------------- ------------------------- 0.8/2.2 MB 599.2 kB/s eta 0:00:03\n",
      "   -------------- ------------------------- 0.8/2.2 MB 599.2 kB/s eta 0:00:03\n",
      "   ------------------- -------------------- 1.0/2.2 MB 662.0 kB/s eta 0:00:02\n",
      "   ----------------------- ---------------- 1.3/2.2 MB 729.2 kB/s eta 0:00:02\n",
      "   ---------------------------- ----------- 1.6/2.2 MB 749.0 kB/s eta 0:00:01\n",
      "   ---------------------------- ----------- 1.6/2.2 MB 749.0 kB/s eta 0:00:01\n",
      "   --------------------------------- ------ 1.8/2.2 MB 774.0 kB/s eta 0:00:01\n",
      "   -------------------------------------- - 2.1/2.2 MB 777.5 kB/s eta 0:00:01\n",
      "   ---------------------------------------- 2.2/2.2 MB 800.5 kB/s eta 0:00:00\n",
      "Downloading kiwisolver-1.4.8-cp311-cp311-win_amd64.whl (71 kB)\n",
      "Downloading pillow-11.1.0-cp311-cp311-win_amd64.whl (2.6 MB)\n",
      "   ---------------------------------------- 0.0/2.6 MB ? eta -:--:--\n",
      "   ---------------------------------------- 0.0/2.6 MB ? eta -:--:--\n",
      "   --- ------------------------------------ 0.3/2.6 MB ? eta -:--:--\n",
      "   ------- -------------------------------- 0.5/2.6 MB 1.0 MB/s eta 0:00:03\n",
      "   ------- -------------------------------- 0.5/2.6 MB 1.0 MB/s eta 0:00:03\n",
      "   ----------- ---------------------------- 0.8/2.6 MB 762.0 kB/s eta 0:00:03\n",
      "   ----------- ---------------------------- 0.8/2.6 MB 762.0 kB/s eta 0:00:03\n",
      "   --------------- ------------------------ 1.0/2.6 MB 811.6 kB/s eta 0:00:02\n",
      "   --------------- ------------------------ 1.0/2.6 MB 811.6 kB/s eta 0:00:02\n",
      "   ------------------- -------------------- 1.3/2.6 MB 684.4 kB/s eta 0:00:02\n",
      "   ------------------- -------------------- 1.3/2.6 MB 684.4 kB/s eta 0:00:02\n",
      "   ----------------------- ---------------- 1.6/2.6 MB 693.1 kB/s eta 0:00:02\n",
      "   ----------------------- ---------------- 1.6/2.6 MB 693.1 kB/s eta 0:00:02\n",
      "   --------------------------- ------------ 1.8/2.6 MB 671.0 kB/s eta 0:00:02\n",
      "   --------------------------- ------------ 1.8/2.6 MB 671.0 kB/s eta 0:00:02\n",
      "   ------------------------------- -------- 2.1/2.6 MB 648.9 kB/s eta 0:00:01\n",
      "   ------------------------------- -------- 2.1/2.6 MB 648.9 kB/s eta 0:00:01\n",
      "   ----------------------------------- ---- 2.4/2.6 MB 654.7 kB/s eta 0:00:01\n",
      "   ----------------------------------- ---- 2.4/2.6 MB 654.7 kB/s eta 0:00:01\n",
      "   ---------------------------------------- 2.6/2.6 MB 652.0 kB/s eta 0:00:00\n",
      "Downloading pyparsing-3.2.3-py3-none-any.whl (111 kB)\n",
      "Installing collected packages: pyparsing, pillow, kiwisolver, fonttools, cycler, contourpy, matplotlib, seaborn\n",
      "Successfully installed contourpy-1.3.1 cycler-0.12.1 fonttools-4.56.0 kiwisolver-1.4.8 matplotlib-3.10.1 pillow-11.1.0 pyparsing-3.2.3 seaborn-0.13.2\n"
     ]
    }
   ],
   "source": [
    "!pip install seaborn"
   ]
  },
  {
   "cell_type": "code",
   "execution_count": 11,
   "metadata": {
    "collapsed": true,
    "jupyter": {
     "outputs_hidden": true
    },
    "tags": []
   },
   "outputs": [
    {
     "data": {
      "text/plain": [
       "<Axes: xlabel='origin', ylabel='distance'>"
      ]
     },
     "execution_count": 11,
     "metadata": {},
     "output_type": "execute_result"
    },
    {
     "data": {
      "image/png": "[encoded data removed]",
      "text/plain": [
       "<Figure size 640x480 with 1 Axes>"
      ]
     },
     "metadata": {},
     "output_type": "display_data"
    }
   ],
   "source": [
    "import seaborn as sns\n",
    "\n",
    "sns.barplot(x = \"origin\", y = \"distance\", data = mi_data)"
   ]
  },
  {
   "cell_type": "markdown",
   "metadata": {},
   "source": [
    "### Bibliotecas de terceros\n",
    "**¿Y si encontramos una librería interesante, pero no viene en el paquete de Anaconda?** La podremos instalar. Anaconda viene con muchas bibliotecas ya instaladas, la mayoría orientadas a trabajar con datos, pero por supuesto, no contiene todas las bibliotecas. Si quieres ver los paquetes de Anaconda, abre un *Prompt de Anaconda* y escribe `pip freeze`.\n",
    "\n",
    "Entonces, **¿cómo se instala un paquete nuevo?** La mayoría de paquetes los vas a encontrar en [PyPI (Python Package Index)](https://pypi.org), que es el repositorio oficial de paquetes de Python. Existen paquetes de particulares (no empresas, ni comunidades) en PyPI. Eso no quiere decir que no los puedas instalar, sino que probablemente estén menos testados que los \"oficiales\".\n",
    "\n",
    "Veamos un ejemplo de cómo instalar una nueva librería. En este caso, instalaremos **wget**, que nos sirve para obtener archivos de la web."
   ]
  },
  {
   "cell_type": "code",
   "execution_count": 13,
   "metadata": {
    "collapsed": true,
    "jupyter": {
     "outputs_hidden": true
    },
    "tags": []
   },
   "outputs": [
    {
     "name": "stdout",
     "output_type": "stream",
     "text": [
      "asttokens==3.0.0\n",
      "colorama==0.4.6\n",
      "comm==0.2.2\n",
      "contourpy==1.3.1\n",
      "cycler==0.12.1\n",
      "debugpy==1.8.13\n",
      "decorator==5.2.1\n",
      "executing==2.2.0\n",
      "fonttools==4.56.0\n",
      "ipykernel==6.29.5\n",
      "ipython==9.0.2\n",
      "ipython_pygments_lexers==1.1.1\n",
      "jedi==0.19.2\n",
      "jupyter_client==8.6.3\n",
      "jupyter_core==5.7.2\n",
      "kiwisolver==1.4.8\n",
      "matplotlib==3.10.1\n",
      "matplotlib-inline==0.1.7\n",
      "nest-asyncio==1.6.0\n",
      "numpy==2.2.4\n",
      "packaging==24.2\n",
      "pandas==2.2.3\n",
      "parso==0.8.4\n",
      "pillow==11.1.0\n",
      "platformdirs==4.3.6\n",
      "prompt_toolkit==3.0.50\n",
      "psutil==7.0.0\n",
      "pure_eval==0.2.3\n",
      "Pygments==2.19.1\n",
      "pyparsing==3.2.3\n",
      "python-dateutil==2.9.0.post0\n",
      "pytz==2025.2\n",
      "pywin32==309\n",
      "pyzmq==26.3.0\n",
      "seaborn==0.13.2\n",
      "six==1.17.0\n",
      "stack-data==0.6.3\n",
      "tornado==6.4.2\n",
      "traitlets==5.14.3\n",
      "typing_extensions==4.12.2\n",
      "tzdata==2025.2\n",
      "wcwidth==0.2.13\n"
     ]
    }
   ],
   "source": [
    "!pip freeze"
   ]
  },
  {
   "cell_type": "code",
   "execution_count": 12,
   "metadata": {},
   "outputs": [
    {
     "name": "stdout",
     "output_type": "stream",
     "text": [
      "c:\\Data_Science\\notebooks\\DSPT2025\\.venv\\Scripts\\python.exe\n",
      "C:\\Users\\alberto\\.pyenv\\pyenv-win\\shims\\python\n",
      "C:\\Users\\alberto\\.pyenv\\pyenv-win\\shims\\python.bat\n",
      "C:\\Users\\alberto\\AppData\\Local\\Microsoft\\WindowsApps\\python.exe\n"
     ]
    }
   ],
   "source": [
    "!where python"
   ]
  },
  {
   "cell_type": "code",
   "execution_count": null,
   "metadata": {},
   "outputs": [],
   "source": [
    "import wget"
   ]
  },
  {
   "cell_type": "markdown",
   "metadata": {},
   "source": [
    "Al hacer el `import`, no existe, por lo que tendremos que instalarla. Para instalarla, abre un prompt de Anaconda y ejecuta `pip install wget`"
   ]
  },
  {
   "cell_type": "code",
   "execution_count": null,
   "metadata": {},
   "outputs": [],
   "source": [
    "# !pip install wget"
   ]
  },
  {
   "cell_type": "code",
   "execution_count": null,
   "metadata": {},
   "outputs": [],
   "source": [
    "import wget\n",
    "\n",
    "url = 'http://www.futurecrew.com/skaven/song_files/mp3/razorback.mp3'\n",
    "filename = wget.download(url)\n",
    "filename"
   ]
  },
  {
   "cell_type": "markdown",
   "metadata": {},
   "source": [
    "¡Perfecto! has podido instalar tu primer paquete en el intérprete de Python"
   ]
  },
  {
   "cell_type": "markdown",
   "metadata": {},
   "source": [
    "## 3. Entornos\n",
    "\n",
    "Dado que las librerías se instalan a nivel del intérprete de Python que elijamos, es fácil que nos encontremos en situaciones en las que necesitemos distintas librerías o versiones para distintos proyectos. Para ello existe el concepto de **entornos**, son directorios donde se copia el interprete y las librerías correspondientes de modo que podamos gestionar distintos paquetes.\n",
    "\n",
    "Veamos cómo podemos invocar la creación de un entorno.\n",
    "\n",
    "Abriremos un terminal y ejecutaremos\n",
    "\n",
    "```\n",
    "python3 -m venv .venv\n",
    "```\n",
    "\n",
    "Esto debería crear un directorio en nuestro entorno bajo ese nombre. Fijaros en que ahora podremos elegir el entorno de ejecución de los notebooks llamado _.venv_. \n",
    "\n",
    "![notebook](./img/notebook.png)\n",
    "\n",
    "También lo veréis en el terminal\n",
    "\n",
    "![terminal](./img/terminal.png)"
   ]
  },
  {
   "cell_type": "markdown",
   "metadata": {},
   "source": [
    "Aquellos que uséis Anaconda veréis que sucede algo parecido, aunque anaconda nos permite gestionarlo de forma visual para que sea más sencillo incluir nuevas librerías y gestionar los entornos.\n",
    "\n",
    "![conda](./img/conda.png)\n",
    "\n",
    "Tenéis más información en su [documentación](https://docs.conda.io/projects/conda/en/latest/user-guide/tasks/manage-environments.html)"
   ]
  },
  {
   "cell_type": "code",
   "execution_count": null,
   "metadata": {},
   "outputs": [],
   "source": [
    "!pip freeze"
   ]
  },
  {
   "cell_type": "markdown",
   "metadata": {},
   "source": [
    "## 4. Resumen\n",
    "Como ves, **gran parte de la potencia de Python reside en sus librerías**. Combinando los conocimientos ya aprendidos con las librerías adecuadas, podremos crear dashboards interactivos, modelos de machine learning, páginas webs, automatizar procesos... ¡Los límites los pones tu! :)"
   ]
  },
  {
   "cell_type": "code",
   "execution_count": null,
   "metadata": {},
   "outputs": [],
   "source": [
    "# Sintaxis básica para importar un modulo\n",
    "import primer_script\n",
    "\n",
    "# PAra acceder a su documentación\n",
    "help(primer_script)\n",
    "\n",
    "# PAra acceder a los objetos del modulo\n",
    "print(primer_script.my_variable)\n",
    "print(primer_script.my_function)\n",
    "print(primer_script.MyClass)\n",
    "\n",
    "# Una manera de acceder a todo\n",
    "from primer_script import *\n",
    "\n",
    "# Renombrar el modulo también es util\n",
    "import direc_segundo.segundo_script as variables\n",
    "print(variables.c)\n",
    "\n",
    "# Si queremos acceder rutas en otras partes del ordenador, hay que añadirlas a sys.path\n",
    "sys.path.append('C:/Users/Miguel Angel/Desktop/direc_tercero')\n",
    "sys.path\n",
    "\n",
    "# Por otro lado, tenemos las librerías del estándar de Python\n",
    "import math\n",
    "math.sqrt(36)\n",
    "\n",
    "# O librerías de terceros que podrás instalar mediante un pip install librería, en un Prompt de Anaconda.\n",
    "import wget"
   ]
  }
 ],
 "metadata": {
  "kernelspec": {
   "display_name": ".venv",
   "language": "python",
   "name": "python3"
  },
  "language_info": {
   "codemirror_mode": {
    "name": "ipython",
    "version": 3
   },
   "file_extension": ".py",
   "mimetype": "text/x-python",
   "name": "python",
   "nbconvert_exporter": "python",
   "pygments_lexer": "ipython3",
   "version": "3.11.9"
  },
  "nbTranslate": {
   "displayLangs": [
    "*"
   ],
   "hotkey": "alt-t",
   "langInMainMenu": true,
   "sourceLang": "en",
   "targetLang": "fr",
   "useGoogleTranslate": true
  },
  "varInspector": {
   "cols": {
    "lenName": 16,
    "lenType": 16,
    "lenVar": 40
   },
   "kernels_config": {
    "python": {
     "delete_cmd_postfix": "",
     "delete_cmd_prefix": "del ",
     "library": "var_list.py",
     "varRefreshCmd": "print(var_dic_list())"
    },
    "r": {
     "delete_cmd_postfix": ") ",
     "delete_cmd_prefix": "rm(",
     "library": "var_list.r",
     "varRefreshCmd": "cat(var_dic_list()) "
    }
   },
   "types_to_exclude": [
    "module",
    "function",
    "builtin_function_or_method",
    "instance",
    "_Feature"
   ],
   "window_display": false
  }
 },
 "nbformat": 4,
 "nbformat_minor": 4
}
