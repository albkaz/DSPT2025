{
 "cells": [
  {
   "cell_type": "markdown",
   "metadata": {},
   "source": [
    "![imagen](./img/ejercicios.png)"
   ]
  },
  {
   "cell_type": "markdown",
   "metadata": {},
   "source": [
    "# Ejercicios Flujos de control"
   ]
  },
  {
   "cell_type": "markdown",
   "metadata": {},
   "source": [
    "## Ejercicio 1\n",
    "Declara una variable numérica que será una hora cualquiera del día. Implementa la siguiente casuística:\n",
    "\n",
    "* Si es entre las 0 y las 8, print \"Durmiendo\"\n",
    "* Si es entre las 9 y las 18, print \"Trabajando\"\n",
    "* Si es entre las 19 y las 21, print \"Clase\"\n",
    "* Si es entre las 22 y las 24, print \"Descanso\"\n",
    "* En cualquier otro caso, print \"Transporte o error\""
   ]
  },
  {
   "cell_type": "code",
   "execution_count": null,
   "metadata": {},
   "outputs": [
    {
     "name": "stdout",
     "output_type": "stream",
     "text": [
      "Transporte o error\n"
     ]
    }
   ],
   "source": [
    "\"\"\"\n",
    "Suponemos que se va a meter la hora con el formato HH:mm\n",
    "Por ejemplo: 09:35\n",
    "Si no se mete la hora en ese formato muestra un error.\n",
    "\"\"\"\n",
    "hora_dia = input('Hora del día') #obtener la hora del día\n",
    "partes = hora_dia.split(\":\")\n",
    "if (len(partes)!=2):\n",
    "    print(\"Formato de hora erroneo\")\n",
    "elif (\n",
    "    #comprobar si las horas no son correctas\n",
    "    not partes[0].isdigit() or len(partes[0])!=2 or int(partes[0]) < 0 or int(partes[0]) > 23\n",
    "    #comporbar si los minutos no son correctos\n",
    "    or not partes[1].isdigit() or len(partes[1])!=2 or int(partes[1]) < 0 or int(partes[1]) > 59\n",
    "    ):\n",
    "    print(\"Formato de hora erroneo\")\n",
    "else:\n",
    "    if hora_dia >=\"00:00\" and hora_dia<=\"08:00\":\n",
    "        print(\"Durmiendo\")\n",
    "    elif hora_dia >= \"09:00\" and hora_dia <= \"18:00\":\n",
    "        print(\"Trabajando\")\n",
    "    elif hora_dia >= \"19:00\" and hora_dia <= \"21:00\":\n",
    "        print(\"Clase\")\n",
    "    elif hora_dia >= \"22:00\" and hora_dia < \"24:00\":\n",
    "        print(\"Descando\")\n",
    "    else:\n",
    "        print(\"Transporte o error\")\n",
    "    \n"
   ]
  },
  {
   "cell_type": "markdown",
   "metadata": {},
   "source": [
    "## Ejercicio 2\n",
    "En este ejercicio vamos a implementar un calculador de precios de casas muy sencillo. Tenemos las siguientes variables:\n",
    "\n",
    "> superficie\n",
    ">\n",
    "> distrito\n",
    "\n",
    "Implementa la siguiente casuística:\n",
    "\n",
    "1. Si el distrito es \"Moncloa\" o \"Centro\", y además la superficie es superior a 100 metros cuadrados, el precio de la casa es de 1000\n",
    "2. Si el distrito es \"Salamanca\", y además la superficie de la casa es al menos de 150 metros, el precio de la casa es de 1500\n",
    "3. Si el distrito no es \"Retiro\" y la superficie está entre 60 y 80 metros, el precio es de 600\n",
    "4. En cualquier otro caso, el precio será de 0"
   ]
  },
  {
   "cell_type": "code",
   "execution_count": 2,
   "metadata": {},
   "outputs": [
    {
     "name": "stdout",
     "output_type": "stream",
     "text": [
      "El precio es 0\n"
     ]
    }
   ],
   "source": [
    "distrito = input(\"Distrito\")\n",
    "superficie = float(input(\"Superficie\"))\n",
    "precio = 0\n",
    "if (distrito==\"Moncloa\" or distrito==\"Centro\") and superficie > 100: \n",
    "    precio = 1000\n",
    "elif distrito==\"Salamanca\" and superficie>=150:\n",
    "    precio = 1500\n",
    "elif distrito != \"Retiro\" and superficie>=60 and superficie <= 80:\n",
    "    precio = 600\n",
    "print(\"El precio es\", precio)\n",
    "    "
   ]
  },
  {
   "cell_type": "markdown",
   "metadata": {},
   "source": [
    "## Ejercicio 3\n",
    "En este ejercicio vamos a realizar un programa muy parecido. Para este caso queremos que se cumplan las siguientes condiciones:\n",
    "\n",
    "1. Primero se compruebe si el distrito es \"Retiro\". Si es asá, que imprima \"Distrito Retiro\", y si no, \"Otro distrito\"\n",
    "2. Si el distrito es \"Retiro\", comprueba si la superficie es mayor de 100 metros cuadrados. En tal caso, que imprima un precio de 1000, y si no, de 500.\n",
    "\n",
    "Prueba a usar `ifs` anidados"
   ]
  },
  {
   "cell_type": "code",
   "execution_count": 3,
   "metadata": {},
   "outputs": [
    {
     "name": "stdout",
     "output_type": "stream",
     "text": [
      "Distrito Retiro\n",
      "Precio 1000\n"
     ]
    }
   ],
   "source": [
    "distrito = input(\"Distrito\")\n",
    "if distrito==\"Retiro\":\n",
    "    print(\"Distrito Retiro\")\n",
    "    superficie = float(input(\"Superficie\"))\n",
    "    if superficie > 100:\n",
    "        print(\"Precio\", 1000)\n",
    "    else:\n",
    "        print(\"Precio\", 500)\n",
    "    \n",
    "else:\n",
    "    print(\"Otro distrito\")"
   ]
  },
  {
   "cell_type": "markdown",
   "metadata": {},
   "source": [
    "## Ejercicio 4\n",
    "Escribe un programa que tenga dos variables: un numero, y una lista numérica. El programa debe recorrer la lista e imprimir por pantalla cada elemento de la lista multiplicado por el número"
   ]
  },
  {
   "cell_type": "code",
   "execution_count": 4,
   "metadata": {},
   "outputs": [
    {
     "name": "stdout",
     "output_type": "stream",
     "text": [
      "5 x 20: 100\n",
      "5 x 4: 20\n",
      "5 x 7: 35\n",
      "5 x 34: 170\n",
      "5 x 77.8: 389.0\n",
      "5 x 34: 170\n"
     ]
    }
   ],
   "source": [
    "numero = 5\n",
    "lista = [20, 4, 7, 34, 77.8, 34]\n",
    "for n in lista:\n",
    "    print(f\"{numero} x {n}: {numero*n}\")"
   ]
  },
  {
   "cell_type": "markdown",
   "metadata": {},
   "source": [
    "## Ejercicio 5\n",
    "Imprime por pantalla cada número del -10 al -1. En ese orden. Consulta [la documentación](https://www.w3schools.com/python/ref_func_range.asp) de `range`"
   ]
  },
  {
   "cell_type": "code",
   "execution_count": 5,
   "metadata": {},
   "outputs": [
    {
     "name": "stdout",
     "output_type": "stream",
     "text": [
      "-10\n",
      "-9\n",
      "-8\n",
      "-7\n",
      "-6\n",
      "-5\n",
      "-4\n",
      "-3\n",
      "-2\n",
      "-1\n"
     ]
    }
   ],
   "source": [
    "for num in range(-10,0):\n",
    "    print(num)"
   ]
  },
  {
   "cell_type": "markdown",
   "metadata": {},
   "source": [
    "## Ejercicio 6\n",
    "Dada la siguiente lista:\n",
    "\n",
    "> list1 = [12, 15, 32, 42, 55, 75, 122, 132, 150, 180, 200]\n",
    "\n",
    "Implementa un programa que los recorra e imprima por pantalla todos los divisibles por 5. Si nos encontramos con alguno que sea mayor que 150, detener el bucle."
   ]
  },
  {
   "cell_type": "code",
   "execution_count": null,
   "metadata": {},
   "outputs": [
    {
     "name": "stdout",
     "output_type": "stream",
     "text": [
      "15\n",
      "55\n",
      "75\n",
      "150\n"
     ]
    }
   ],
   "source": [
    "list1 = [12, 15, 32, 42, 55, 75, 122, 132, 150, 180, 200]\n",
    "for n in list1:\n",
    "    if n > 150: #La condición  de salida se pon aquí si no queremos que imprima el número mayor a 150. Si quisieramos imprimrilo y salir, se podría tras la siguiente condición.\n",
    "        break\n",
    "    if n % 5 == 0:\n",
    "        print(n)\n",
    "    "
   ]
  },
  {
   "attachments": {},
   "cell_type": "markdown",
   "metadata": {},
   "source": [
    "## Ejercicio 7\n",
    "Escribe un programa en Python que imprima por pantalla todos los números que cumplan que sean divisibles por 5 y divisibles por 7, dentro del rango de valores (150, 350)."
   ]
  },
  {
   "cell_type": "code",
   "execution_count": 7,
   "metadata": {},
   "outputs": [
    {
     "name": "stdout",
     "output_type": "stream",
     "text": [
      "175\n",
      "210\n",
      "245\n",
      "280\n",
      "315\n",
      "350\n"
     ]
    }
   ],
   "source": [
    "for n in range(150, 351):\n",
    "    if (n % 5 ==0) and (n % 7 ==0):\n",
    "        print(n)"
   ]
  },
  {
   "cell_type": "markdown",
   "metadata": {},
   "source": [
    "## Ejercicio 8\n",
    "Implementa un programa que imprima por pantalla el siguiente patrón\n",
    "\n",
    "5 4 3 2 1 \n",
    "\n",
    "4 3 2 1 \n",
    "\n",
    "3 2 1 \n",
    "\n",
    "2 1 \n",
    "\n",
    "1\n",
    "\n",
    "NOTA: NO hay lineas en blanco entre una línea y otra."
   ]
  },
  {
   "cell_type": "code",
   "execution_count": 8,
   "metadata": {},
   "outputs": [
    {
     "name": "stdout",
     "output_type": "stream",
     "text": [
      "5 4 3 2 1\n",
      "4 3 2 1\n",
      "3 2 1\n",
      "2 1\n",
      "1\n"
     ]
    }
   ],
   "source": [
    "result = []\n",
    "for n in range(5,0,-1):\n",
    "    line = []\n",
    "    for j in range(n,0,-1):\n",
    "        line.append(str(j))\n",
    "    result.append(\" \".join(line))\n",
    "    del line\n",
    "print(\"\\n\".join(result))\n",
    "del result\n",
    "        "
   ]
  },
  {
   "cell_type": "code",
   "execution_count": null,
   "metadata": {},
   "outputs": [
    {
     "name": "stdout",
     "output_type": "stream",
     "text": [
      "5 4 3 2 1\n",
      "4 3 2 1\n",
      "3 2 1\n",
      "2 1\n",
      "1\n"
     ]
    }
   ],
   "source": [
    "lista = list(range(5,0,-1))\n",
    "for i in range(len(lista)):\n",
    "    #unpacking->separa los elementos de una lista y los pasamos como parametros a la función.\n",
    "    print(*lista)\n",
    "    del lista[0]"
   ]
  },
  {
   "cell_type": "code",
   "execution_count": 8,
   "metadata": {},
   "outputs": [
    {
     "name": "stdout",
     "output_type": "stream",
     "text": [
      "5 4 3 2 1 \n",
      "4 3 2 1 \n",
      "3 2 1 \n",
      "2 1 \n",
      "1 \n"
     ]
    }
   ],
   "source": [
    "for i in range (5,0,-1):\n",
    "    for j in range(i, 0, -1):\n",
    "        print(j,  end=\" \")\n",
    "    print()"
   ]
  },
  {
   "cell_type": "markdown",
   "metadata": {},
   "source": [
    "## Ejercicio 9\n",
    "En este ejercicio vamos a crear un pequeño juego. Se trata de intentar adivinar un numero del 1 al 5. Tenemos dos intentos para acertar. Pasos a seguir:\n",
    "\n",
    "1. Ya viene implementado con la librería `random` cómo obtener un número aleatorio del 1 al 5\n",
    "2. Tendrás que declarar en una variable el numero de vidas, y mediante un bucle while, comprobar que todavia quedan vidas.\n",
    "3. Dentro del bucle, obtener el valor del usuario y comprobar si es ese el numero a adivinar. Si no, actualizar las vidas.\n",
    "4. Si acertamos, salimos del bucle e imprimimos por pantalla \"You win\". Y si perdemos también salimos del bucle, pero en este caso imprimimos por pantalla \"You lose\".\n",
    "\n",
    "TIP: te puede resultar útil usar la sentencia `else` cuando acabe el bucle `while`. Lo que haya dentro de ese `else` se ejecutará una vez acabe la ejecución del `while`. Lo podrás usar para cuando pierdas."
   ]
  },
  {
   "cell_type": "code",
   "execution_count": null,
   "metadata": {},
   "outputs": [
    {
     "name": "stdout",
     "output_type": "stream",
     "text": [
      "You loose\n"
     ]
    }
   ],
   "source": [
    "import random\n",
    "\n",
    "numero = random.randint(1, 5)\n",
    "vidas = 3\n",
    "while vidas > 0:\n",
    "    valor_usuario = int(input('Guess the number: '))\n",
    "    if valor_usuario==numero:\n",
    "        break\n",
    "    else:\n",
    "        vidas -= 1\n",
    "if vidas > 0:\n",
    "    print(\"You win\")\n",
    "else:\n",
    "    print(\"You lose\")\n"
   ]
  },
  {
   "cell_type": "code",
   "execution_count": null,
   "metadata": {},
   "outputs": [
    {
     "name": "stdout",
     "output_type": "stream",
     "text": [
      "You win\n"
     ]
    }
   ],
   "source": [
    "import random\n",
    "\n",
    "numero = random.randint(1, 5)\n",
    "vidas = 3\n",
    "while vidas > 0:\n",
    "    try:\n",
    "        valor_usuario = int(input('Guess the number: '))\n",
    "        if valor_usuario==numero:\n",
    "            print(\"You win\")\n",
    "            break\n",
    "        else:\n",
    "            vidas -= 1\n",
    "    except:\n",
    "        print(\"Value must be an integer.\")\n",
    "if vidas == 0:\n",
    "    print(\"You lose\")"
   ]
  }
 ],
 "metadata": {
  "kernelspec": {
   "display_name": ".venv",
   "language": "python",
   "name": "python3"
  },
  "language_info": {
   "codemirror_mode": {
    "name": "ipython",
    "version": 3
   },
   "file_extension": ".py",
   "mimetype": "text/x-python",
   "name": "python",
   "nbconvert_exporter": "python",
   "pygments_lexer": "ipython3",
   "version": "3.11.9"
  }
 },
 "nbformat": 4,
 "nbformat_minor": 4
}
