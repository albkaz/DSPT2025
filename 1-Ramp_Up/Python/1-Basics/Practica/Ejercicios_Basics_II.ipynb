{
	"cells": [
		{
			"cell_type": "markdown",
			"metadata": {},
			"source": [
				"![imagen](./img/ejercicios.png)"
			]
		},
		{
			"cell_type": "markdown",
			"metadata": {},
			"source": [
				"# Ejercicios Python Basics II"
			]
		},
		{
			"cell_type": "markdown",
			"metadata": {},
			"source": [
				"## Ejercicio 1\n",
				"* Crea dos variables numericas: un `int` y un `float`\n",
				"* Comprueba sus tipos\n",
				"* Sumalas en otra nueva\n",
				"* ¿De qué tipo es la nueva variable?\n",
				"* Elimina las variables creadas"
			]
		},
		{
			"cell_type": "code",
			"execution_count": 1,
			"metadata": {},
			"outputs": [
				{
					"name": "stdout",
					"output_type": "stream",
					"text": [
						"valor_int type is <class 'int'>\n",
						"valor_float type is <class 'float'>\n",
						"nuevo_valor type is <class 'float'>\n"
					]
				}
			],
			"source": [
				"valor_int = 9\n",
				"valor_float = 9.0\n",
				"print(\"valor_int type is\",type(valor_int))\n",
				"print(\"valor_float type is\",type(valor_float))\n",
				"nuevo_valor = valor_float + valor_int\n",
				"print(\"nuevo_valor type is\",type(nuevo_valor))\n",
				"del valor_float\n",
				"del valor_int\n",
				"del nuevo_valor"
			]
		},
		{
			"cell_type": "markdown",
			"metadata": {},
			"source": [
				"## Ejercicio 2\n",
				"Escribe un programa para pasar de grados a radianes. Hay que usar `input`. Recuerda que la conversión se realiza mediante\n",
				"\n",
				"$$radianes = grados*(pi/180)$$"
			]
		},
		{
			"cell_type": "code",
			"execution_count": 2,
			"metadata": {},
			"outputs": [
				{
					"name": "stdout",
					"output_type": "stream",
					"text": [
						"El valor de 45.0 grados en radianes es 0.7853981633974483\n"
					]
				}
			],
			"source": [
				"import math\n",
				"valor_grados = float(input('Introduce el valor en grados: '))\n",
				"valor_radianes = valor_grados * (math.pi/180)\n",
				"print(f\"El valor de {valor_grados} grados en radianes es {valor_radianes}\")"
			]
		},
		{
			"cell_type": "markdown",
			"metadata": {},
			"source": [
				"## Ejercicio 3\n",
				"Escribe un programa que calcule el area de un paralelogramo (base x altura). También con `input`"
			]
		},
		{
			"cell_type": "code",
			"execution_count": 4,
			"metadata": {},
			"outputs": [
				{
					"name": "stdout",
					"output_type": "stream",
					"text": [
						"El área del paralelogramo con base 7.4 y altura 5.0 es 37.0\n"
					]
				}
			],
			"source": [
				"base = float(input('Base:'))\n",
				"altura = float(input(\"Altura\"))\n",
				"area = base * altura\n",
				"print(f\"El área del paralelogramo con base {base} y altura {altura} es {area}\")"
			]
		},
		{
			"cell_type": "markdown",
			"metadata": {},
			"source": [
				"## Ejercicio 4\n",
				"Tenemos las siguientes variables:\n",
				"\n",
				"```Python\n",
				"A = 4\n",
				"B = \"Text\"\n",
				"C = 4.1\n",
				"```\n",
				"\n",
				"Comprueba:\n",
				"1. Si A y B son equivalentes\n",
				"2. Si A y C NO son equivalentes\n",
				"3. Si A es mayor que C \n",
				"4. Si C es menor o igual que A\n",
				"5. Si B NO es equivalente a C"
			]
		},
		{
			"cell_type": "code",
			"execution_count": 4,
			"metadata": {},
			"outputs": [],
			"source": [
				"A = 4\n",
				"B = \"Text\"\n",
				"C = 4.1"
			]
		},
		{
			"cell_type": "code",
			"execution_count": 5,
			"metadata": {},
			"outputs": [
				{
					"data": {
						"text/plain": [
							"False"
						]
					},
					"execution_count": 5,
					"metadata": {},
					"output_type": "execute_result"
				}
			],
			"source": [
				"A == B"
			]
		},
		{
			"cell_type": "code",
			"execution_count": 6,
			"metadata": {},
			"outputs": [
				{
					"data": {
						"text/plain": [
							"True"
						]
					},
					"execution_count": 6,
					"metadata": {},
					"output_type": "execute_result"
				}
			],
			"source": [
				"not (A == C)"
			]
		},
		{
			"cell_type": "code",
			"execution_count": 7,
			"metadata": {},
			"outputs": [
				{
					"data": {
						"text/plain": [
							"True"
						]
					},
					"execution_count": 7,
					"metadata": {},
					"output_type": "execute_result"
				}
			],
			"source": [
				"A < C "
			]
		},
		{
			"cell_type": "code",
			"execution_count": 8,
			"metadata": {},
			"outputs": [
				{
					"data": {
						"text/plain": [
							"False"
						]
					},
					"execution_count": 8,
					"metadata": {},
					"output_type": "execute_result"
				}
			],
			"source": [
				"C <= A"
			]
		},
		{
			"cell_type": "code",
			"execution_count": 9,
			"metadata": {},
			"outputs": [
				{
					"data": {
						"text/plain": [
							"True"
						]
					},
					"execution_count": 9,
					"metadata": {},
					"output_type": "execute_result"
				}
			],
			"source": [
				"B != C"
			]
		},
		{
			"cell_type": "markdown",
			"metadata": {},
			"source": [
				"## Ejercicio 5\n",
				"Crea un programa donde se recojan dos inputs del usuario, y el output del programa sea si esos inputs son iguales o no"
			]
		},
		{
			"cell_type": "code",
			"execution_count": 5,
			"metadata": {},
			"outputs": [
				{
					"name": "stdout",
					"output_type": "stream",
					"text": [
						"¿5 es igual a p? False\n"
					]
				}
			],
			"source": [
				"input_1 = input(\"Input 1:\")\n",
				"input_2 = input(\"Input 2:\")\n",
				"print(f\"¿{input_1} es igual a {input_2}? {input_1 == input_2}\")"
			]
		},
		{
			"cell_type": "markdown",
			"metadata": {},
			"source": [
				"## Ejercicio 6\n",
				"Mismo programa que en 5, pero en esta ocasión tienen que ser tres inputs y dos salidas. Una de las salidas que nos indique si todos son iguales, y la otra si al menos dos inputs sí que lo son"
			]
		},
		{
			"cell_type": "code",
			"execution_count": 14,
			"metadata": {},
			"outputs": [
				{
					"name": "stdout",
					"output_type": "stream",
					"text": [
						"Valores introducidos: 5, d, 5\n",
						"False\n",
						"True\n"
					]
				}
			],
			"source": [
				"input_1 = input(\"Input 1:\")\n",
				"input_2 = input(\"Input 2:\")\n",
				"input_3 = input(\"Input 3:\")\n",
				"print(f\"Valores introducidos: {input_1}, {input_2}, {input_3}\")\n",
				"print(input_1 == input_2 and input_2==input_3)\n",
				"print((input_1 == input_2) or (input_2==input_3) or (input_3==input_1))"
			]
		},
		{
			"cell_type": "markdown",
			"metadata": {},
			"source": [
				"## Ejercicio 7\n",
				"Crea un programa que recoja dos inputs. Tiene que comprobar si su suma es igual, superior o inferior a 10, cada condición por separado"
			]
		},
		{
			"cell_type": "code",
			"execution_count": 15,
			"metadata": {},
			"outputs": [
				{
					"name": "stdout",
					"output_type": "stream",
					"text": [
						"Input 1: 5.3 Input 2: 5.0 suma: 10.3\n",
						"¿Es igual a 10? False\n",
						"¿Es superior a 10? True\n",
						"¿Es inferior a 10? False\n"
					]
				}
			],
			"source": [
				"input_1 = float(input(\"Input 1:\"))\n",
				"input_2 = float(input(\"Input 2:\"))\n",
				"suma = input_1 + input_2\n",
				"print(\"Input 1:\", input_1, \"Input 2:\", input_2, \"suma:\", suma)\n",
				"print(\"¿Es igual a 10?\", suma == 10)\n",
				"print(\"¿Es superior a 10?\", suma > 10)\n",
				"print(\"¿Es inferior a 10?\", suma < 10)"
			]
		},
		{
			"attachments": {},
			"cell_type": "markdown",
			"metadata": {},
			"source": [
				"## Ejercicio 8\n",
				"Razona sin ejecutar código el output que obtendremos de las siguientes sentencias\n",
				"1. True and True and False\n",
				"2. not ((True or False) and (True or False))\n",
				"3. (False or False or False or True) and False\n",
				"4. not False and True and not True\n",
				"\n",
				"Compruébalo después con python"
			]
		},
		{
			"cell_type": "markdown",
			"metadata": {},
			"source": [
				"1. False\n",
				"2. False\n",
				"3. False\n",
				"4. False"
			]
		},
		{
			"cell_type": "code",
			"execution_count": 16,
			"metadata": {},
			"outputs": [
				{
					"name": "stdout",
					"output_type": "stream",
					"text": [
						"False\n",
						"False\n",
						"False\n",
						"False\n"
					]
				}
			],
			"source": [
				"print(True and True and False)\n",
				"print(not ((True or False) and (True or False)))\n",
				"print((False or False or False or True) and False)\n",
				"print(not False and True and not True)"
			]
		},
		{
			"cell_type": "markdown",
			"metadata": {},
			"source": [
				"## Ejercicio 9\n",
				"Para este ejercicio vamos a poner en práctica [las funciones built in](https://docs.python.org/3/library/functions.html).\n",
				"\n",
				"1. Calcula el máximo de la lista: [4, 6, 8, -1]\n",
				"2. Suma todos los elementos de la lista anterior\n",
				"3. Redondea este float a 3 dígitos decimales: 63.451256965\n",
				"4. Valor absoluto de: -74"
			]
		},
		{
			"cell_type": "code",
			"execution_count": 17,
			"metadata": {},
			"outputs": [
				{
					"name": "stdout",
					"output_type": "stream",
					"text": [
						"El valor máximo de la lista es 8\n",
						"La suma de la lista es: 17\n",
						"Redondeo a 3 dígitos decimales: 63.451\n",
						"Valor absoluto de -74: 74\n"
					]
				}
			],
			"source": [
				"lista = [4,6,8,-1]\n",
				"print(f\"El valor máximo de la lista es {max(lista)}\")\n",
				"print(f\"La suma de la lista es: {sum(lista)}\")\n",
				"print(\"Redondeo a 3 dígitos decimales:\", round(63.451256965,3))\n",
				"print(\"Valor absoluto de -74:\",abs(-74))"
			]
		},
		{
			"cell_type": "markdown",
			"metadata": {},
			"source": [
				"## Ejercicio 10\n",
				"Para el siguiente string se pide imprimir por pantalla los siguientes casos\n",
				"\n",
				"    \"Lo primero de todo, cómo están los máquinas\"\n",
				"\n",
				"1. Pasarlo todo a mayúsculas\n",
				"2. Pasarlo todo a minúsculas\n",
				"3. Pasar a mayúsculas solo las iniciales de las palabras\n",
				"4. Crea una lista dividiendolo por sus espacios\n",
				"5. Sustituye las comas `,` por puntos y comas `;`\n",
				"6. Elimina las `a` minúsculas"
			]
		},
		{
			"cell_type": "code",
			"execution_count": 3,
			"metadata": {},
			"outputs": [
				{
					"name": "stdout",
					"output_type": "stream",
					"text": [
						"En mayúsculas: LO PRIMERO DE TODO, CÓMO ESTÁN LOS MÁQUINAS\n",
						"En minúsculas: lo primero de todo, cómo están los máquinas\n",
						"Pasar a lista: ['Lo', 'primero', 'de', 'todo,', 'cómo', 'están', 'los', 'máquinas']\n",
						"En minúsculas: lo primero de todo, cómo están los máquinas\n",
						"Sustituir \",\" por \";\": Lo primero de todo; cómo están los máquinas\n",
						"Eliminar las \"a\" minúsculas: Lo primero de todo, cómo estn los mquins\n"
					]
				},
				{
					"data": {
						"text/plain": [
							"'Lo primero de todo, cómo estn los mquinas'"
						]
					},
					"execution_count": 3,
					"metadata": {},
					"output_type": "execute_result"
				}
			],
			"source": [
				"sentence = \"Lo primero de todo, cómo están los máquinas\"\n",
				"print(f\"En mayúsculas: {sentence.upper()}\")\n",
				"print(f\"En minúsculas: {sentence.lower()}\")\n",
				"print(f\"Pasar a lista:\", sentence.split(\" \"))\n",
				"print(f\"En minúsculas: {sentence.lower()}\")\n",
				"print(f\"Sustituir \\\",\\\" por \\\";\\\": {sentence.replace(',',';')}\")\n",
				"print(f\"Eliminar las \\\"a\\\" minúsculas: {sentence.replace('a','').replace('á','')}\")\n",
				"\n",
				"#********************************************************\n",
				"#**********UTILIZAR MAS DE UN PATRION EN EL REPLACE *****\n",
				"#********************************************************\n",
				"sentence.replace('a' and \"á\",'')"
			]
		},
		{
			"cell_type": "markdown",
			"metadata": {},
			"source": [
				"## Ejercicio 11\n",
				"1. Crea una lista con 3 elementos numéricos\n",
				"2. Añade un cuarto elemento\n",
				"3. Calcula la suma de todos\n",
				"4. Elimina el segundo elemento de la lista\n",
				"5. Añade otro elemento en la posicion 3 de la lista\n",
				"6. Crea otra lista con 4 elementos y concaténala a la que ya tenías."
			]
		},
		{
			"cell_type": "code",
			"execution_count": 19,
			"metadata": {},
			"outputs": [
				{
					"name": "stdout",
					"output_type": "stream",
					"text": [
						"[1, 2, 3]\n",
						"[1, 2, 3, 4]\n",
						"suma 10\n",
						"[1, 3, 4]\n",
						"[1, 3, 5, 4]\n",
						"[1, 3, 5, 4, 6, 7, 8, 9]\n"
					]
				}
			],
			"source": [
				"numeros = [1,2,3]\n",
				"print(numeros)\n",
				"numeros.append(4)\n",
				"print(numeros)\n",
				"print(\"suma\", sum(numeros))\n",
				"numeros.pop(1)\n",
				"print(numeros)\n",
				"numeros.insert(2,5)\n",
				"print(numeros)\n",
				"nueva_lista = [6,7,8,9]\n",
				"lista_concatenada = numeros + nueva_lista\n",
				"print(lista_concatenada)"
			]
		}
	],
	"metadata": {
		"kernelspec": {
			"display_name": ".venv",
			"language": "python",
			"name": "python3"
		},
		"language_info": {
			"codemirror_mode": {
				"name": "ipython",
				"version": 3
			},
			"file_extension": ".py",
			"mimetype": "text/x-python",
			"name": "python",
			"nbconvert_exporter": "python",
			"pygments_lexer": "ipython3",
			"version": "3.11.9"
		},
		"nbTranslate": {
			"displayLangs": [
				"*"
			],
			"hotkey": "alt-t",
			"langInMainMenu": true,
			"sourceLang": "en",
			"targetLang": "fr",
			"useGoogleTranslate": true
		},
		"varInspector": {
			"cols": {
				"lenName": 16,
				"lenType": 16,
				"lenVar": 40
			},
			"kernels_config": {
				"python": {
					"delete_cmd_postfix": "",
					"delete_cmd_prefix": "del ",
					"library": "var_list.py",
					"varRefreshCmd": "print(var_dic_list())"
				},
				"r": {
					"delete_cmd_postfix": ") ",
					"delete_cmd_prefix": "rm(",
					"library": "var_list.r",
					"varRefreshCmd": "cat(var_dic_list()) "
				}
			},
			"types_to_exclude": [
				"module",
				"function",
				"builtin_function_or_method",
				"instance",
				"_Feature"
			],
			"window_display": false
		}
	},
	"nbformat": 4,
	"nbformat_minor": 4
}
