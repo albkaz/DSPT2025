{
 "cells": [
  {
   "cell_type": "markdown",
   "metadata": {},
   "source": [
    "![imagen](./img/ejercicios.png)\n",
    "\n",
    "# Ejercicios Clases y Objetos"
   ]
  },
  {
   "attachments": {},
   "cell_type": "markdown",
   "metadata": {},
   "source": [
    "## Ejercicio 1\n",
    "Somos una empresa que tiene varias tiendas de electrodomésticos. Necesitamos un programa para manejar las tiendas, ver las ventas que han tenido, cuántos empleados hay, etc... Para ello vamos a modelizar la tienda en una clase, que tendrá las siguientes características:\n",
    "* Nombre clase: \"Tienda\"\n",
    "* Atributos comunes:\n",
    "    * Tipo: \"Electrodomésticos\"\n",
    "    * Abierta: True\n",
    "* Atributos propios de cada tienda:\n",
    "    * Nombre - String\n",
    "    * Dirección - String\n",
    "    * Número de empleados - int\n",
    "    * Ventas últimos 3 meses - Lista de 3 numeros\n",
    "* Método para calcular las ventas de todos los meses, que devuelva un número con todas las ventas.\n",
    "* Método que calcula la media de ventas de los últimos meses, por empleado\n",
    "* Método que devuelve en un string el nombre de la tienda, junto con su dirección.\n",
    "* Método que obtiene las ventas del último mes.\n",
    "* Método para dar una proyección de las ventas en caso de haber invertido X dinero en marketing en esa tienda. Siendo X el parámetro de entrada. Si X es menor de 1000, las ventas de los ultimos 3 meses hubiesen sido de (1.2 x ventas), si es mayor o igual de 1000, las ventas hubiesen sido de (1.5 x venta). El método reescribe el atributo de ventas en los últimos 3 meses, y además devuelve las ventas con el aumento.\n",
    "\n",
    "Se pide:\n",
    "1. Implementar la clase \"Tienda\"\n",
    "2. Crear tres tiendas con datos inventados\n",
    "3. Comprueba en al menos una de ellas, todo lo implementado en la clase tienda (sus atributos, media de ventas, ventas/empleado...)\n",
    "3. Calcular las ventas del último mes de todas las tiendas. Para ello usa el bucle `for`\n",
    "4. Imprime por pantalla los nombres de las tiendas cuya dirección lleve el string \"Avenida\"\n",
    "5. Seguro que ya has hecho este apartado... Documenta la clase :)"
   ]
  },
  {
   "cell_type": "code",
   "execution_count": 1,
   "metadata": {},
   "outputs": [],
   "source": [
    "# 1. Implementar la clase \"Tienda\"\n",
    "class Tienda:\n",
    "    \"\"\"\n",
    "    Clase que representa una Tienda. \n",
    "    Por defecto se crea con el tipo \"Electrodomésticos\" y abierta.\n",
    "    \n",
    "    Parameters:\n",
    "        nombre: str \n",
    "        direccion: str\n",
    "        empleados: int\n",
    "        venta_3_meses: list[int]\n",
    "     \n",
    "    \"\"\"\n",
    "    \n",
    "    tipo=\"Electrodomésticos\"\n",
    "    abierta=True\n",
    "    \n",
    "    def __init__(self, nombre:str, direccion:str, empleados: int, ventas_3_meses:list[int]):\n",
    "        \"\"\"\n",
    "        Constructor\n",
    "        \n",
    "        Parameters:\n",
    "            nombre: str \n",
    "            direccion: str\n",
    "            empleados: int\n",
    "            venta_3_meses: list[int]\n",
    "        \"\"\"\n",
    "        self.nombre = nombre\n",
    "        self.direccion = direccion\n",
    "        self.empleados = empleados\n",
    "        self.ventas_3_meses = ventas_3_meses\n",
    "        \n",
    "        \n",
    "    def todas_las_ventas(self)->int:\n",
    "        \"\"\"\n",
    "        Metodo que suma todas las ventas\n",
    "        \n",
    "        Output:\n",
    "            int \n",
    "        \"\"\"\n",
    "        return sum(self.ventas_3_meses)\n",
    "    \n",
    "    \n",
    "    def media_ventas(self)->float:\n",
    "        \"\"\"\n",
    "        Metodo que devuelve la media de las ventas.\n",
    "        \n",
    "        Output:\n",
    "            float\n",
    "        \"\"\"\n",
    "        return self.todas_las_ventas()/len(self.ventas_3_meses)\n",
    "    \n",
    "    def descripcion_tienda(self)->str:\n",
    "        \"\"\"\n",
    "        Metodo que devuelve el nombre y la direccion  de la tienda.\n",
    "        \n",
    "        Output:\n",
    "            str\n",
    "        \"\"\"\n",
    "        return self.nombre + ' situada en ' + self.direccion\n",
    "    \n",
    "    def ventas_ultimo_mes(self)->int:\n",
    "        \"\"\"\n",
    "        Metodo que devuelve las ventas del último mes\n",
    "        \n",
    "        Output:\n",
    "            int\n",
    "        \"\"\"\n",
    "        return self.ventas_3_meses[-1]\n",
    "    \n",
    "    def proyeccion_ventas(self, inversion:int | float)->list[int]:\n",
    "        \"\"\"\n",
    "        Metodo que devuelve una proyeccion de las ventas en función de la inversión realizada\n",
    "        \n",
    "        Parameters:\n",
    "            inversion: int | floatr\n",
    "        \n",
    "        Output:\n",
    "            list[int]\n",
    "        \"\"\"\n",
    "        aumento = 1.2\n",
    "        if inversion > 1000:\n",
    "            aumento = 1.5\n",
    "        for pos, venta in enumerate(self.ventas_3_meses):\n",
    "            self.ventas_3_meses[pos] = venta * aumento \n",
    "        return self.ventas_3_meses"
   ]
  },
  {
   "cell_type": "code",
   "execution_count": 2,
   "metadata": {},
   "outputs": [],
   "source": [
    "# 2. Crear tres tiendas con datos inventados\n",
    "tiendas:list[Tienda] = []\n",
    "tienda_1 = Tienda(\"Tienda 1\", \"Calle del Perro, 5\", 5, [5,6,7])\n",
    "tienda_2 = Tienda(\"Tienda 2\", \"Avenida Madariaga, 45\", 15, [15,46,37])\n",
    "tienda_3 = Tienda(\"Tienda 3\", \"Avenida Lehendakari Agirre 33\", 10, [7,6,7])\n",
    "tiendas.append(tienda_1)\n",
    "tiendas.append(tienda_2)\n",
    "tiendas.append(tienda_3)"
   ]
  },
  {
   "cell_type": "code",
   "execution_count": 3,
   "metadata": {},
   "outputs": [
    {
     "name": "stdout",
     "output_type": "stream",
     "text": [
      "Tipo Electrodomésticos\n",
      "Abierta True\n",
      "Nombre Tienda 1\n",
      "Dirección Calle del Perro, 5\n",
      "Empleados 5\n",
      "Ventas últimos 3 meses [5, 6, 7]\n",
      "Descipción Tienda 1 situada en Calle del Perro, 5\n",
      "Media 6.0\n",
      "Total ventas 18\n",
      "Ventas último mes 7\n",
      "Proyección de ventas [7.5, 9.0, 10.5]\n"
     ]
    }
   ],
   "source": [
    "# 3. Comprueba en al menos una de ellas, todo lo implementado en la clase tienda\n",
    "# (sus atributos, media de ventas, ventas/empleado...)\n",
    "\n",
    "# Atributos\n",
    "print(\"Tipo\", tienda_1.tipo)\n",
    "print(\"Abierta\", tienda_1.abierta)\n",
    "print(\"Nombre\",tienda_1.nombre)\n",
    "print(\"Dirección\",tienda_1.direccion)\n",
    "print(\"Empleados\",tienda_1.empleados)\n",
    "print(\"Ventas últimos 3 meses\",tienda_1.ventas_3_meses)\n",
    "\n",
    "# Métodos\n",
    "print(\"Descipción\", tienda_1.descripcion_tienda())\n",
    "print(\"Media\",tienda_1.media_ventas())\n",
    "print(\"Total ventas\",tienda_1.todas_las_ventas())\n",
    "print(\"Ventas último mes\", tienda_1.ventas_ultimo_mes())\n",
    "print(\"Proyección de ventas\", tienda_1.proyeccion_ventas(1500))"
   ]
  },
  {
   "cell_type": "code",
   "execution_count": 4,
   "metadata": {},
   "outputs": [
    {
     "name": "stdout",
     "output_type": "stream",
     "text": [
      "Las ventas del útimo mes de la tienda Tienda 1  son  10.5\n",
      "Las ventas del útimo mes de la tienda Tienda 2  son  37\n",
      "Las ventas del útimo mes de la tienda Tienda 3  son  7\n",
      "El total de las ventas de todas las tiendas es 54.5\n"
     ]
    }
   ],
   "source": [
    "# 3. Calcular las ventas del último mes de todas las tiendas. Para ello usa el bucle `for`\n",
    "total_ventas = 0\n",
    "for tienda in tiendas:\n",
    "    print(\"Las ventas del útimo mes de la tienda\", tienda.nombre, \" son \", tienda.ventas_ultimo_mes())\n",
    "    total_ventas += tienda.ventas_ultimo_mes()\n",
    "print(\"El total de las ventas de todas las tiendas es\", total_ventas)"
   ]
  },
  {
   "cell_type": "code",
   "execution_count": 5,
   "metadata": {},
   "outputs": [
    {
     "name": "stdout",
     "output_type": "stream",
     "text": [
      "Tienda 2\n",
      "Tienda 3\n",
      "**********\n",
      "Tienda 2\n",
      "Tienda 3\n",
      "**********\n",
      "Tienda 2\n",
      "Tienda 3\n"
     ]
    }
   ],
   "source": [
    "# 4. Imprime por pantalla los nombres de las tiendas cuya dirección lleve el string \"Avenida\"\n",
    "\n",
    "# se podría hacer de varias formas.\n",
    "\n",
    "# Iterar en un for e imprimir, mirando si cumple la condición dentro del for.\n",
    "for tienda in tiendas :\n",
    "    if \"avenida\" in tienda.direccion.lower():\n",
    "        print(tienda.nombre)\n",
    "        \n",
    "print(\"*\"*10)\n",
    "\n",
    "\n",
    "#Imprimiendo lista en la que ya se han filtrado las tiendas, bien con un join o sino con un print y el unpacking\n",
    "lista_filtrada = [tienda.nombre for tienda in tiendas if \"avenida\" in tienda.direccion.lower()]\n",
    "\n",
    "print('\\n'.join(lista_filtrada))\n",
    "\n",
    "print(\"*\"*10)\n",
    "\n",
    "print(*lista_filtrada, sep=\"\\n\")\n",
    "\n",
    "\n",
    "\n",
    "\n",
    "    "
   ]
  },
  {
   "cell_type": "markdown",
   "metadata": {},
   "source": [
    "## Ejercicio 2\n",
    "En este ejercicio vamos a implementar una clase *Perro* en Python. La clase tiene las siguientes características:\n",
    "* Cosas que sabemos seguro que tiene un perro\n",
    "    * Tiene 4 patas\n",
    "    * 2 orejas\n",
    "    * 2 ojos\n",
    "    * Una velocidad de 0. Por defecto, el perro está parado\n",
    "* Cuando se inicialice:\n",
    "    * El perro será de una determinada raza\n",
    "    * Por defecto tendrá pelo \"Marrón\", a no ser que se diga lo contrario.\n",
    "    * Por defecto no tendrá dueño, a no ser que se diga lo contrario.\n",
    "    \n",
    "* Dispondrá también de un método llamado andar, que tiene un argumento de entrada (aumento_velocidad). Este valor se le sumará a la velocidad que ya llevaba el perro.\n",
    "* Necesita otro método (parar), donde pondremos la velocidad a 0.\n",
    "* Otro método llamado \"ladrar\", que tendrá un argumento de entrada, y la salida será el siguiente string: \"GUAU!\" + el argumento de entrada.\n",
    "\n",
    "\n",
    "Se pide:\n",
    "* Implementa la clase *Perro*\n",
    "* Crea un objeto de tipo *Perro*, sin dueño\n",
    "* Comprueba que están bien todos sus atributos\n",
    "* Prueba que ande, y comprueba su velocidad\n",
    "* Páralo\n",
    "* Documenta la clase *Perro*"
   ]
  },
  {
   "cell_type": "code",
   "execution_count": 6,
   "metadata": {},
   "outputs": [],
   "source": [
    "class Perro:\n",
    "    \"\"\"\n",
    "    Clase que representa un Perro. \n",
    "    Por defecto todos los perros tienen 4 patas, 2 orejas, 2 ojos y una velocidad de 0\n",
    "    \n",
    "    Parameters:\n",
    "        raza: str \n",
    "        pelo: str po defecto Marrón\n",
    "        duenyo: str por defecto None\n",
    "    \"\"\"\n",
    "    \n",
    "    patas = 4\n",
    "    orejas = 2\n",
    "    ojos = 2\n",
    "    velocidad = 0\n",
    "    \n",
    "    def __init__(self, raza:str, pelo:str=\"Marrón\", duenyo:str=None):\n",
    "        \"\"\"\n",
    "        Constructor\n",
    "        \n",
    "        Parameters:\n",
    "            raza:str \n",
    "            pelo:str po defecto Marrón\n",
    "            duenyo:str por defecto None\n",
    "        \"\"\"\n",
    "        self.raza = raza\n",
    "        self.pelo = pelo\n",
    "        self.duenyo = duenyo\n",
    "        \n",
    "    def andar(self, incremento_velocidad:float)->None:\n",
    "        \"\"\"\n",
    "        Método que incrementa la velocidad del perror.\n",
    "        \n",
    "        Inputs:\n",
    "            incremento_velocidad:float  \n",
    "            \n",
    "        \"\"\"\n",
    "        self.velocidad += incremento_velocidad\n",
    "        \n",
    "        \n",
    "    def parar(self)->None:\n",
    "        \"\"\"\n",
    "        Método que para al perro. Modifica la velocidad a 0 \n",
    "        \"\"\"\n",
    "        self.velocidad = 0\n",
    "        \n",
    "    def ladrar(self, palabra:str)->str:\n",
    "        \"\"\"\n",
    "        Método que devuelve un string con \"GUAU!\" y la palabra que se le ha indicado.\n",
    "        \n",
    "        Input:\n",
    "            palabra:str\n",
    "            \n",
    "        Output:\n",
    "            \"GUAU!\" + palabra \n",
    "        \"\"\"\n",
    "        \n",
    "        return \"GUAU! \" + str(palabra)"
   ]
  },
  {
   "cell_type": "code",
   "execution_count": 7,
   "metadata": {},
   "outputs": [],
   "source": [
    "# Crea un objeto de tipo Perro, sin dueño\n",
    "pintxo = Perro(\"San Bernardo\")"
   ]
  },
  {
   "cell_type": "code",
   "execution_count": 8,
   "metadata": {},
   "outputs": [
    {
     "name": "stdout",
     "output_type": "stream",
     "text": [
      "Patas 4\n",
      "Orejas 2\n",
      "Ojos 2\n",
      "Velocidad 0\n",
      "Raza San Bernardo\n",
      "Pelo Marrón\n",
      "Dueño None\n"
     ]
    }
   ],
   "source": [
    "# Comprueba que están bien todos sus atributos\n",
    "print(\"Patas\", pintxo.patas)\n",
    "print(\"Orejas\", pintxo.orejas)\n",
    "print(\"Ojos\", pintxo.ojos)\n",
    "print(\"Velocidad\", pintxo.velocidad)\n",
    "\n",
    "print(\"Raza\", pintxo.raza)\n",
    "print(\"Pelo\", pintxo.pelo)\n",
    "print(\"Dueño\", pintxo.duenyo)"
   ]
  },
  {
   "cell_type": "code",
   "execution_count": 9,
   "metadata": {},
   "outputs": [
    {
     "name": "stdout",
     "output_type": "stream",
     "text": [
      "Velocidad 5\n"
     ]
    }
   ],
   "source": [
    "#  Prueba que ande, y comprueba su velocidad\n",
    "pintxo.andar(5)\n",
    "print(\"Velocidad\", pintxo.velocidad)"
   ]
  },
  {
   "cell_type": "code",
   "execution_count": 10,
   "metadata": {},
   "outputs": [
    {
     "name": "stdout",
     "output_type": "stream",
     "text": [
      "Velocidad 0\n"
     ]
    }
   ],
   "source": [
    "# Páralo\n",
    "pintxo.parar()\n",
    "print(\"Velocidad\", pintxo.velocidad)"
   ]
  },
  {
   "cell_type": "code",
   "execution_count": 11,
   "metadata": {},
   "outputs": [
    {
     "data": {
      "text/plain": [
       "'GUAU! Pintxo'"
      ]
     },
     "execution_count": 11,
     "metadata": {},
     "output_type": "execute_result"
    }
   ],
   "source": [
    "pintxo.ladrar(\"Pintxo\")"
   ]
  }
 ],
 "metadata": {
  "kernelspec": {
   "display_name": ".venv",
   "language": "python",
   "name": "python3"
  },
  "language_info": {
   "codemirror_mode": {
    "name": "ipython",
    "version": 3
   },
   "file_extension": ".py",
   "mimetype": "text/x-python",
   "name": "python",
   "nbconvert_exporter": "python",
   "pygments_lexer": "ipython3",
   "version": "3.11.9"
  }
 },
 "nbformat": 4,
 "nbformat_minor": 4
}
