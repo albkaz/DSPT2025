{
  "cells": [
    {
      "attachments": {},
      "cell_type": "markdown",
      "metadata": {
        "id": "AY6Q1wDJUobm"
      },
      "source": [
        "<h1><center>Examen Ramp Up 2025</center></h1>\n",
        "\n",
        "<h3>Ejercicio 1</h3>\n",
        "\n",
        "Diseñar una función que reciba varios argumentos (Pan = 2, Yogur = 6) o un diccionario con la compra realizada ({\"Pan\": 2,\"Yogur\": 6}) y calcule el importe total de la compra teniendo en cuenta los descuentos (porcentaje en formato unitario) impuesto por el comercio. A continuación, tenéis disponible la información sobre los productos que tiene el comercio, además de sus precios y descuentos (porcentaje en formato unitario) respectivamente. \n",
        "\n",
        "| **Producto** | **Precio** | **Descuento** |\n",
        "|:--------------:|:------------:|:---------------:|\n",
        "|Pan | 1.20 | 0.10 |\n",
        "|Yogur | 0.30 | 0.00 |\n",
        "|Lejia | 2.80 | 0.15 |\n",
        "|Leche | 0.87 | 0.05 |\n",
        "|Huevo | 0.17 | 0.20 |\n",
        "|Harina | 1.03 | 0.05 |\n",
        "|Detergente | 3.15 | 0.10 |\n",
        "|Gel | 4.19 | 0.00 |\n",
        "\n",
        "* Ejemplo:\n",
        "    * Entrada: {‘Pan’: 2,‘Yogur’: 6}.\n",
        "    * Salida: 3,96.\n",
        "\n",
        "Si veis que se os complica, centraros en la lógica pura sin encapsularlo en una función. Podéis crear una clase Tienda también, con un método asociado a una función que contenga la información necesaria, lo que más sencillo os resulte. Centraros sobre todo en emplear las estructuras que vimos en clase y elegid la que más os convenga."
      ]
    },
    {
      "cell_type": "code",
      "execution_count": 3,
      "metadata": {},
      "outputs": [],
      "source": [
        "\"\"\"\n",
        "Voy a crear 2 clases:\n",
        " \n",
        "Producto -> para el producto que tendrá el nombre, precio y descuento como atributos\n",
        "y la función precio_con_descuento que devolverá el precio unitario una vez aplicado el descuento\n",
        "\n",
        "\n",
        "Tienda -> contendrá los productos en un diccionario. Además tendrá el 2 métodos\n",
        "    1. Para añadir productos\n",
        "    2. Para calcular el precio total, pasandole como parametros key,vale el nombre del procto y la cantidad.\n",
        "\"\"\"\n",
        "\n",
        "class Producto:\n",
        "    \"\"\"\n",
        "    Clase que representa un producto. Contiene el nombre del producto, el precio y el descuento\n",
        "    \n",
        "    \n",
        "    Parameters\n",
        "        nombre:str nombre del producto\n",
        "        precio: float precio unitario del producto\n",
        "        descuento: float descuento porcentual unitario. Por defecto vale 0\n",
        "    \n",
        "    \"\"\"\n",
        "    \n",
        "    def __init__(self, nombre:str, precio:float, descuento:float=0):\n",
        "        \"\"\"\n",
        "        Constructor.\n",
        "        \n",
        "        Inputs:\n",
        "            nombre:str nombre del producto\n",
        "            precio: float precio unitario del producto\n",
        "            descuento: float descuento porcentual unitario. Por defecto vale 0 \n",
        "        \"\"\"\n",
        "        self.nombre = nombre\n",
        "        self.precio = precio\n",
        "        self.descuento = descuento\n",
        "        \n",
        "\n",
        "    def precio_con_descuento(self)->float:\n",
        "        \"\"\"\n",
        "        Método que devuelve el precio unitario del producto una vez aplicado el descuento\n",
        "        \n",
        "        Output\n",
        "            float\n",
        "         \n",
        "        \"\"\"\n",
        "        return self.precio - self.precio * self.descuento\n",
        "\n",
        "\n",
        "class Tienda:\n",
        "    \"\"\"\n",
        "    Clase que representa una tienda.\n",
        "    \"\"\"\n",
        "    \n",
        "    def __init__(self):\n",
        "        \"\"\"\n",
        "        Constructor.\n",
        "        Crea una atributo llamado productos de tipo diccionario.\n",
        "        \"\"\"\n",
        "        \n",
        "        self.productos:dict[str,Producto] = dict()\n",
        "        \n",
        "    def anadir_producto(self, nombre:str, precio:float, descuento:float=0):\n",
        "        \"\"\"\n",
        "        Método que añade un producto al diccionario productos de la tienda. El nombre del producto se usa como clave.\n",
        "        \n",
        "        Inputs:\n",
        "            nombre:str nombre del producto\n",
        "            precio: float precio unitario del producto\n",
        "            descuento: float descuento porcentual unitario. Por defecto vale 0\n",
        "        \"\"\"\n",
        "        self.productos[nombre.lower()] = Producto(nombre, precio, descuento)\n",
        "\n",
        "\n",
        "    def calcular_precio_total(self, **productos:dict[str, float])->float:\n",
        "        \"\"\"\n",
        "        Método que calcula el importe total de los productos una vez aplicado el descuento.\n",
        "        \n",
        "        Inputs\n",
        "            productos: dict[str, float] diccionario cuya clave es el nombre del producto y el valor es el número de unidades.\n",
        "            \n",
        "        Outputs:\n",
        "            float\n",
        "\n",
        "        \"\"\"\n",
        "        total = 0\n",
        "        for (nombre_producto, cantidad) in productos.items():\n",
        "            try:\n",
        "                producto =self.productos[nombre_producto.lower()]\n",
        "                total += cantidad * producto.precio_con_descuento()\n",
        "            except KeyError as e:\n",
        "                print(\"No se ha encontrado el producto\", nombre_producto, \"Error:\", e)\n",
        "            except Exception as e:\n",
        "                print(\"Error al calcular el valor del producto\", nombre_producto, \"Error:\", e)\n",
        "        return total\n",
        "                   "
      ]
    },
    {
      "cell_type": "code",
      "execution_count": 4,
      "metadata": {},
      "outputs": [],
      "source": [
        "#Creo la tienda y añado los productos que hay en la tienda.\n",
        "\n",
        "tienda = Tienda()\n",
        "\n",
        "tienda.anadir_producto(\"Pan\",1.2, 0.1)\n",
        "tienda.anadir_producto(\"Yogur\",0.30)\n",
        "tienda.anadir_producto(\"Lejia\",2.80 , 0.1)\n",
        "tienda.anadir_producto(\"Leche\",0.87, 0.05)\n",
        "tienda.anadir_producto(\"Huevo\",0.17, 0.20)\n",
        "tienda.anadir_producto(\"Harina\",1.03, 0.05)\n",
        "tienda.anadir_producto(\"Detergente\",3.15, 0.10)\n",
        "tienda.anadir_producto(\"Gel\",4.19)  "
      ]
    },
    {
      "cell_type": "code",
      "execution_count": 5,
      "metadata": {},
      "outputs": [
        {
          "data": {
            "text/plain": [
              "3.96"
            ]
          },
          "execution_count": 5,
          "metadata": {},
          "output_type": "execute_result"
        }
      ],
      "source": [
        "#calculo importe pasando los valores como key-value\n",
        "tienda.calcular_precio_total(Pan=2, yogur=6) "
      ]
    },
    {
      "cell_type": "code",
      "execution_count": 6,
      "metadata": {},
      "outputs": [
        {
          "name": "stdout",
          "output_type": "stream",
          "text": [
            "No se ha encontrado el producto Flan Error: 'flan'\n"
          ]
        },
        {
          "data": {
            "text/plain": [
              "3.96"
            ]
          },
          "execution_count": 6,
          "metadata": {},
          "output_type": "execute_result"
        }
      ],
      "source": [
        "tienda.calcular_precio_total(Pan=2, yOgur=6, Flan=9)   "
      ]
    },
    {
      "cell_type": "code",
      "execution_count": 7,
      "metadata": {},
      "outputs": [
        {
          "data": {
            "text/plain": [
              "0"
            ]
          },
          "execution_count": 7,
          "metadata": {},
          "output_type": "execute_result"
        }
      ],
      "source": [
        "tienda.calcular_precio_total()   "
      ]
    },
    {
      "attachments": {},
      "cell_type": "markdown",
      "metadata": {
        "id": "LaFJoGKaUobv"
      },
      "source": [
        "<h3>Ejercicio 2</h3>\n",
        "\n",
        "Desarrollar una función que reciba una lista de números enteros positivos y devuelva una lista de diccionarios, en la que cada diccionario indicará el número de cifras pares e impares.\n",
        "\n",
        "* Ejemplo:\n",
        "    * Entrada: [124, 8771].\n",
        "    * Salida: [{\"Pares\" : 2,\"Impares\" : 1}, {\"Pares\" : 1, \"Impares\" : 3}].\n",
        "\n",
        "Empezad con un ejemplo sencillo, dada una cifra obtener los números pares e impares, podéis imprimir por pantalla y a partir de ahí construid una respuesta más compleja (el diccionario en nuestro caso), finalmente encapsulándolo en una función."
      ]
    },
    {
      "cell_type": "code",
      "execution_count": null,
      "metadata": {},
      "outputs": [],
      "source": [
        "def pares_impares(lista_numeros:list[int])->list[dict[str,int]]:\n",
        "    \"\"\"\n",
        "    Función que recibe una lista de números enteros \n",
        "    y que devuelve una lista con un diccionario indicando cuantos digitos son pares y cuantos impares\n",
        "    \n",
        "    Inputs\n",
        "        lista_numeros:list[int] lista de números enteros y positivos.\n",
        "        \n",
        "    Ouput:\n",
        "        list[dict[str, int]] lista con diccionarios que indican cuantos digitos son pares y cuantos impares.\n",
        "            {\n",
        "                \"Pares\": 2,\n",
        "                \"Impares\": 3\n",
        "            } \n",
        "    \"\"\"\n",
        "    lista_salida = []\n",
        "    for numero in lista_numeros:\n",
        "        resultado_numero = {\n",
        "            \"Pares\":0,\n",
        "            \"Impares\": 0\n",
        "        }\n",
        "        lista_salida.append(resultado_numero)\n",
        "        if isinstance(numero, int) and numero >=0:\n",
        "            for caracter in str(numero):\n",
        "                \n",
        "                if int(caracter) % 2 == 0 :\n",
        "                    #es para\n",
        "                    resultado_numero[\"Pares\"] += 1\n",
        "                else:\n",
        "                    #es impar\n",
        "                    resultado_numero[\"Impares\"] += 1\n",
        "    return lista_salida"
      ]
    },
    {
      "cell_type": "code",
      "execution_count": 7,
      "metadata": {},
      "outputs": [
        {
          "data": {
            "text/plain": [
              "[{'Pares': 2, 'Impares': 1}, {'Pares': 1, 'Impares': 3}]"
            ]
          },
          "execution_count": 7,
          "metadata": {},
          "output_type": "execute_result"
        }
      ],
      "source": [
        "pares_impares( [124, 8771])"
      ]
    },
    {
      "cell_type": "code",
      "execution_count": 8,
      "metadata": {},
      "outputs": [
        {
          "data": {
            "text/plain": [
              "[{'Pares': 0, 'Impares': 0}, {'Pares': 1, 'Impares': 3}]"
            ]
          },
          "execution_count": 8,
          "metadata": {},
          "output_type": "execute_result"
        }
      ],
      "source": [
        "pares_impares( [\"ddd\", 8771])"
      ]
    },
    {
      "cell_type": "code",
      "execution_count": 9,
      "metadata": {},
      "outputs": [
        {
          "data": {
            "text/plain": [
              "[{'Pares': 0, 'Impares': 0}, {'Pares': 1, 'Impares': 3}]"
            ]
          },
          "execution_count": 9,
          "metadata": {},
          "output_type": "execute_result"
        }
      ],
      "source": [
        "pares_impares( [1.5, 8771])"
      ]
    },
    {
      "attachments": {},
      "cell_type": "markdown",
      "metadata": {},
      "source": [
        "<h3>Ejercicio 3</h3>\n",
        "\n",
        "Diseñar una función que reciba argumentos como prendas y sus precios y devuelve un diccionario con el top 3 (las tres prendas más caras). Podéis trabajar con un diccionario como entrada también donde los datos sean el producto como clave y precio como valor.\n",
        "\n",
        "* Ejemplo:\n",
        "    * input: {'camisa': 45.50, 'pantalones':35, 'camiseta': 41.30, 'abrigo':55, 'calcetines': 24}.\n",
        "    * output: {'abrigo':55,'camisa': 45.50, 'camiseta': 41.30}.\n",
        "\n",
        "Podéis obtener los valores del diccionario, ordenarlos del más caro al más barato y mirar que palabras clave en el diccionario original presentan los valores en las primeras tres posiciones."
      ]
    },
    {
      "cell_type": "code",
      "execution_count": 10,
      "metadata": {},
      "outputs": [],
      "source": [
        "def prendas_mas_caras(**prendas:dict[str,float])->dict[str, float]:\n",
        "    \"\"\"\n",
        "    Funcion que recibe varias prendas como argumento clave-valor, y devuelve un un diccionario las tres con el precio más alto\n",
        "    \n",
        "    Inputs\n",
        "        prendas: dict[str, float] lista de prendas que serán n parametros de tipo clave-valor donde la clave es el nombre de la prenda y el valor es el precio\n",
        "    \n",
        "    Output:\n",
        "        diccionario con las 3 prendas más caras.\n",
        "     \n",
        "    \"\"\"\n",
        "    #creo una lista con los precios\n",
        "    lista_precios = list(prendas.values())\n",
        "    #creo una lista con el nombre de las prendas\n",
        "    lista_prendas = list(prendas.keys())\n",
        "    \n",
        "    #creo una lista ordenada descendentemente a partir de las lista de precios,\n",
        "    lista_precios_ordenados = sorted(lista_precios, reverse=True)\n",
        "    resultado = {}\n",
        "    #como puede darse el caso de que haya mas de una prenda con el mismo precio, \n",
        "    # ire guardando el precio anterior para saber si al buscar en la lisa de precios\n",
        "    # tengo que empezar a buscar desde la posicion inical o a continuar a partir del último elemento encontrado. \n",
        "    precio_anterior=-1\n",
        "    for precio in lista_precios_ordenados[0:3]:\n",
        "        \n",
        "        if precio==precio_anterior:\n",
        "            posicion = posicion + 1\n",
        "        else:\n",
        "            posicion = 0\n",
        "        \n",
        "        posicion = lista_precios.index(precio, posicion)\n",
        "        resultado[lista_prendas[posicion]]=precio\n",
        "        precio_anterior=precio\n",
        "    return resultado"
      ]
    },
    {
      "cell_type": "code",
      "execution_count": 11,
      "metadata": {},
      "outputs": [
        {
          "data": {
            "text/plain": [
              "{'abrigo': 55, 'camisa': 45.5, 'camiseta': 41.3}"
            ]
          },
          "execution_count": 11,
          "metadata": {},
          "output_type": "execute_result"
        }
      ],
      "source": [
        "prendas_mas_caras(camisa= 45.50, pantalones=35, camiseta=41.30, abrigo=55, calcetines=24)"
      ]
    },
    {
      "cell_type": "code",
      "execution_count": null,
      "metadata": {},
      "outputs": [
        {
          "data": {
            "text/plain": [
              "{'abrigo': 55, 'camisa': 45.5, 'camiseta': 45.5}"
            ]
          },
          "execution_count": 12,
          "metadata": {},
          "output_type": "execute_result"
        }
      ],
      "source": [
        "#varias prendas con el mismo precio\n",
        "prendas_mas_caras(camisa= 45.50, pantalones=35, camiseta=45.50, abrigo=55, calcetines=24)"
      ]
    },
    {
      "cell_type": "code",
      "execution_count": null,
      "metadata": {},
      "outputs": [
        {
          "data": {
            "text/plain": [
              "{'camisa': 45.5}"
            ]
          },
          "execution_count": 13,
          "metadata": {},
          "output_type": "execute_result"
        }
      ],
      "source": [
        "#menos de tres prendas\n",
        "prendas_mas_caras(camisa= 45.50)"
      ]
    },
    {
      "cell_type": "code",
      "execution_count": 14,
      "metadata": {},
      "outputs": [
        {
          "data": {
            "text/plain": [
              "{}"
            ]
          },
          "execution_count": 14,
          "metadata": {},
          "output_type": "execute_result"
        }
      ],
      "source": [
        "prendas_mas_caras()"
      ]
    },
    {
      "cell_type": "markdown",
      "metadata": {},
      "source": [
        "<h3>Ejercicio 4</h3>\n",
        "\n",
        "Diseñad una función que pida al usuario una dirección y sea capaz de extraer de cuantas palabras está compuesta y cuantos de los campos hacen referencia a números.\n",
        "\n",
        "* Ejemplo:\n",
        "    * input: _Urazurrutia Kalea, 3, Ibaiondo, 48003 Bilbo, Bizkaia_\n",
        "    * output: _La dirección está compuesta por 7 palabras de las cuales 2 son números._\n",
        "\n",
        "Tened cuidado con los signos de puntuación ( , . ) y en caso de tener campos compuestos ( 2A, 2ªDrch ) podéis asumirlos como palabra y no número. Mirad si el objeto str (string) tiene algún método que os pueda ayudar a identificar si una palabra es considerada un número si todos sus caracteres son numéricos."
      ]
    },
    {
      "cell_type": "code",
      "execution_count": 2,
      "metadata": {},
      "outputs": [
        {
          "name": "stdout",
          "output_type": "stream",
          "text": [
            "Dirección introducida: Eliz Atea, 8 4 B\n"
          ]
        },
        {
          "data": {
            "text/plain": [
              "'La dirección está compuesta por 5 palabras de las cuales 2 son números.'"
            ]
          },
          "execution_count": 2,
          "metadata": {},
          "output_type": "execute_result"
        }
      ],
      "source": [
        "#supongo que solo se cuentan los número enteros.\n",
        "\n",
        "def numero_palabras()->str:\n",
        "    \"\"\"\n",
        "     Función que pide al usuario una dirección y que extrae de esa dirección cuantas palabras hay y de esas palabras, cuantos son números.\n",
        "    \"\"\"\n",
        "    ESPACIO = \" \"\n",
        "    direccion = input(\"Indica tú dirección\")\n",
        "    print(\"Dirección introducida:\", direccion)\n",
        "    #hagos los siguientes cambios en el string:\n",
        "    # 1- reemplazo la \",\" por \" \". Le pongo un espacio por si acaso hay comas que no tienen espacio ni detrás ni delante\n",
        "    # 2- reemplazo el \".\" por \" \". Por lo mismo que la \",\"\n",
        "    direccion = direccion.replace(\",\",ESPACIO).replace(\".\",ESPACIO)\n",
        "    # Mientras haya dobles espacios, los reemplazo por un espacio. Hasta que todas las palabras solo tenga un espacio entre ellas\n",
        "    while direccion.find(ESPACIO*2)>0:\n",
        "        direccion = direccion.replace(ESPACIO*2,ESPACIO)\n",
        "    \n",
        "    #creo una lista de palabras separando la dirección por los espacios. Elimino antes posibles espacios al inicio y al final de la dirección.\n",
        "    lista_palabras = direccion.strip().split(ESPACIO)\n",
        "    \n",
        "    numeros = 0\n",
        "    for palabra in lista_palabras:\n",
        "        if palabra.isdecimal():\n",
        "            numeros += 1\n",
        "    return F\"La dirección está compuesta por {len(lista_palabras)} palabras de las cuales {numeros} son números.\"\n",
        "    \n",
        "numero_palabras()"
      ]
    }
  ],
  "metadata": {
    "colab": {
      "provenance": []
    },
    "kernelspec": {
      "display_name": ".venv",
      "language": "python",
      "name": "python3"
    },
    "language_info": {
      "codemirror_mode": {
        "name": "ipython",
        "version": 3
      },
      "file_extension": ".py",
      "mimetype": "text/x-python",
      "name": "python",
      "nbconvert_exporter": "python",
      "pygments_lexer": "ipython3",
      "version": "3.11.9"
    }
  },
  "nbformat": 4,
  "nbformat_minor": 0
}
