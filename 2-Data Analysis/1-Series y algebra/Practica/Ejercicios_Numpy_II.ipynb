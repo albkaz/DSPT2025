{
 "cells": [
  {
   "cell_type": "markdown",
   "metadata": {},
   "source": [
    "![imagen](./img/ejercicios.png)"
   ]
  },
  {
   "cell_type": "code",
   "execution_count": 1,
   "metadata": {},
   "outputs": [],
   "source": [
    "import numpy as np"
   ]
  },
  {
   "cell_type": "markdown",
   "metadata": {},
   "source": [
    "## Ejercicio 1\n",
    "1. Crea un array que vaya del 0 al 9 y que se llame `my_array`\n",
    "2. Imprime por pantalla los elementos [9 7 5 3 1] en ese orden."
   ]
  },
  {
   "cell_type": "code",
   "execution_count": 2,
   "metadata": {},
   "outputs": [
    {
     "name": "stdout",
     "output_type": "stream",
     "text": [
      "1. Crea un array que vaya del 0 al 9 y que se llame `my_array`:\n",
      " [0 1 2 3 4 5 6 7 8 9] \n",
      "\n",
      "2. Imprime por pantalla los elementos [9 7 5 3 1] en ese orden:\n",
      " [9 7 5 3 1]\n"
     ]
    }
   ],
   "source": [
    "import numpy as np\n",
    "my_array = np.arange(10)\n",
    "print(\"1. Crea un array que vaya del 0 al 9 y que se llame `my_array`:\\n\", my_array, \"\\n\")\n",
    "\n",
    "#son los elementos impares ordenados descendentemente\n",
    "nuevo_array = my_array[my_array % 2 != 0][::-1]\n",
    "print(\"2. Imprime por pantalla los elementos [9 7 5 3 1] en ese orden:\\n\",nuevo_array)\n",
    "\n"
   ]
  },
  {
   "cell_type": "markdown",
   "metadata": {},
   "source": [
    "## Ejercicio 2\n",
    "Imprime por pantalla la secuencia [8 7] del array `my_array`"
   ]
  },
  {
   "cell_type": "code",
   "execution_count": 3,
   "metadata": {},
   "outputs": [
    {
     "name": "stdout",
     "output_type": "stream",
     "text": [
      "Imprime por pantalla la secuencia [8 7] del array `my_array`\n",
      " [8 7] \n",
      "\n",
      "Imprime por pantalla la secuencia [8 7] del array `my_array`\n",
      " [8 7]\n"
     ]
    }
   ],
   "source": [
    "#por posicion\n",
    "print(\"Imprime por pantalla la secuencia [8 7] del array `my_array`\\n\",my_array[7:9][::-1],\"\\n\")\n",
    "\n",
    "#filtrado\n",
    "print(\"Imprime por pantalla la secuencia [8 7] del array `my_array`\\n\",my_array[(my_array>6) & (my_array<9)][::-1])"
   ]
  },
  {
   "cell_type": "markdown",
   "metadata": {},
   "source": [
    "## Ejercicio 3\n",
    "Imprime por pantalla la secuencia [2 1 0] de `my_array`"
   ]
  },
  {
   "cell_type": "code",
   "execution_count": 4,
   "metadata": {},
   "outputs": [
    {
     "name": "stdout",
     "output_type": "stream",
     "text": [
      "Imprime por pantalla la secuencia [2 1 0] de `my_array`\n",
      " [2 1 0]\n",
      "Imprime por pantalla la secuencia [2 1 0] de `my_array`\n",
      " [2 1 0]\n"
     ]
    }
   ],
   "source": [
    "#por posicion\n",
    "print(\"Imprime por pantalla la secuencia [2 1 0] de `my_array`\\n\",my_array[:3][::-1])\n",
    "\n",
    "#filtrado\n",
    "print(\"Imprime por pantalla la secuencia [2 1 0] de `my_array`\\n\",my_array[(my_array<3)][::-1])"
   ]
  },
  {
   "cell_type": "markdown",
   "metadata": {},
   "source": [
    "## Ejercicio 4\n",
    "1. Crea una matriz de 4x5, con una secuencia del 1 al 20\n",
    "2. Invierte totalmente la matriz. Tanto las filas, como las columnas"
   ]
  },
  {
   "cell_type": "code",
   "execution_count": 5,
   "metadata": {},
   "outputs": [
    {
     "name": "stdout",
     "output_type": "stream",
     "text": [
      "1. Crea una matriz de 4x5, con una secuencia del 1 al 20:\n",
      " [[ 1  2  3  4  5]\n",
      " [ 6  7  8  9 10]\n",
      " [11 12 13 14 15]\n",
      " [16 17 18 19 20]] \n",
      "\n",
      "2. Invierte totalmente la matriz. Tanto las filas, como las columnas:\n",
      " [[ 1  6 11 16]\n",
      " [ 2  7 12 17]\n",
      " [ 3  8 13 18]\n",
      " [ 4  9 14 19]\n",
      " [ 5 10 15 20]]\n"
     ]
    }
   ],
   "source": [
    "my_array = np.arange(1,21).reshape(4,5)\n",
    "print(\"1. Crea una matriz de 4x5, con una secuencia del 1 al 20:\\n\",my_array,\"\\n\")\n",
    "print(\"2. Invierte totalmente la matriz. Tanto las filas, como las columnas:\\n\",my_array.transpose())"
   ]
  },
  {
   "cell_type": "markdown",
   "metadata": {},
   "source": [
    "## Ejercicio 5\n",
    "\n",
    "Obtén el siguiente array, partiendo de la matriz del ejercicio 4\n",
    "```Python\n",
    "array([[1, 2],\n",
    "       [6, 7]])\n",
    "```"
   ]
  },
  {
   "cell_type": "code",
   "execution_count": 6,
   "metadata": {},
   "outputs": [
    {
     "data": {
      "text/plain": [
       "array([[1, 2],\n",
       "       [6, 7]])"
      ]
     },
     "execution_count": 6,
     "metadata": {},
     "output_type": "execute_result"
    }
   ],
   "source": [
    "\n",
    "my_array[0:2, 0:2].copy()"
   ]
  },
  {
   "cell_type": "markdown",
   "metadata": {},
   "source": [
    "## Ejercicio 6\n",
    "Obtén el siguiente array, partiendo de la matriz del ejercicio 4\n",
    "```Python\n",
    "array([[ 1,  3,  5],\n",
    "       [11, 13, 15]])\n",
    "```"
   ]
  },
  {
   "cell_type": "code",
   "execution_count": 7,
   "metadata": {},
   "outputs": [
    {
     "data": {
      "text/plain": [
       "array([[ 1,  3,  5],\n",
       "       [11, 13, 15]])"
      ]
     },
     "execution_count": 7,
     "metadata": {},
     "output_type": "execute_result"
    }
   ],
   "source": [
    "\n",
    "my_array[0::2, 0::2].copy()"
   ]
  },
  {
   "cell_type": "markdown",
   "metadata": {},
   "source": [
    "## Ejercicio 7\n",
    "Obtén el siguiente array, partiendo de la matriz del ejercicio 4\n",
    "```Python\n",
    "array([[ 5,  4,  3,  2,  1],\n",
    "       [10,  9,  8,  7,  6],\n",
    "       [15, 14, 13, 12, 11]])\n",
    "```"
   ]
  },
  {
   "cell_type": "code",
   "execution_count": 8,
   "metadata": {},
   "outputs": [
    {
     "data": {
      "text/plain": [
       "array([[ 5,  4,  3,  2,  1],\n",
       "       [10,  9,  8,  7,  6],\n",
       "       [15, 14, 13, 12, 11]])"
      ]
     },
     "execution_count": 8,
     "metadata": {},
     "output_type": "execute_result"
    }
   ],
   "source": [
    "my_array[0:3, ::-1].copy()"
   ]
  },
  {
   "cell_type": "markdown",
   "metadata": {},
   "source": [
    "## Ejercicio 8\n",
    "Dado el siguiente array:\n",
    "\n",
    "```Python\n",
    "x = np.array([\"Loro\", \"Perro\", \"Gato\", \"Loro\", \"Perro\"])\n",
    "```\n",
    "\n",
    "Filtra el array para quedarte únicamente con los loros.\n",
    "\n",
    "Resuélvelo de dos maneras diferentes"
   ]
  },
  {
   "cell_type": "code",
   "execution_count": 9,
   "metadata": {},
   "outputs": [
    {
     "name": "stdout",
     "output_type": "stream",
     "text": [
      "['Loro' 'Loro']\n"
     ]
    }
   ],
   "source": [
    "x = np.array([\"Loro\", \"Perro\", \"Gato\", \"Loro\", \"Perro\"])\n",
    "print(x[x==\"Loro\"])"
   ]
  },
  {
   "cell_type": "code",
   "execution_count": 10,
   "metadata": {},
   "outputs": [
    {
     "name": "stdout",
     "output_type": "stream",
     "text": [
      "['Loro' 'Loro']\n"
     ]
    }
   ],
   "source": [
    "print(np.extract(x==\"Loro\",x))"
   ]
  },
  {
   "cell_type": "markdown",
   "metadata": {},
   "source": [
    "## Ejercicio 9\n",
    "Crea una secuencia de 20 elementos y transfórmala en un array compuesto por 2 matrices de 5x2"
   ]
  },
  {
   "cell_type": "code",
   "execution_count": 11,
   "metadata": {},
   "outputs": [
    {
     "name": "stdout",
     "output_type": "stream",
     "text": [
      "[[[ 0  1]\n",
      "  [ 2  3]\n",
      "  [ 4  5]\n",
      "  [ 6  7]\n",
      "  [ 8  9]]\n",
      "\n",
      " [[10 11]\n",
      "  [12 13]\n",
      "  [14 15]\n",
      "  [16 17]\n",
      "  [18 19]]]\n"
     ]
    }
   ],
   "source": [
    "matriz = np.arange(20).reshape(2,5,2)\n",
    "print(matriz)"
   ]
  },
  {
   "cell_type": "markdown",
   "metadata": {},
   "source": [
    "## Ejercicio 10\n",
    "\n",
    "Crea un array de 10 0s. ¿Cuánto ocupa en memoria?\n",
    "\n",
    "Sustituye el 4to elemento por 1, e imprime el array por pantalla"
   ]
  },
  {
   "cell_type": "code",
   "execution_count": 12,
   "metadata": {},
   "outputs": [
    {
     "name": "stdout",
     "output_type": "stream",
     "text": [
      "Tamaño en memoria 10 \n",
      "\n",
      "Array: [0 0 0 1 0 0 0 0 0 0] \n",
      "\n",
      "Tamaño en memoria 10 \n",
      "\n"
     ]
    }
   ],
   "source": [
    "zeros = np.zeros(10, dtype=np.int8)\n",
    "print('Tamaño en memoria',zeros.nbytes,\"\\n\")\n",
    "zeros[3]=1\n",
    "print(\"Array:\",zeros,\"\\n\")\n",
    "print('Tamaño en memoria',zeros.nbytes,\"\\n\")"
   ]
  },
  {
   "cell_type": "markdown",
   "metadata": {},
   "source": [
    "## Ejercicio 11\n",
    "\n",
    "Crea un vector que vaya del 10 al 49\n",
    "\n",
    "Inviértelo"
   ]
  },
  {
   "cell_type": "code",
   "execution_count": 13,
   "metadata": {},
   "outputs": [
    {
     "name": "stdout",
     "output_type": "stream",
     "text": [
      "Crea un vector que vaya del 10 al 49\n",
      " [10 11 12 13 14 15 16 17 18 19 20 21 22 23 24 25 26 27 28 29 30 31 32 33\n",
      " 34 35 36 37 38 39 40 41 42 43 44 45 46 47 48 49] \n",
      "\n",
      "Inviértelo:\n",
      " [49 48 47 46 45 44 43 42 41 40 39 38 37 36 35 34 33 32 31 30 29 28 27 26\n",
      " 25 24 23 22 21 20 19 18 17 16 15 14 13 12 11 10]\n"
     ]
    }
   ],
   "source": [
    "#usando solo numpy\n",
    "vector = np.arange(10,50)\n",
    "print(\"Crea un vector que vaya del 10 al 49\\n\", vector, \"\\n\")\n",
    "print(\"Inviértelo:\\n\", vector[::-1])"
   ]
  },
  {
   "cell_type": "code",
   "execution_count": 14,
   "metadata": {},
   "outputs": [
    {
     "name": "stdout",
     "output_type": "stream",
     "text": [
      "Crea un vector que vaya del 10 al 49\n",
      " [10 11 12 13 14 15 16 17 18 19 20 21 22 23 24 25 26 27 28 29 30 31 32 33\n",
      " 34 35 36 37 38 39 40 41 42 43 44 45 46 47 48 49] \n",
      "\n",
      "Inviértelo:\n",
      " [49 48 47 46 45 44 43 42 41 40 39 38 37 36 35 34 33 32 31 30 29 28 27 26\n",
      " 25 24 23 22 21 20 19 18 17 16 15 14 13 12 11 10]\n"
     ]
    }
   ],
   "source": [
    "#usando pandas y numpy\n",
    "import pandas as pd\n",
    "vector = pd.Series(np.arange(10,50))\n",
    "print(\"Crea un vector que vaya del 10 al 49\\n\", vector.values, \"\\n\")\n",
    "print(\"Inviértelo:\\n\",vector.sort_values(ascending=False).values)"
   ]
  },
  {
   "cell_type": "markdown",
   "metadata": {},
   "source": [
    "## Ejercicio 12\n",
    "Encuentra los índices de los valores que no sean 0 del siguiente vector [1,2,0,0,4,0]. El output sería [0, 1, 4]. [Encuentra el método apropiado en la documentación.](https://numpy.org/doc/) Encapsúlalo en una función, con un argumento de entrada de un vector."
   ]
  },
  {
   "cell_type": "code",
   "execution_count": 15,
   "metadata": {},
   "outputs": [
    {
     "name": "stdout",
     "output_type": "stream",
     "text": [
      "[0 1 4]\n"
     ]
    }
   ],
   "source": [
    "# Utilizando el nonzero del tipo ndarray.\n",
    "# Devuelve una tupla con la lista de los indices cuyos valores no sean 0. El número de elementos de la tupla es la dimesión de la matriz\n",
    "# Como es un vector, tiene una dimensión y, la tupla solo tendrá un elemento de tipo array con las posiciones cuyo valor es distinto de cero.\n",
    "def return_vector_non_zero_values(*vector:dict[np.ndarray])->np.ndarray:\n",
    "    \"\"\" \n",
    "    Dado un vector, función que devuelve los indices de los valores distintos a 0\n",
    "    \n",
    "    Input:\n",
    "        vector: ndarray\n",
    "    \"\"\"\n",
    "    return np.array(vector).nonzero()[0]\n",
    "\n",
    "\n",
    "print(return_vector_non_zero_values(1,2,0,0,4,0))"
   ]
  },
  {
   "cell_type": "code",
   "execution_count": 16,
   "metadata": {},
   "outputs": [],
   "source": [
    "#utilizando el flatnonzero de la libreria numpy. Devuelve todos los valores en un vector, sin separarlos por dimensión\n",
    "def return_vector_non_zero_values(*vector:tuple[np.array])->np.array:\n",
    "    \"\"\" \n",
    "    Dado un vector, función que devuelve los indices de los valores distintos a 0\n",
    "    \n",
    "    Input:\n",
    "        vector: ndarray\n",
    "    \"\"\"\n",
    "    return np.flatnonzero(np.array(vector))\n",
    "\n",
    "\n",
    "\n",
    "# print(return_vector_non_zero_values(1,2,0,0,4,0))\n",
    "vector = np.array([[1,2,3,4], [0,0,0,0]])"
   ]
  },
  {
   "attachments": {},
   "cell_type": "markdown",
   "metadata": {},
   "source": [
    "## Ejercicio 13\n",
    "Crea una matriz de números aleatorios 10x10. Encuentra los valores mínimo y máximo."
   ]
  },
  {
   "cell_type": "code",
   "execution_count": 17,
   "metadata": {},
   "outputs": [
    {
     "name": "stdout",
     "output_type": "stream",
     "text": [
      "Matriz_aletaria:\n",
      " [[ 58  80 169  44  95 115 125  78 145 112]\n",
      " [139 100 106 138  11  82 104 196  21 128]\n",
      " [100 152   4  80 129 117  46 125  22  30]\n",
      " [130  84 147 105 140 113  33 152 176 106]\n",
      " [ 49   5  31 169  14   2 117  38 124  96]\n",
      " [ 52  34   6 151 101   4  15  99 188 190]\n",
      " [ 44   6 108  74  51 193 158 164 144  19]\n",
      " [ 75 181   0  72 139  36  64  48 163 138]\n",
      " [145 192  11  92 185 101 121  10 191  21]\n",
      " [ 54  16 138 170  97 167  52 155  98 145]]\n",
      "Minimo 0\n",
      "Máximo 196\n"
     ]
    }
   ],
   "source": [
    "np.random.seed(35454)\n",
    "matriz_aletaria = np.random.randint(200, size=(10,10))\n",
    "print(\"Matriz_aletaria:\\n\", matriz_aletaria)\n",
    "matriz_aletaria.min()\n",
    "print(\"Minimo\",matriz_aletaria.min())\n",
    "print(\"Máximo\",matriz_aletaria.max())"
   ]
  },
  {
   "cell_type": "markdown",
   "metadata": {},
   "source": [
    "## Ejercicio 14\n",
    "Crea un vector aleatorio de tamaño 30 y calcula su media"
   ]
  },
  {
   "cell_type": "code",
   "execution_count": 18,
   "metadata": {},
   "outputs": [
    {
     "name": "stdout",
     "output_type": "stream",
     "text": [
      "Vector_aletario:\n",
      " [ 570 2729 5235 9947  125 6801 1904 4491 1515 7018 6026 3339 1106 5736\n",
      " 1988 5141  152 8272 6525 1814 8834 1620 7564 3557 1137 8993 1518 6552\n",
      "  467 5082]\n",
      "Media 4191.933333333333\n",
      "Media 4191.933333333333\n",
      "Media 4191.933333333333\n"
     ]
    }
   ],
   "source": [
    "np.random.seed(35454)\n",
    "vector_aletario = np.random.randint(10000, size=(30))\n",
    "print(\"Vector_aletario:\\n\", vector_aletario)\n",
    "\n",
    "#media usando metodo de ndarray\n",
    "print(\"Media\",vector_aletario.mean())\n",
    "\n",
    "#media calculando pero usando metodos de ndarray para obtener valores\n",
    "print(\"Media\",vector_aletario.sum()/vector_aletario.size)\n",
    "\n",
    "#media usando funciones de python\n",
    "print(\"Media\",sum(vector_aletario)/len(vector_aletario))\n"
   ]
  },
  {
   "cell_type": "markdown",
   "metadata": {},
   "source": [
    "## Ejercicio 15\n",
    "Crea un array cuadrado de 2D, con las dimensiones que quieras, pero que todo el borde esté compuesto por 1s, y el interior por 0s"
   ]
  },
  {
   "cell_type": "code",
   "execution_count": 19,
   "metadata": {},
   "outputs": [
    {
     "name": "stdout",
     "output_type": "stream",
     "text": [
      "[[1 1 1 1 1 1]\n",
      " [1 0 0 0 0 1]\n",
      " [1 0 0 0 0 1]\n",
      " [1 0 0 0 0 1]\n",
      " [1 0 0 0 0 1]\n",
      " [1 1 1 1 1 1]] \n",
      "\n",
      "[[1 1 1 1 1 1]\n",
      " [1 0 0 0 0 1]\n",
      " [1 0 0 0 0 1]\n",
      " [1 0 0 0 0 1]\n",
      " [1 0 0 0 0 1]\n",
      " [1 1 1 1 1 1]]\n"
     ]
    }
   ],
   "source": [
    "\n",
    "orden = 6\n",
    "\n",
    "#creo una array cuadrado con todos los valores a 0 \n",
    "matriz = np.zeros(shape=(orden,orden), dtype=np.int8)   \n",
    "matriz[0]=1 #pongo a 1 la fila 0\n",
    "matriz[matriz.shape[0]-1]=1 #pongo a 1 la última fila\n",
    "matriz[:,0]=1 #pongo a 1 la columna 0\n",
    "matriz[:, matriz.shape[0]-1]=1 #pongo a 1 la última columna\n",
    "print(matriz, \"\\n\")\n",
    "\n",
    "matriz = pd.DataFrame(np.zeros(shape=(orden,orden), dtype=np.int8))\n",
    "matriz[matriz.columns.start]=1 #pongo a 1 la primera columna\n",
    "matriz[matriz.columns.stop-1]=1  #pongo a 1 la última columna\n",
    "matriz.loc[matriz.index.start]=1 #pongo a 1 la primera fila\n",
    "matriz.loc[matriz.index.stop-1]=1 #pongo a 1 la última fila\n",
    "print(matriz.values)\n",
    "\n"
   ]
  },
  {
   "cell_type": "markdown",
   "metadata": {},
   "source": [
    "## Ejercicio 16\n",
    "Crea una matriz de 8x8, y rellénala con 0s y 1s. Tienes que replicar:\n",
    "```Python\n",
    "[[0 1 0 1 0 1 0 1]\n",
    " [1 0 1 0 1 0 1 0]\n",
    " [0 1 0 1 0 1 0 1]\n",
    " [1 0 1 0 1 0 1 0]\n",
    " [0 1 0 1 0 1 0 1]\n",
    " [1 0 1 0 1 0 1 0]\n",
    " [0 1 0 1 0 1 0 1]\n",
    " [1 0 1 0 1 0 1 0]]\n",
    "```"
   ]
  },
  {
   "cell_type": "code",
   "execution_count": 26,
   "metadata": {},
   "outputs": [
    {
     "name": "stdout",
     "output_type": "stream",
     "text": [
      "Posiciones secuenciales en la matriz 8x8\n",
      " [[ 0  1  2  3  4  5  6  7]\n",
      " [ 8  9 10 11 12 13 14 15]\n",
      " [16 17 18 19 20 21 22 23]\n",
      " [24 25 26 27 28 29 30 31]\n",
      " [32 33 34 35 36 37 38 39]\n",
      " [40 41 42 43 44 45 46 47]\n",
      " [48 49 50 51 52 53 54 55]\n",
      " [56 57 58 59 60 61 62 63]] \n",
      "\n",
      "Matriz 1x8\n",
      " [[0]\n",
      " [1]\n",
      " [0]\n",
      " [1]\n",
      " [0]\n",
      " [1]\n",
      " [0]\n",
      " [1]] \n",
      "\n",
      "Resultado suma de las matrices\n",
      " [[ 0  1  2  3  4  5  6  7]\n",
      " [ 9 10 11 12 13 14 15 16]\n",
      " [16 17 18 19 20 21 22 23]\n",
      " [25 26 27 28 29 30 31 32]\n",
      " [32 33 34 35 36 37 38 39]\n",
      " [41 42 43 44 45 46 47 48]\n",
      " [48 49 50 51 52 53 54 55]\n",
      " [57 58 59 60 61 62 63 64]] \n",
      "\n",
      "Matriz cuadrada alterna:\n",
      " [[0 1 0 1 0 1 0 1]\n",
      " [1 0 1 0 1 0 1 0]\n",
      " [0 1 0 1 0 1 0 1]\n",
      " [1 0 1 0 1 0 1 0]\n",
      " [0 1 0 1 0 1 0 1]\n",
      " [1 0 1 0 1 0 1 0]\n",
      " [0 1 0 1 0 1 0 1]\n",
      " [1 0 1 0 1 0 1 0]]\n"
     ]
    }
   ],
   "source": [
    "\n",
    "def matriz_cuadrada_alterna(orden:int)->np.ndarray:\n",
    "    \"\"\" \n",
    "    Dado un orden, devuelve una matriz cuadrada con los valores alternos 0-1\n",
    "    Ejemplo de resultado con orden=4\n",
    "    [\n",
    "        [0, 1, 0, 1],\n",
    "        [1, 0, 1, 0],\n",
    "        [0, 1, 0, 1],\n",
    "        [1, 0, 1, 0]\n",
    "    ]\n",
    "    \n",
    "    Inputs:\n",
    "        orden: int orden de la matriz cuadrada\n",
    "        \n",
    "    Outputs:\n",
    "        matriz: ndarray\n",
    "    \"\"\"\n",
    "    # Voy a sacar el 1 ó 0 a partir del modulo dividiendo la posición entre 2 (par vs impar)\n",
    "    # Daré un valor a cada celda que será la posicion secuencial en la matriz orden x orden\n",
    "    # Es una secuencia del 0 al orden^2-1, que será la posicion secuencial para todos los elementos\n",
    "    secuencia_inicial = np.arange(orden**2).reshape(orden,orden)\n",
    "    print(f\"Posiciones secuenciales en la matriz {orden}x{orden}\\n\", secuencia_inicial, \"\\n\")\n",
    "\n",
    "    # En función del número de columnas, el inicio de las filas impares tiene que ser un valor par o impar.\n",
    "    # Voy a crear una matriz de 2 dimensiones 1 x orden que tendrá los valores 0 o 1.\n",
    "    # En las filas pares tenrá el valor 0 y en los impares 1 si el orden es par y 0 si el orden es impar\n",
    "    # así, cuando el orden es par sumamos un 1 a los elementos del vector de las filas impares.\n",
    "    vector_suma_impares = np.zeros(orden, dtype=np.int8) # vector de \"orden\" con valores a 0\n",
    "    vector_suma_impares[1::2] = (orden+1) % 2 # modicamos los valores en las posiciones impares para que valga 1 si el orden es par.\n",
    "    matriz_suma_impares = vector_suma_impares.reshape(-1,1) # creamos una matriz de 1 x orden a partur del vector anterior\n",
    "    \n",
    "    print(F\"Matriz 1x{orden}\\n\", matriz_suma_impares, \"\\n\")\n",
    "    \n",
    "    \n",
    "    # Sumo la nueva matriz a la matriz secuencia_inicial y así se modificarán los elementos por fila,\n",
    "    # sumando el único valor de la fila de la matriz matriz_orden a cada uno de los elementos de la fila de la matriz secuencia_inicial\n",
    "    matriz_secuencia_alterna = secuencia_inicial + matriz_suma_impares\n",
    "\n",
    "    # ahora ya tengo una matriz donde hay \"orden\" filas y \"orden\" columnas\n",
    "    # donde los valores de las columnas en cada fila son consecutivos (al dividir entre 2 el modulo me dará 1 ó 0)\n",
    "    # y el número inicial de la columna por cada fila es par/impar consecutivamente.    \n",
    "    print(F\"Resultado suma de las matrices\\n\", matriz_secuencia_alterna, \"\\n\")\n",
    "    \n",
    "    # saco el modulo de la division entre 2 para toda la matriz\n",
    "    return matriz_secuencia_alterna % 2\n",
    "\n",
    "\n",
    "\n",
    "print(\"Matriz cuadrada alterna:\\n\", matriz_cuadrada_alterna(8))\n",
    "\n"
   ]
  },
  {
   "cell_type": "markdown",
   "metadata": {},
   "source": [
    "## Ejercicio 17\n",
    "Replica la matriz del apartado anterior, pero en este caso usando [la función `tile`](https://numpy.org/doc/stable/reference/generated/numpy.tile.html)"
   ]
  },
  {
   "cell_type": "code",
   "execution_count": 52,
   "metadata": {},
   "outputs": [
    {
     "name": "stdout",
     "output_type": "stream",
     "text": [
      "[[0 1 0 1 0 1 0 1]\n",
      " [1 0 1 0 1 0 1 0]\n",
      " [0 1 0 1 0 1 0 1]\n",
      " [1 0 1 0 1 0 1 0]\n",
      " [0 1 0 1 0 1 0 1]\n",
      " [1 0 1 0 1 0 1 0]\n",
      " [0 1 0 1 0 1 0 1]\n",
      " [1 0 1 0 1 0 1 0]]\n"
     ]
    }
   ],
   "source": [
    "a = np.array([[0,1], [1,0]])\n",
    "print(np.tile(a, (4,4)))"
   ]
  },
  {
   "cell_type": "markdown",
   "metadata": {},
   "source": [
    "## Ejercicio 18\n",
    "Crea una matriz aleatoria de 5x5 y normaliza sus valores. Para normalizar tienes que restar sus valores por la media(`np.mean`) y dividir el resultado por la desviación estándar(`np.std`)."
   ]
  },
  {
   "cell_type": "code",
   "execution_count": 22,
   "metadata": {},
   "outputs": [
    {
     "name": "stdout",
     "output_type": "stream",
     "text": [
      "Matriz con valores aleatorios:\n",
      " [[ 9  3  5  5  0]\n",
      " [ 7 14 17  7 13]\n",
      " [14 12  4  0  9]\n",
      " [ 3  0 17  0  6]\n",
      " [ 8  8  9 18  7]] \n",
      "\n",
      "Media 7.8 \n",
      "\n",
      "Desviación 5.381449618829484 \n",
      "\n",
      "Matriz normalizada:\n",
      " [[ 0.22298824 -0.89195298 -0.5203059  -0.5203059  -1.44942359]\n",
      " [-0.14865883  1.15210593  1.70957654 -0.14865883  0.96628239]\n",
      " [ 1.15210593  0.78045885 -0.70612944 -1.44942359  0.22298824]\n",
      " [-0.89195298 -1.44942359  1.70957654 -1.44942359 -0.33448237]\n",
      " [ 0.03716471  0.03716471  0.22298824  1.89540007 -0.14865883]]\n"
     ]
    }
   ],
   "source": [
    "np.random.seed(31312)\n",
    "matriz = np.random.randint(20, size=(5,5))\n",
    "print(\"Matriz con valores aleatorios:\\n\",matriz,\"\\n\")\n",
    "media = np.mean(matriz)\n",
    "print(\"Media\",media,\"\\n\")\n",
    "desviacion = np.std(matriz)\n",
    "print(\"Desviación\",desviacion,\"\\n\")\n",
    "print(\"Matriz normalizada:\\n\", (matriz-media)/desviacion)\n"
   ]
  },
  {
   "cell_type": "markdown",
   "metadata": {},
   "source": [
    "## Ejercicio 19\n",
    "1. Crea una secuencia de números que vayan del 0 al 10.\n",
    "2. Crea un nuevo array, que parta del anterior, pero sustituya por el valor -1, todos los elementos cuyo valor se encuentre entre el 3 y el 8.\n",
    "3. Crea un nuevo array que niegue todos los elementos entre el 3 y el 8"
   ]
  },
  {
   "cell_type": "code",
   "execution_count": 23,
   "metadata": {},
   "outputs": [
    {
     "name": "stdout",
     "output_type": "stream",
     "text": [
      "1.Secuencia:\n",
      " [ 0  1  2  3  4  5  6  7  8  9 10] \n",
      "\n",
      "2. Crea un nuevo array, que parta del anterior, pero sustituya por el valor -1, todos los elementos cuyo valor se encuentre entre el 3 y el 8.\n",
      " [ 0  1  2 -1 -1 -1 -1 -1 -1  9 10] \n",
      "\n",
      "3. Crea un nuevo array que niegue todos los elementos entre el 3 y el 8:\n",
      " [ 0  0  0 -3 -4 -5 -6 -7 -8  0  0] \n",
      "\n",
      "Compruebo que la suma del vector y el vector inverso tiene valor 0 en los elementos filtrados. El resto de valores del vector los dejo igual:\n",
      " [ 0  1  2  0  0  0  0  0  0  9 10] \n",
      "\n"
     ]
    }
   ],
   "source": [
    "#1\n",
    "vector = np.arange(11)\n",
    "print(\"1.Secuencia:\\n\", vector,\"\\n\")\n",
    "\n",
    "#creo el patrón con la concicion que voy a aplicar al filtrar: valores entre el 3 y el 8\n",
    "#la he creado en una variable porque se va a utilizar más de una vez, sino, se podría poner directamente en la sentencia de filtrado.\n",
    "patron_filtrado = (vector > 2) & (vector < 9)\n",
    "\n",
    "\n",
    "#2\n",
    "nuevo_vector= np.where(patron_filtrado, -1, vector).copy()\n",
    "print(\"2. Crea un nuevo array, que parta del anterior, pero sustituya por el valor -1, todos los elementos cuyo valor se encuentre entre el 3 y el 8.\\n\", nuevo_vector,\"\\n\")\n",
    "\n",
    "#3\n",
    "#supongo que obtener la negación es el valor que al sumar con valor de la matriz inicial tiene que dar 0\n",
    "#voy a multiplicar por -1 los valores que hemos filtrado.\n",
    "#el resto de valores del vector los pondré a cero para que no modifiquen al sumar\n",
    "np.invert(vector).copy()\n",
    "vector_negado = np.where(patron_filtrado, vector*-1, np.zeros(11, dtype=np.int8)).copy()\n",
    "print(\"3. Crea un nuevo array que niegue todos los elementos entre el 3 y el 8:\\n\", vector_negado, \"\\n\")\n",
    "\n",
    "print(\"Compruebo que la suma del vector y el vector inverso tiene valor 0 en los elementos filtrados. El resto de valores del vector los dejo igual:\\n\", vector + vector_negado , \"\\n\")\n"
   ]
  }
 ],
 "metadata": {
  "kernelspec": {
   "display_name": ".venv",
   "language": "python",
   "name": "python3"
  },
  "language_info": {
   "codemirror_mode": {
    "name": "ipython",
    "version": 3
   },
   "file_extension": ".py",
   "mimetype": "text/x-python",
   "name": "python",
   "nbconvert_exporter": "python",
   "pygments_lexer": "ipython3",
   "version": "3.11.9"
  }
 },
 "nbformat": 4,
 "nbformat_minor": 4
}
